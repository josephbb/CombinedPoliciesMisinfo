{
 "cells": [
  {
   "cell_type": "markdown",
   "id": "8b0ce757",
   "metadata": {},
   "source": [
    "<h1>Combining Interventions to reduce the spread of misinformation online: Data</h1>"
   ]
  },
  {
   "cell_type": "code",
   "execution_count": 17,
   "id": "7ea9a828",
   "metadata": {},
   "outputs": [],
   "source": [
    "%%capture\n",
    "!pip install fastparquet\n",
    "!pip install pandarallel\n",
    "!pip install pyarrow"
   ]
  },
  {
   "cell_type": "code",
   "execution_count": 18,
   "id": "c2843da5",
   "metadata": {},
   "outputs": [
    {
     "name": "stdout",
     "output_type": "stream",
     "text": [
      "The autoreload extension is already loaded. To reload it, use:\n",
      "  %reload_ext autoreload\n"
     ]
    }
   ],
   "source": [
    "#Set up environment\n",
    "from tqdm.notebook import trange, tqdm\n",
    "import pickle\n",
    "import src.utils as srcu\n",
    "import src.segmentation as srcseg\n",
    "import pandas as pd\n",
    "from pandarallel import pandarallel\n",
    "import numpy as np\n",
    "#Set up parallel processing\n",
    "pandarallel.initialize(nb_workers=8,\n",
    "                       verbose=True,progress_bar=True,use_memory_fs=None)\n",
    "tqdm.pandas()\n",
    "\n",
    "#Make sure things reload\n",
    "%load_ext autoreload\n",
    "%autoreload 2\n",
    "\n",
    "#Set up directories\n",
    "root = '.'\n",
    "srcu.create_output_directories(root)"
   ]
  },
  {
   "cell_type": "markdown",
   "id": "7392ad22",
   "metadata": {},
   "source": [
    "<h2>Pull data and segment events</h2>"
   ]
  },
  {
   "cell_type": "markdown",
   "id": "90d8b308",
   "metadata": {},
   "source": [
    "<h3>Pull</h3>"
   ]
  },
  {
   "cell_type": "code",
   "execution_count": 19,
   "id": "5503bd1a",
   "metadata": {},
   "outputs": [],
   "source": [
    "#Gather list of incidents \n",
    "import src.database as sdb\n",
    "engine = sdb.get_engine('/home/joebak/Misc/venus_cred.txt')\n",
    "incidents = sdb.list_incidents(engine)"
   ]
  },
  {
   "cell_type": "code",
   "execution_count": 20,
   "id": "eca7ba36",
   "metadata": {
    "tags": []
   },
   "outputs": [
    {
     "data": {
      "text/plain": [
       "array(['ballot box: Collecting After Election',\n",
       "       'ballot box: Fire Baldwin Park',\n",
       "       'ballot box: Franklin County Police', 'ballot box: MA fire',\n",
       "       'ballot box: Observe Boxes', 'ballot box: PA Civilian Removal',\n",
       "       'ballot box: Trash Can Disguise',\n",
       "       'ballot harvesting: Baltimore elderly votes',\n",
       "       'Ballot harvesting: Baltimore elderly votes',\n",
       "       'ballot harvesting: Biden Texas Director',\n",
       "       'Ballot harvesting: Biden Texas Director',\n",
       "       'ballot harvesting: Granny farming ',\n",
       "       'ballot harvesting: Ilhan Omar Project Veritas Video ',\n",
       "       'ballot harvesting: Lebron/Bloomberg',\n",
       "       'ballot harvesting: Michigan Union',\n",
       "       'Ballot harvesting: Minnesota Somali voters',\n",
       "       'ballot harvesting: new Michigan law',\n",
       "       'ballot harvesting: Paid 500 to vote',\n",
       "       'Ballot harvesting: Reseda, California',\n",
       "       'Ballot harvesting: San Antonio',\n",
       "       'Ballot harvesting: Texas ballot chasers',\n",
       "       'ballot harvesting: Washington state',\n",
       "       'ballot harvesting: Washington State Wrong Addresses',\n",
       "       'ballot stuffing: CT fraud', 'ballot stuffing: Don Jr Trump Army',\n",
       "       'ballot stuffing: Emergency Vote Boxes',\n",
       "       'ballot stuffing: MI ballots not on voter rolls',\n",
       "       'ballot stuffing: MI Van Votes',\n",
       "       'ballot stuffing: MI wagons suitcases and coolers',\n",
       "       'ballot stuffing: NJ poll watcher',\n",
       "       'ballot stuffing: No down ticket',\n",
       "       'ballot stuffing: Short Lines Fraud',\n",
       "       'ballot stuffing: VA magic ballots', 'civil war: Anglin Get Ready',\n",
       "       'civil war: general ticket', 'coup: color revolution',\n",
       "       'coup: DC Shutdown', 'coup: Democratic Security',\n",
       "       'coup: Frozen Election', 'coup: Leftist Major Cities Coup',\n",
       "       'coup: NV Early Call Coup', 'coup: SECDEF Threat',\n",
       "       'coup: sunrise movement', 'dead voters: 1900-01-01 birthday',\n",
       "       'dead voters: 350K on voter rolls', 'dead voters: FL dead wife',\n",
       "       'dead voters: FL registration attempt',\n",
       "       'dead voters: general ticket',\n",
       "       'dead voters: huckabee votes for dead relatives',\n",
       "       'dead voters: Jason D. Dawdy', 'dead voters: list of 100+',\n",
       "       'dead voters: NY post ballots', 'dead voters: oregon friend',\n",
       "       'dead voters: registering thousands of dead voters',\n",
       "       'dead voters: southfront article', 'dead voters: team trump',\n",
       "       'dead voters: TX registrations',\n",
       "       'dead voters: voters in their 170s',\n",
       "       'dead voters: William Bradeley', 'Digital dumps: AARP Aggregate',\n",
       "       'Digital dumps: Fairfax 100,000 ballots',\n",
       "       'Digital dumps: Germany Ambassador',\n",
       "       'Digital dumps: Jim Holt WI Dumps',\n",
       "       'Digital dumps: Jo Jorgensen PA',\n",
       "       'Digital dumps: Michigan 128,000 votes',\n",
       "       'False Victory: AZ early FB Call', 'False Victory: Early FL Call',\n",
       "       'False Victory: Eric Trump Calls PA',\n",
       "       'False Victory: Facebook Labeling of PA Call',\n",
       "       'False Victory: GA called for Trump',\n",
       "       'False Victory: MO early call',\n",
       "       'False Victory: Murphy Call for Booker',\n",
       "       'False Victory: NC Early Call', 'False Victory: OAN Trump Won',\n",
       "       'False Victory: PA Attorney General Calls Election',\n",
       "       'False Victory: PA early calls',\n",
       "       'False Victory: President Elect Status Revoked',\n",
       "       'False Victory: RealClearPolitics Rescinds Call of PA',\n",
       "       'False Victory: Tillis Early Call',\n",
       "       'False Victory: Varitimos Declaration for Trump Win',\n",
       "       'False Victory: WI SOS Website Results', 'Georgia scam',\n",
       "       'Ineligible Voters: CT Registered Voters',\n",
       "       'Ineligible Voters: Illegal Immigrant Registrations',\n",
       "       'ineligible voters: nv residency violations',\n",
       "       'Ineligible Voters: TX Illegal Voters',\n",
       "       'Ineligible Voters: Undocumented WA',\n",
       "       'Ineligible Voters: WA Ineligible Sister',\n",
       "       'In Person Fraud: Blind Relatives', 'In Person Fraud: CT ID Laws',\n",
       "       'In Person Fraud: Mongomery Maryland',\n",
       "       'In Person Fraud: OHare Airport',\n",
       "       'In Person Fraud: Seattle No Verification',\n",
       "       ' intimdation: Trump Chanting',\n",
       "       'intimidation: BLM/Antifa Intimidation Plans',\n",
       "       'intimidation: blue dots', 'intimidation: CA BLM protest',\n",
       "       'intimidation: Devin Nunes Mobile Home Fire',\n",
       "       'intimidation: FL Antifa and Loomer',\n",
       "       'intimidation: FL bomb threat', 'intimidation: FL sherrif',\n",
       "       'intimidation: FL trump police officer',\n",
       "       'intimidation: MI poll watchers', 'intimidation: NC BLM',\n",
       "       'intimidation: NY long island',\n",
       "       'intimidation: OH pro-life protesters',\n",
       "       'intimidation: OH Trump Supporters Block Polls',\n",
       "       'intimidation: PA armed men confront vote counter',\n",
       "       'intimidation: PA State Constable',\n",
       "       'intimidation: Proud Boys Email',\n",
       "       'intimidation: SC pink hair scream', 'intimidation: threat letter',\n",
       "       'intimidation: trump calls for monitors',\n",
       "       'intimidation: Warning of Violence Agians POC/LGBTQ',\n",
       "       'intimidation: woman mobbed by trump supporters',\n",
       "       'Judicial Watch alleges stolen election',\n",
       "       'Late: Allegheny Not Stamping', 'Late: Extended Ballots',\n",
       "       'Late: NC Stolen', 'Late: OK Ballots Found',\n",
       "       'Late: PA Late Ballots', 'Late: USPS Driver',\n",
       "       'lost: AZ rock ballots', 'lost: Biden truck ballots',\n",
       "       'lost: CA dumpster', 'lost: CA stolen ballots', 'lost: CT dumped',\n",
       "       'lost: CT under bridge', 'lost: desert ballots',\n",
       "       'lost: FL shredded ballots', 'lost: GA found in dumpster',\n",
       "       'lost: Harris County', 'lost: KY dumped ballots',\n",
       "       'lost: LA,TX dumpster ballots', 'lost: MA primary ballots',\n",
       "       'lost: multistate dumped ballots',\n",
       "       'lost: multistate thrown ballots', 'lost: NJ dumpster',\n",
       "       'lost: NJ Mail Photo', 'lost: NV trash ballots', 'lost: OH 2014',\n",
       "       'lost: OH river ballot boxes', 'lost: OH thrown ballots',\n",
       "       'lost: PA 300-500k', 'lost: PA 9 discarded',\n",
       "       'lost: PA,GA dumpster ballots',\n",
       "       'lost: PA shredded ballot applications',\n",
       "       'lost: VA 60k undelivered ballots', 'lost: VA burned ballots',\n",
       "       'lost: WA harvestable ballots', 'lost: WA stolen ballots',\n",
       "       'lost: WA thrown ballots', 'lost: WI ditch ballots',\n",
       "       'Machines: Changed Vote TX', 'Machines: ES&S Touchscreens',\n",
       "       'Machines: Franklin/Spalding County Hack',\n",
       "       'Machines: generic with dem steal', 'Machines: Ivanka patent',\n",
       "       'Machines: Louisiana Changed Votes', 'Machines: MI Power Outages',\n",
       "       'Machines: No Ink Green Bay', 'Machines: NYC Broken',\n",
       "       'Machines: OH Breakdowns', 'Machines: Old Machines',\n",
       "       'Machines: Pre-Programmed 2016', 'Machines: Scranton Disruptions',\n",
       "       'Machines: Westmoreland machines down', ': maidengate',\n",
       "       'MI and PA dead voting list',\n",
       "       'Other: Allegheny County Family Votes for each other',\n",
       "       'Other: AZ Fraud Claims', 'Other: Ballot Fraud Ballots in Bins',\n",
       "       'Other: Ballot Fraud Poll Watcher Votes',\n",
       "       'Other: Candidate Fraud Biden App',\n",
       "       'Other: Candidate Fraud Biden Fraud Quote',\n",
       "       'Other: Candidate Fraud Hannity Misquote',\n",
       "       'Other: Candidate Fraud Newsom Voting',\n",
       "       'Other: DeKalb Rejected Ballots',\n",
       "       'Other: Delaware County Election Results',\n",
       "       \"Other: drive through voting illegal driver's licenses\",\n",
       "       'Other: Fort Russ Disinformation',\n",
       "       'Other: Fulton County Water Pipe',\n",
       "       'Other: Manufactured/Stolen Early Votes',\n",
       "       'Other: Marion County Ballots',\n",
       "       'Other: PA forced provisional ballots', 'Other: PA GOP Observers',\n",
       "       'Other: PA Teachers', 'Other: PragerU Video',\n",
       "       'Other: provisional ballots',\n",
       "       'Other: provisional ballots not counted in red states',\n",
       "       'Other: QAnon Claims', \"Other: QAnon Coup D'Etat\",\n",
       "       'Other: Stop The Steal Pushed', 'Other: Texas Howley Video Claims',\n",
       "       'Other: Trump Campaign Quote', 'Other: trump tweet censored',\n",
       "       'Other: TX Disabled Residents', 'Other: urban playbook',\n",
       "       'Other: Venezuela Methods', 'Other: Voter Fraud Cases',\n",
       "       'Other: WA 2004 Election', 'Other: WA Inslee Audit',\n",
       "       'Other: WA Mail-In Fraud', 'Other: WA Miscellaneous Fraud',\n",
       "       'Other: WA Rejected Ballots', 'Other: WA State Fraud ',\n",
       "       'partisan vcr:  AZ hand recount required',\n",
       "       'partisan vcr:  Connecticut ignored ballots',\n",
       "       'partisan vcr:  Democrats train officials',\n",
       "       'partisan vcr:  Detroit provisional ballots',\n",
       "       'partisan vcr:  Erie ballots thrown away',\n",
       "       'partisan vcr:  Georgia confidence',\n",
       "       'partisan vcr:  Joke ballot ripping',\n",
       "       'partisan vcr:  Kristie Alley Facebook Retweet',\n",
       "       'partisan vcr:  live tv fraud', 'partisan vcr:  Michigan delays',\n",
       "       'partisan vcr:  Michigan Republican applications',\n",
       "       'partisan vcr:  Nevada whistleblower',\n",
       "       'partisan vcr:  Pennsylvania delays',\n",
       "       'partisan vcr:  Pennsylvania inner envelopes',\n",
       "       'partisan vcr:  Pennsylvania poll worker empty ballots',\n",
       "       'partisan vcr:  Philadelphia destroyed ballots',\n",
       "       'partisan vcr:  Philadelphia missing supervisor',\n",
       "       'partisan vcr:  Philadelphia separate lines',\n",
       "       'partisan vcr: sharpiegate',\n",
       "       'partisan vcr:  Washington corrupt officials',\n",
       "       'Physical Mail Fraud: AARP Bachmann',\n",
       "       'Physical Mail Fraud: ACLU Signatures',\n",
       "       'Physical Mail Fraud: CA Received Ballot',\n",
       "       'Physical Mail Fraud: CCP Fake Ballots',\n",
       "       'Physical Mail Fraud: Cheat-by-mail',\n",
       "       'Physical Mail Fraud: Chinese Language Mail-In Fraud',\n",
       "       'Physical Mail Fraud: Colorado Ballot Holes',\n",
       "       'Physical Mail Fraud: COVID Bioweapon',\n",
       "       'Physical Mail Fraud: CT Pencils',\n",
       "       'Physical Mail Fraud: Fayette County',\n",
       "       'Physical Mail Fraud: FEC Chair',\n",
       "       'Physical Mail Fraud: GA Democrats Fixing Ballots',\n",
       "       'Physical Mail Fraud: Hidden Absentee Ballot',\n",
       "       'Physical Mail Fraud: Hunterdon County Fraud',\n",
       "       'Physical Mail Fraud: Iowa Pre-Filled Ballots',\n",
       "       'Physical Mail Fraud: KY Turnout',\n",
       "       'Physical Mail Fraud: Mail vs. In-Person Fraud',\n",
       "       'Physical Mail Fraud: MI Drops Fake Ballots',\n",
       "       'Physical Mail Fraud: MI Whistleblower',\n",
       "       'Physical Mail Fraud: Nebraska Pre-Filled',\n",
       "       'Physical Mail Fraud: Newsom VBM',\n",
       "       'Physical Mail Fraud: NY Post Confession',\n",
       "       'Physical Mail Fraud: NY Pre-Filled Biden',\n",
       "       'Physical Mail Fraud: Obama Printers',\n",
       "       'Physical Mail Fraud: PA Court Signature Ruling',\n",
       "       'Physical Mail Fraud: PA Court Time Ruling',\n",
       "       'Physical Mail Fraud: PA Misprinted Corrections',\n",
       "       'Physical Mail Fraud: PA Printed Ballots',\n",
       "       'Physical Mail Fraud: PDF Ballots',\n",
       "       'Physical Mail Fraud: Philly Destroying Envelopes',\n",
       "       'Physical Mail Fraud: Postal Worker Affiliation',\n",
       "       'Physical Mail Fraud: Press Secretary',\n",
       "       'Physical Mail Fraud: Romania and Ukraine Allegations',\n",
       "       'Physical Mail Fraud: Swing State Fraud',\n",
       "       'Physical Mail Fraud: Throw Out Ballots',\n",
       "       'Physical Mail Fraud: Trump Mar-a-Lago VBM',\n",
       "       'Physical Mail Fraud: USPS PA Whistleblower',\n",
       "       'Physical Mail Fraud: WA Election Postmark Date',\n",
       "       'Physical Mail Fraud: WA fraud claims',\n",
       "       'Physical Mail Fraud: WA Stolen Ballot Bag',\n",
       "       'Physical Mail Mistakes: 4 Ballots New Address',\n",
       "       'Physical Mail Mistakes: Additional Ballots',\n",
       "       'Physical Mail Mistakes: CA absentee ballots',\n",
       "       'Physical Mail Mistakes: CA rejects mistakes',\n",
       "       'Physical Mail Mistakes: Deceased and Inactive CA',\n",
       "       'Physical Mail Mistakes: Duval County',\n",
       "       'Physical Mail Mistakes: Knox County',\n",
       "       'Physical Mail Mistakes: MI Misprints for Troops',\n",
       "       'Physical Mail Mistakes: Misprints GA',\n",
       "       'Physical Mail Mistakes: NJ Ballot to AL',\n",
       "       'Physical Mail Mistakes: NJ Undeliverable Ballots',\n",
       "       'Physical Mail Mistakes: NYPost Ballot Typo',\n",
       "       'Physical Mail Mistakes: TikTok Voting',\n",
       "       'poll watchers: Infographic Picture',\n",
       "       'poll watchers: Pennsylvania assault',\n",
       "       'poll watchers: Philly Biden Mask',\n",
       "       'poll watchers: Philly Denied entry',\n",
       "       'poll watchers: Philly denied entry 2',\n",
       "       'poll watchers: Philly no entry list',\n",
       "       'poll watchers: Political merchandise',\n",
       "       'poll watchers: Threats of violence', 'poll watchers: Trump suit',\n",
       "       'Prominent Person: Brad Friedman',\n",
       "       'Prominent Person: Chanel Rion Memo',\n",
       "       'Prominent Person: Clay Higgins',\n",
       "       'Prominent Person: Crowder MI Claims',\n",
       "       'Prominent Person: Cuddy Camaro',\n",
       "       'Prominent Person: Darin Southam',\n",
       "       'Prominent Person: Ghost Ballots', 'Prominent Person: Jody Hice',\n",
       "       'Prominent Person: Margarita Simonyan Tweet',\n",
       "       'Prominent Person: Marjorie Green STS',\n",
       "       \"Prominent Person: O'Keefe NYC Fraud\",\n",
       "       'Prominent Person: Press Secretary Fraud',\n",
       "       'Prominent Person: RNC 11,000 Claims',\n",
       "       'Prominent Person: Rubio Private Vehicles',\n",
       "       'Prominent Person: Tom Fitton Livestream VBM',\n",
       "       'protest: Black Lives Matter plaza unrest',\n",
       "       'protests: left organizing', 'protests: million MAGA march',\n",
       "       'protests: portland unrest', 'protests: reused protest footage',\n",
       "       'protests: stop the steal instructions',\n",
       "       'protests: stop the steal rallies',\n",
       "       'riot: antifa burning things down', 'riot: antifa plans',\n",
       "       'riot: bjork video', 'riot: crimethinc',\n",
       "       'riot: democrat-led election violence',\n",
       "       'riot: mis-framed trump email', 'riot: nigel farage prediction',\n",
       "       'riot: proud boys stabbed by blm',\n",
       "       'riot: riot and looting around elections',\n",
       "       'riot: stacks of bricks', 'riot: violence agianst antifa',\n",
       "       'Statistics: > 100% Voter Turnout in Swing States',\n",
       "       'Statistics: 2% Strategy ', 'Statistics: 98K PA Voters',\n",
       "       'Statistics: African-American Ballot Rejections',\n",
       "       \"Statistics: Benford's Law\",\n",
       "       'Statistics: Chinese Language Election Storm',\n",
       "       'Statistics: Cities That Matter', 'Statistics: District 21 CA',\n",
       "       'Statistics: GA Varieties', 'Statistics: JW Counties Over 100%',\n",
       "       'Statistics: Kentucky Absentee Fraud',\n",
       "       'Statistics: Kentucky Fraud', 'Statistics: Math Video',\n",
       "       'Statistics: Numerical Anomalies', 'Statistics: Precinct 538 FL',\n",
       "       'Statistics: Wisconsin Votes > Registered',\n",
       "       'suppression: robocall stay safe',\n",
       "       \"supression: FL can't pay fines\", 'supression: GA lock down',\n",
       "       'supression: GA national guard',\n",
       "       'supression: ICE monitoring polls',\n",
       "       'supression: NC BLM pepper spray', 'supression: NJ disabled only',\n",
       "       'supression: NJ not allowed to vote',\n",
       "       'supression: NV technical difficulties',\n",
       "       'supression: NY police and PPE',\n",
       "       'supression: NY woman denied access to voting',\n",
       "       'supression: PA train blocks voiting', 'supression: riggedthefilm',\n",
       "       'supression: SC Vote Prevention',\n",
       "       'supression: Spanish Language Supression at Polls',\n",
       "       'supression: TX immigrant mistreatment',\n",
       "       'supression: TX national guard', 'supression: West Coast Fires',\n",
       "       'tech: 4chan oregon vote change', 'tech: antrim vote count',\n",
       "       'tech: dominion', 'tech: Dr. Shiva MI Glitch',\n",
       "       'tech: ElectionGuard', 'tech: Feinstein/Pelosi Election Software',\n",
       "       'tech: FL voter info leaked', 'tech: Hammer and Scorecard',\n",
       "       'tech: isabella vote jump', 'tech: Livestream of protests/riots',\n",
       "       'tech: Ohio Voting Content', 'tech: Russia 2016 Hacking',\n",
       "       'tech: Russian Malware ES&S/Diebold', 'tech: Trump hack in 2016',\n",
       "       'tech: Zuckerberg Hacking WI', 'USPS: 28 million missing ballots',\n",
       "       'USPS: 300,000 Undelivered Ballots', 'USPS: Fake Votes',\n",
       "       'USPS: FL 1.4 million missing ballots',\n",
       "       'USPS: FL 23% rejected mail-in',\n",
       "       'USPS: FL 80% missing Black and Latino votes',\n",
       "       'USPS: FL Mail Room', 'USPS: NJ worker dumps mail',\n",
       "       'USPS: NV Veritas', 'USPS: OH ripping trump ballots',\n",
       "       'USPS: PA Long Wait', 'USPS: PA Mail Carrier Trash Ballot',\n",
       "       'USPS: PA stop delivery whistleblower',\n",
       "       'USPS: Postal Workers Partisan', 'voting info: 12th Amendment',\n",
       "       'voting info: abuse and public records',\n",
       "       'voting info: ads say vote not counted',\n",
       "       'voting info: anyone can votes as often as you wish',\n",
       "       'voting info: ballot box closed becuase of COVID',\n",
       "       'voting info: ballot surredering',\n",
       "       'voting info: CA fake voting center', 'voting info: CO postcards',\n",
       "       'voting info: CT revert to phase 1', 'voting info: EIP-Ca',\n",
       "       'voting info: FL secrecy sleeves',\n",
       "       'voting info: GA ballot surredering',\n",
       "       'voting info: MD voting deadline', 'voting info: MI robocalls',\n",
       "       'voting info: misleading Voter Participation Center mailings',\n",
       "       'voting info: MS return absentee ballots in person',\n",
       "       'voting info: Multiple States Vote Tomorrow',\n",
       "       'voting info: naked ballots',\n",
       "       'voting info: NC same day registration',\n",
       "       'voting info: NC wrong ballot',\n",
       "       'voting info: NM shut down polling places',\n",
       "       'voting info: NY voting process',\n",
       "       'voting info: OK fake text messages',\n",
       "       'voting info: PA false change in polling place',\n",
       "       'voting info: poll worker ballot marks',\n",
       "       'voting info: post-election voting',\n",
       "       'voting info: PSA for wrong state',\n",
       "       'voting info: Too Late to Send Mail Ballots',\n",
       "       'voting info: trump not on ballot',\n",
       "       'voting info: TX Party Registration',\n",
       "       'voting info: US constitution amendment',\n",
       "       'voting info: vote by mail for warrants robocalls',\n",
       "       'voting info: vote in person', 'voting info: vote on the 4th',\n",
       "       'voting info: WA vote changed', 'voting info: WI 7 days left',\n",
       "       'Voting Twice: 58% Double Democrats', 'Voting Twice: 5 Ballots',\n",
       "       'Voting Twice: CA Video',\n",
       "       'Voting Twice: Gateway Pundit Election Officials',\n",
       "       'Voting Twice: Hannity Virginia Voters',\n",
       "       'Voting Twice: Melania Votes', 'Voting Twice: Multi-State Doubles',\n",
       "       'Voting Twice: NH 2016 Double Vote', 'Voting Twice: PA Duplicates',\n",
       "       'Watermark: DHS Sting', 'Watermark: WA Watermark'], dtype=object)"
      ]
     },
     "execution_count": 20,
     "metadata": {},
     "output_type": "execute_result"
    }
   ],
   "source": [
    "incidents\n",
    "\n",
    "incidents['incident'].unique()"
   ]
  },
  {
   "cell_type": "code",
   "execution_count": 21,
   "id": "bc1b98bc",
   "metadata": {},
   "outputs": [],
   "source": [
    "#We need something without spaces and / to call each incident. \n",
    "fix_name = lambda name: name.replace(' ','_').replace('/','_')\n",
    "incidents = incidents[incidents['incident']!='tech: dominion']\n",
    "\n",
    "#Dominion is high volume, very noisy, has daily patterns, is prolonged\n",
    "#and doesn't conform to our notion of \"events\". \n",
    "incidents['incident_name'] = incidents['incident'].apply(fix_name)"
   ]
  },
  {
   "cell_type": "code",
   "execution_count": 22,
   "id": "22290d04",
   "metadata": {},
   "outputs": [],
   "source": [
    "incidents.to_csv(root + '/data/incidents.csv')"
   ]
  },
  {
   "cell_type": "markdown",
   "id": "12ff8ce4",
   "metadata": {},
   "source": [
    "<h3>Aggregate</h3>"
   ]
  },
  {
   "cell_type": "code",
   "execution_count": 23,
   "id": "11575a04",
   "metadata": {},
   "outputs": [],
   "source": [
    "incidents = pd.read_csv(root + '/data/incidents.csv')"
   ]
  },
  {
   "cell_type": "code",
   "execution_count": 24,
   "id": "9731e966",
   "metadata": {},
   "outputs": [
    {
     "data": {
      "text/plain": [
       "430"
      ]
     },
     "execution_count": 24,
     "metadata": {},
     "output_type": "execute_result"
    }
   ],
   "source": [
    "len(incidents)"
   ]
  },
  {
   "cell_type": "code",
   "execution_count": 25,
   "id": "46027c07",
   "metadata": {},
   "outputs": [
    {
     "data": {
      "application/vnd.jupyter.widget-view+json": {
       "model_id": "e4d7e82ef73649159df5f6717697d3e7",
       "version_major": 2,
       "version_minor": 0
      },
      "text/plain": [
       "VBox(children=(HBox(children=(IntProgress(value=0, description='0.00%', max=4), Label(value='0 / 4'))), HBox(c…"
      ]
     },
     "metadata": {},
     "output_type": "display_data"
    },
    {
     "data": {
      "text/plain": [
       "0      True\n",
       "1      True\n",
       "2      True\n",
       "3      True\n",
       "4      True\n",
       "       ... \n",
       "425    True\n",
       "426    True\n",
       "427    True\n",
       "428    True\n",
       "429    True\n",
       "Length: 430, dtype: bool"
      ]
     },
     "execution_count": 25,
     "metadata": {},
     "output_type": "execute_result"
    }
   ],
   "source": [
    "import src.database as sdb\n",
    "engine = sdb.get_engine('/home/joebak/Misc/venus_cred.txt')\n",
    "agg_save = lambda row: sdb.aggregate_and_save(row,engine)\n",
    "incidents.T.parallel_apply(agg_save)"
   ]
  },
  {
   "cell_type": "markdown",
   "id": "859973c7",
   "metadata": {},
   "source": [
    "<h3>Repeat Offenders</h3>"
   ]
  },
  {
   "cell_type": "code",
   "execution_count": 26,
   "id": "1a67e001",
   "metadata": {},
   "outputs": [],
   "source": [
    "removed = pickle.load(open(root + '/data/removed.p','rb'))"
   ]
  },
  {
   "cell_type": "code",
   "execution_count": 27,
   "id": "4a32a161",
   "metadata": {},
   "outputs": [],
   "source": [
    "import src.database as sdb\n",
    "engine = sdb.get_engine()\n",
    "\n",
    "query_ro = '''SELECT user_screen_name,incident, user_followers_count,row_number() over (partition by user_screen_name order by created_at) \n",
    "            FROM (SELECT DISTINCT ON (user_screen_name, incident) user_screen_name, user_followers_count,\n",
    "            incident, created_at, row_number() over (partition by user_screen_name order by created_at)\n",
    "            FROM public.incident_tweets WHERE user_followers_count > 10000 AND incident IS NOT NULL) AS nested'''\n",
    "\n",
    "query_v = '''SELECT user_screen_name,incident, user_followers_count,row_number() over (partition by user_screen_name order by created_at) \n",
    "            FROM (SELECT DISTINCT ON (user_screen_name, incident) user_screen_name, user_followers_count,\n",
    "            incident, created_at, row_number() over (partition by user_screen_name order by created_at)\n",
    "            FROM public.incident_tweets \n",
    "            WHERE incident IS NOT NULL AND user_verified) AS nested'''\n",
    "\n",
    "query_all = \"SELECT * FROM incident_tweets LIMIT 10;\"\n",
    "ro_all =pd.read_sql(query_ro, con=engine)\n",
    "ro_verified =pd.read_sql(query_v, con=engine)\n"
   ]
  },
  {
   "cell_type": "code",
   "execution_count": 28,
   "id": "7bac0118",
   "metadata": {},
   "outputs": [],
   "source": [
    "ro_all.to_csv(root + '/data/ro_all.csv')\n",
    "ro_verified.to_csv(root + '/data/ro_verified.csv')"
   ]
  },
  {
   "cell_type": "code",
   "execution_count": 29,
   "id": "030322b5",
   "metadata": {},
   "outputs": [],
   "source": [
    "ro_all = pd.read_csv(root+'/data/ro_all.csv')\n",
    "ro_verified=pd.read_csv(root + '/data/ro_verified.csv')"
   ]
  },
  {
   "cell_type": "code",
   "execution_count": 30,
   "id": "bc8cf6bd",
   "metadata": {},
   "outputs": [],
   "source": [
    "def get_repeat_offenders_dict(df, incidents, follower_thresh=1,strikes=3):\n",
    "    repeat_offenders = {}\n",
    "    for incident in incidents:\n",
    "        temp = df[df['incident']==incident]\n",
    "        temp = temp[temp['row_number'] > strikes]\n",
    "        temp = temp[temp['user_followers_count'] > follower_thresh]\n",
    "        repeat_offenders[incident] = temp['user_screen_name'].unique()\n",
    "    return repeat_offenders\n",
    "\n",
    "ro_dict_10k = get_repeat_offenders_dict(ro_all, incidents['incident'],follower_thresh=10000)\n",
    "ro_dict_50k = get_repeat_offenders_dict(ro_all, incidents['incident'],follower_thresh=50000)\n",
    "ro_dict_100k = get_repeat_offenders_dict(ro_all,incidents['incident'], follower_thresh=100000)\n",
    "ro_dict_500k = get_repeat_offenders_dict(ro_all, incidents['incident'],follower_thresh=500000)\n",
    "ro_dict_v = get_repeat_offenders_dict(ro_verified, incidents['incident'])"
   ]
  },
  {
   "cell_type": "code",
   "execution_count": 31,
   "id": "a4219e8b",
   "metadata": {},
   "outputs": [],
   "source": [
    "ro_dict_modest = {}\n",
    "for item in ro_dict_100k.keys():\n",
    "    temp = np.unique(np.hstack([ro_dict_100k[item], \n",
    "              ro_dict_v[item],\n",
    "              removed])).tolist()\n",
    "    ro_dict_modest[item] = temp\n",
    "\n",
    "ro_dict_aggressive = {}\n",
    "for item in ro_dict_100k.keys():\n",
    "    temp = np.unique(np.hstack([ro_dict_50k[item], \n",
    "              ro_dict_v[item],\n",
    "              removed])).tolist()\n",
    "    ro_dict_aggressive[item] = temp\n"
   ]
  },
  {
   "cell_type": "code",
   "execution_count": 32,
   "id": "b6428f38",
   "metadata": {},
   "outputs": [
    {
     "data": {
      "text/plain": [
       "True"
      ]
     },
     "execution_count": 32,
     "metadata": {},
     "output_type": "execute_result"
    }
   ],
   "source": [
    "import src.database as sdb\n",
    "engine = sdb.get_engine('/home/joebak/venus_cred.txt')\n",
    "\n",
    "agg_save = lambda row: sdb.aggregate_and_save(row,engine,removed=ro_dict_10k,floc='/data/timeseries/10K/')\n",
    "row = incidents.iloc[45]\n",
    "agg_save(row)"
   ]
  },
  {
   "cell_type": "code",
   "execution_count": 33,
   "id": "acc127d8",
   "metadata": {},
   "outputs": [],
   "source": [
    "import src.database as sdb\n",
    "engine = sdb.get_engine('/home/joebak/venus_cred.txt')\n",
    "agg_save = lambda row: sdb.aggregate_and_save(row,engine,removed=ro_dict_10k,floc='/data/timeseries/10K/',keep=True)\n",
    "_ = incidents.T.apply(agg_save)"
   ]
  },
  {
   "cell_type": "code",
   "execution_count": 34,
   "id": "329f5eab",
   "metadata": {},
   "outputs": [],
   "source": [
    "agg_save = lambda row: sdb.aggregate_and_save(row,engine,removed=ro_dict_50k,floc='/data/timeseries/50K/',keep=True)\n",
    "_ = incidents.T.apply(agg_save)"
   ]
  },
  {
   "cell_type": "code",
   "execution_count": 35,
   "id": "8735ef1d",
   "metadata": {},
   "outputs": [
    {
     "data": {
      "text/plain": [
       "0      True\n",
       "1      True\n",
       "2      True\n",
       "3      True\n",
       "4      True\n",
       "       ... \n",
       "425    True\n",
       "426    True\n",
       "427    True\n",
       "428    True\n",
       "429    True\n",
       "Length: 430, dtype: bool"
      ]
     },
     "execution_count": 35,
     "metadata": {},
     "output_type": "execute_result"
    }
   ],
   "source": [
    "agg_save = lambda row: sdb.aggregate_and_save(row,engine,removed=ro_dict_100k,floc='/data/timeseries/100K/',keep=True)\n",
    "incidents.T.apply(agg_save)"
   ]
  },
  {
   "cell_type": "code",
   "execution_count": 36,
   "id": "3ba8f176",
   "metadata": {},
   "outputs": [],
   "source": [
    "agg_save = lambda row: sdb.aggregate_and_save(row,engine,removed=ro_dict_500k,floc='/data/timeseries/500K/',keep=True)\n",
    "_ = incidents.T.apply(agg_save)"
   ]
  },
  {
   "cell_type": "code",
   "execution_count": 37,
   "id": "e113af28",
   "metadata": {},
   "outputs": [],
   "source": [
    "agg_save = lambda row: sdb.aggregate_and_save(row,engine,removed=ro_dict_v,floc='/data/timeseries/Verified/',keep=True)\n",
    "_ = incidents.T.apply(agg_save)"
   ]
  },
  {
   "cell_type": "code",
   "execution_count": 38,
   "id": "fe085928",
   "metadata": {},
   "outputs": [],
   "source": [
    "agg_save = lambda row: sdb.aggregate_and_save(row,engine,removed=removed,floc='/data/timeseries/currently/',keep=True)\n",
    "_ = incidents.T.apply(agg_save)"
   ]
  },
  {
   "cell_type": "code",
   "execution_count": 39,
   "id": "e8b450e7",
   "metadata": {},
   "outputs": [],
   "source": [
    "agg_save = lambda row: sdb.aggregate_and_save(row,engine,removed=ro_dict_modest,floc='/data/timeseries/modest/',keep=True)\n",
    "_ = incidents.T.apply(agg_save)\n",
    "agg_save = lambda row: sdb.aggregate_and_save(row,engine,removed=ro_dict_aggressive,floc='/data/timeseries/aggressive/',keep=True)\n",
    "_ = incidents.T.apply(agg_save)"
   ]
  },
  {
   "cell_type": "code",
   "execution_count": 40,
   "id": "ee15e3db",
   "metadata": {},
   "outputs": [],
   "source": [
    "#Get totals banned by policy\n",
    "ro_dicts = {'10K':ro_dict_10k, \n",
    "             '50K':ro_dict_50k,\n",
    "              '100K':ro_dict_100k, \n",
    "              '500K':ro_dict_500k, \n",
    "                'Verified':ro_dict_v,\n",
    "               'Modest':ro_dict_modest, \n",
    "               'Aggressive':ro_dict_aggressive}\n",
    "ban_df = pd.DataFrame()\n",
    "for policy in ['10K','50K', '100K','500K', 'Verified','Modest','Aggressive']:\n",
    "    N_banned = np.unique(np.hstack([ro_dicts[policy][item] for item in ro_dicts['10K'].keys()])).size\n",
    "    ban_df =ban_df.append({'Total removed':N_banned, \n",
    "                   'Policy':policy},ignore_index=True)\n",
    "ban_df=ban_df.append({'Total removed':np.unique(removed).size, \n",
    "                'Policy':'Currently'},ignore_index=True)"
   ]
  },
  {
   "cell_type": "code",
   "execution_count": 41,
   "id": "e10235cf",
   "metadata": {},
   "outputs": [],
   "source": [
    "ban_df.to_csv(root + '/data/ban_df_counts.csv',compression=None)"
   ]
  },
  {
   "cell_type": "code",
   "execution_count": 42,
   "id": "dddb7140",
   "metadata": {},
   "outputs": [],
   "source": [
    "incidents = pd.read_csv('./data/incidents.csv')"
   ]
  },
  {
   "cell_type": "code",
   "execution_count": 43,
   "id": "2d71d0ec",
   "metadata": {},
   "outputs": [],
   "source": [
    "def get_incident_count(incident,engine):\n",
    "    \"\"\"Return user_followers_count, user_screen_name, created_at, and user_verified \n",
    "     for and incident.\n",
    "    Keyword arguments:\n",
    "    incident -- the name of an incident, as identified in our database\n",
    "    engine -- postgres engine created with src.database.get_engine\n",
    "    \"\"\"\n",
    "    query = \"SELECT  count(*) FROM incident_tweets WHERE incident=(%(incident)s)\"\n",
    "    incident_df = pd.read_sql(query, params={'incident':incident},con=engine)\n",
    "    return incident_df"
   ]
  },
  {
   "cell_type": "code",
   "execution_count": 44,
   "id": "2077cd0e",
   "metadata": {},
   "outputs": [
    {
     "data": {
      "text/html": [
       "<div>\n",
       "<style scoped>\n",
       "    .dataframe tbody tr th:only-of-type {\n",
       "        vertical-align: middle;\n",
       "    }\n",
       "\n",
       "    .dataframe tbody tr th {\n",
       "        vertical-align: top;\n",
       "    }\n",
       "\n",
       "    .dataframe thead th {\n",
       "        text-align: right;\n",
       "    }\n",
       "</style>\n",
       "<table border=\"1\" class=\"dataframe\">\n",
       "  <thead>\n",
       "    <tr style=\"text-align: right;\">\n",
       "      <th></th>\n",
       "      <th>count</th>\n",
       "    </tr>\n",
       "  </thead>\n",
       "  <tbody>\n",
       "    <tr>\n",
       "      <th>0</th>\n",
       "      <td>24617</td>\n",
       "    </tr>\n",
       "  </tbody>\n",
       "</table>\n",
       "</div>"
      ],
      "text/plain": [
       "   count\n",
       "0  24617"
      ]
     },
     "execution_count": 44,
     "metadata": {},
     "output_type": "execute_result"
    }
   ],
   "source": [
    "totals = []\n",
    "get_incident_count(incidents['incident'][0], engine)"
   ]
  },
  {
   "cell_type": "code",
   "execution_count": 45,
   "id": "afef0031-3325-429e-a8c8-3de8901de686",
   "metadata": {},
   "outputs": [],
   "source": [
    "import src.database as sdb\n",
    "engine = sdb.get_engine('/home/joebak/Misc/venus_cred.txt')\n",
    "\n",
    "query_ro = '''SELECT user_screen_name,incident, user_followers_count,row_number() over (partition by user_screen_name order by created_at) \n",
    "            FROM (SELECT DISTINCT ON (user_screen_name, incident) user_screen_name, user_followers_count,\n",
    "            incident, created_at, row_number() over (partition by user_screen_name order by created_at)\n",
    "            FROM public.incident_tweets WHERE incident IS NOT NULL) AS nested'''\n",
    "\n",
    "\n",
    "ro_every_user =pd.read_sql(query_ro, con=engine)"
   ]
  },
  {
   "cell_type": "code",
   "execution_count": 46,
   "id": "f0a7dfc9-6543-42d2-8ba0-f239ec1d8165",
   "metadata": {},
   "outputs": [],
   "source": [
    "import src.database as sdb\n",
    "engine = sdb.get_engine('/home/joebak/Misc/venus_cred.txt')\n",
    "\n",
    "query_users = '''SSELECT COUNT(*) FROM (SELECT DISTINCT user_id FROM public.incident_tweets) AS temp;'''\n",
    "\n",
    "\n",
    "users_counts =pd.read_sql(query_ro, con=engine)"
   ]
  },
  {
   "cell_type": "code",
   "execution_count": 49,
   "id": "2c427d36-63af-4a05-ae3c-73cece28f2a3",
   "metadata": {},
   "outputs": [
    {
     "data": {
      "text/html": [
       "<div>\n",
       "<style scoped>\n",
       "    .dataframe tbody tr th:only-of-type {\n",
       "        vertical-align: middle;\n",
       "    }\n",
       "\n",
       "    .dataframe tbody tr th {\n",
       "        vertical-align: top;\n",
       "    }\n",
       "\n",
       "    .dataframe thead th {\n",
       "        text-align: right;\n",
       "    }\n",
       "</style>\n",
       "<table border=\"1\" class=\"dataframe\">\n",
       "  <thead>\n",
       "    <tr style=\"text-align: right;\">\n",
       "      <th></th>\n",
       "      <th>user_screen_name</th>\n",
       "      <th>incident</th>\n",
       "      <th>user_followers_count</th>\n",
       "      <th>row_number</th>\n",
       "    </tr>\n",
       "  </thead>\n",
       "  <tbody>\n",
       "    <tr>\n",
       "      <th>0</th>\n",
       "      <td>___0____</td>\n",
       "      <td>Digital dumps: Michigan 128,000 votes</td>\n",
       "      <td>529</td>\n",
       "      <td>1</td>\n",
       "    </tr>\n",
       "    <tr>\n",
       "      <th>1</th>\n",
       "      <td>_0_0_</td>\n",
       "      <td>tech: dominion</td>\n",
       "      <td>326</td>\n",
       "      <td>1</td>\n",
       "    </tr>\n",
       "    <tr>\n",
       "      <th>2</th>\n",
       "      <td>000000000h00</td>\n",
       "      <td>civil war: general ticket</td>\n",
       "      <td>2</td>\n",
       "      <td>1</td>\n",
       "    </tr>\n",
       "    <tr>\n",
       "      <th>3</th>\n",
       "      <td>000000000h00</td>\n",
       "      <td>lost: PA 9 discarded</td>\n",
       "      <td>3</td>\n",
       "      <td>2</td>\n",
       "    </tr>\n",
       "    <tr>\n",
       "      <th>4</th>\n",
       "      <td>000000000h00</td>\n",
       "      <td>ballot harvesting: Ilhan Omar Project Veritas ...</td>\n",
       "      <td>4</td>\n",
       "      <td>3</td>\n",
       "    </tr>\n",
       "    <tr>\n",
       "      <th>...</th>\n",
       "      <td>...</td>\n",
       "      <td>...</td>\n",
       "      <td>...</td>\n",
       "      <td>...</td>\n",
       "    </tr>\n",
       "    <tr>\n",
       "      <th>10822447</th>\n",
       "      <td>Zzzzzzz82592696</td>\n",
       "      <td>voting info: Too Late to Send Mail Ballots</td>\n",
       "      <td>56</td>\n",
       "      <td>7</td>\n",
       "    </tr>\n",
       "    <tr>\n",
       "      <th>10822448</th>\n",
       "      <td>Zzzzzzz82592696</td>\n",
       "      <td>dead voters: general ticket</td>\n",
       "      <td>57</td>\n",
       "      <td>8</td>\n",
       "    </tr>\n",
       "    <tr>\n",
       "      <th>10822449</th>\n",
       "      <td>Zzzzzzz82592696</td>\n",
       "      <td>civil war: general ticket</td>\n",
       "      <td>59</td>\n",
       "      <td>9</td>\n",
       "    </tr>\n",
       "    <tr>\n",
       "      <th>10822450</th>\n",
       "      <td>Zzzzzzz82592696</td>\n",
       "      <td>USPS: 300,000 Undelivered Ballots</td>\n",
       "      <td>59</td>\n",
       "      <td>10</td>\n",
       "    </tr>\n",
       "    <tr>\n",
       "      <th>10822451</th>\n",
       "      <td>zzzzzzzzzxrrrrr</td>\n",
       "      <td>: maidengate</td>\n",
       "      <td>87</td>\n",
       "      <td>1</td>\n",
       "    </tr>\n",
       "  </tbody>\n",
       "</table>\n",
       "<p>10822452 rows × 4 columns</p>\n",
       "</div>"
      ],
      "text/plain": [
       "         user_screen_name                                           incident  \\\n",
       "0                ___0____              Digital dumps: Michigan 128,000 votes   \n",
       "1                   _0_0_                                     tech: dominion   \n",
       "2            000000000h00                          civil war: general ticket   \n",
       "3            000000000h00                               lost: PA 9 discarded   \n",
       "4            000000000h00  ballot harvesting: Ilhan Omar Project Veritas ...   \n",
       "...                   ...                                                ...   \n",
       "10822447  Zzzzzzz82592696         voting info: Too Late to Send Mail Ballots   \n",
       "10822448  Zzzzzzz82592696                        dead voters: general ticket   \n",
       "10822449  Zzzzzzz82592696                          civil war: general ticket   \n",
       "10822450  Zzzzzzz82592696                  USPS: 300,000 Undelivered Ballots   \n",
       "10822451  zzzzzzzzzxrrrrr                                       : maidengate   \n",
       "\n",
       "          user_followers_count  row_number  \n",
       "0                          529           1  \n",
       "1                          326           1  \n",
       "2                            2           1  \n",
       "3                            3           2  \n",
       "4                            4           3  \n",
       "...                        ...         ...  \n",
       "10822447                    56           7  \n",
       "10822448                    57           8  \n",
       "10822449                    59           9  \n",
       "10822450                    59          10  \n",
       "10822451                    87           1  \n",
       "\n",
       "[10822452 rows x 4 columns]"
      ]
     },
     "execution_count": 49,
     "metadata": {},
     "output_type": "execute_result"
    }
   ],
   "source": [
    "users_counts"
   ]
  },
  {
   "cell_type": "code",
   "execution_count": null,
   "id": "8393837f-8c15-46f5-af92-f86914808bb5",
   "metadata": {},
   "outputs": [],
   "source": []
  }
 ],
 "metadata": {
  "kernelspec": {
   "display_name": "Python 3 (ipykernel)",
   "language": "python",
   "name": "python3"
  },
  "language_info": {
   "codemirror_mode": {
    "name": "ipython",
    "version": 3
   },
   "file_extension": ".py",
   "mimetype": "text/x-python",
   "name": "python",
   "nbconvert_exporter": "python",
   "pygments_lexer": "ipython3",
   "version": "3.9.7"
  }
 },
 "nbformat": 4,
 "nbformat_minor": 5
}
