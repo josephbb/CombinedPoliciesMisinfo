{
 "cells": [
  {
   "cell_type": "code",
   "execution_count": 1,
   "id": "authentic-domain",
   "metadata": {},
   "outputs": [],
   "source": [
    "%%capture\n",
    "!pip install fastparquet\n",
    "!pip install pandarallel"
   ]
  },
  {
   "cell_type": "code",
   "execution_count": 2,
   "id": "adult-civilian",
   "metadata": {},
   "outputs": [],
   "source": [
    "import pystan\n",
    "import numpy as np\n",
    "import pandas as pd\n",
    "import pickle\n",
    "from src.utils import create_output_directories\n",
    "import seaborn as sns\n",
    "#Set up parallel processing\n",
    "from pandarallel import pandarallel\n",
    "from tqdm.notebook import trange, tqdm\n",
    "from src.tables import get_table\n",
    "\n",
    "pandarallel.initialize(nb_workers=8,verbose=True,progress_bar=True)\n",
    "tqdm.pandas()\n",
    "\n",
    "#Make sure things reload\n",
    "%load_ext autoreload\n",
    "%autoreload 2\n",
    "\n",
    "root = '.'\n",
    "pal = sns.color_palette(\"Set2\",n_colors=8)\n",
    "\n",
    "create_output_directories()"
   ]
  },
  {
   "cell_type": "markdown",
   "id": "english-remainder",
   "metadata": {},
   "source": [
    "<h1>Overview</h1>"
   ]
  },
  {
   "cell_type": "markdown",
   "id": "found-round",
   "metadata": {},
   "source": [
    "Below is the code necessary to recreate the analysis from \"Combining interventions to reduce the spread of viral misinformation.\" This notebook assumes that there is a folder located in \"root\" (default '.') called \"data\" containing:\n",
    "<ol>\n",
    "<li>Directory: Timeseries with subdirectories:</li>\n",
    "    <ul>\n",
    "    <li>aggressive</li>\n",
    "    <li>modest</li>\n",
    "    <li>currently</li>\n",
    "    <li>Verified</li>\n",
    "    <li>500k, 100k, 50k, 10k</li>\n",
    "    <li>aggregated</li>\n",
    "    <li>raw</li>\n",
    "     </ul>\n",
    "<li>ban_df_counts.parquet</li>\n",
    "<li>events.parquet</li>\n",
    "<li>incidents.parquet</li>\n",
    "</ol>\n",
    "\n",
    "Each of the subdirectories should contain aggregated time-series data, downloaded from LINK for each of the unfiltered events. This data were generated from our raw data which is not shared for privacy concerns. However, we include the code used to generate the aggregated time-series for application to novel datasets.\n"
   ]
  },
  {
   "cell_type": "markdown",
   "id": "nearby-arrangement",
   "metadata": {},
   "source": [
    "<h1>Segmentation and model fit</h1>"
   ]
  },
  {
   "cell_type": "markdown",
   "id": "regular-check",
   "metadata": {},
   "source": [
    "<h2>Segmentation</h2>"
   ]
  },
  {
   "cell_type": "markdown",
   "id": "hydraulic-ratio",
   "metadata": {},
   "source": [
    "We begin by segmenting the time series of incidents into distinct events. Here, we define events as periods of heightened activity, with peaks at least 6 hours apart (i.e. 1 per 12 hours). Events within an incident are included if their peak height is at least 30% of the maximum peak height (parameter pmin for srseg.get_peaks). Begining and end of events are selected when the volume of tweets is less than 5% of tweet height (paramters before_min, after_min in srcseg.get_peaks)"
   ]
  },
  {
   "cell_type": "code",
   "execution_count": 3,
   "id": "narrative-cyprus",
   "metadata": {},
   "outputs": [],
   "source": [
    "incidents = pd.read_parquet('./data/incidents.parquet')"
   ]
  },
  {
   "cell_type": "code",
   "execution_count": 4,
   "id": "floral-bangladesh",
   "metadata": {
    "tags": []
   },
   "outputs": [
    {
     "data": {
      "application/vnd.jupyter.widget-view+json": {
       "model_id": "e470893b045c499e9ab43c0451d93afa",
       "version_major": 2,
       "version_minor": 0
      },
      "text/plain": [
       "VBox(children=(HBox(children=(IntProgress(value=0, description='0.00%', max=2), Label(value='0 / 2'))), HBox(c…"
      ]
     },
     "metadata": {},
     "output_type": "display_data"
    },
    {
     "name": "stderr",
     "output_type": "stream",
     "text": [
      "INFO:numexpr.utils:Note: NumExpr detected 64 cores but \"NUMEXPR_MAX_THREADS\" not set, so enforcing safe limit of 8.\n",
      "INFO:numexpr.utils:NumExpr defaulting to 8 threads.\n"
     ]
    },
    {
     "name": "stdout",
     "output_type": "stream",
     "text": [
      "Found 260 events\n"
     ]
    },
    {
     "data": {
      "application/vnd.jupyter.widget-view+json": {
       "model_id": "71401da781654307b3ed1769339e14d8",
       "version_major": 2,
       "version_minor": 0
      },
      "text/plain": [
       "VBox(children=(HBox(children=(IntProgress(value=0, description='0.00%', max=5), Label(value='0 / 5'))), HBox(c…"
      ]
     },
     "metadata": {},
     "output_type": "display_data"
    }
   ],
   "source": [
    "import src.segmentation as srcseg\n",
    "\n",
    "def event_df(row):\n",
    "    peaks = srcseg.get_peaks(row,root='.',start=0, freq=5,pmin=.3,\n",
    "                      after_min=.05, before_min=.05, distance=6)\n",
    "    event_dictionaries = []\n",
    "    for idx, peak in enumerate(peaks):\n",
    "        one_event = {'incident_name':row['incident_name'],\n",
    "                     'start':peak[0],\n",
    "                     'end':peak[1],\n",
    "                     'event_name':row['incident_name']+'_event_'+str(idx)}\n",
    "        event_dictionaries.append(one_event)\n",
    "    return pd.DataFrame(event_dictionaries)\n",
    "\n",
    "\n",
    "events = pd.concat([pd.DataFrame(item) for item in incidents.T.parallel_apply(event_df,\n",
    "                                                                     result_type='reduce')])\n",
    "events = pd.merge(events, incidents, left_on='incident_name', right_on='incident_name')\n",
    "events = events[(events['end'] - events['start']) >=12]\n",
    "events.to_parquet(root + '/data/events.parquet',compression=None)\n",
    "print('Found %s events' % str(events.shape[0]))\n",
    "_ = events.T.parallel_apply(srcseg.plot_event)"
   ]
  },
  {
   "cell_type": "markdown",
   "id": "frequent-gates",
   "metadata": {},
   "source": [
    "<h2> Fit model to all events </h2>"
   ]
  },
  {
   "cell_type": "markdown",
   "id": "stopped-smith",
   "metadata": {},
   "source": [
    "With events segmented, we turn to evaluating our model fit with regards to each event. Our model, in its simplest form  can be described as: \n",
    "\n",
    "\\begin{equation}\n",
    "\\label{eq1}\n",
    "\\begin{aligned}\n",
    "    y_{t} &=  \\exp(\\alpha + \\beta v_{t-1})\\\\\n",
    "    v_{t} &= v_{n-1} \\delta e^{-\\lambda t} + x[t]) \\\\\n",
    "    x_{t} &= \\log(\\sum_{j=1}^{y_t} F_{j})\n",
    "\\end{aligned}\n",
    "\\end{equation}\n",
    "\n",
    "Where $y_t$ are the tweets at time $t$, $\\alpha$ is the baseline rate of discussion, and $\\beta$ is the effect of virality, $v$. Virality decays exponentially as a function of $\\delta$ and $\\lambda$. Here, $\\delta$ captures the baseline rate of decay per time step, and $\\lambda$ controls the way in which that decay changes over the lifetime of an event. This could either be due to algorithmic processes favoring new content or, for very large events, user saturation. Every time step, for each of $y_t$ accounts, the log sum ($x_t$) of their followers, $F_j$ is added to virality for the subsequent time step. We translate this into a bayesian statistical model such that: \n",
    "\n",
    "\\begin{align*}\n",
    "y_{t} &\\sim \\text{NegativeBinomial2}(\\mu_{t}, \\phi) \\text{ for }t=2...T \\\\ \n",
    "\\mu_{i} &= \\exp(\\alpha + \\beta v_{t-1})\\text{ for  }t=2...T \\\\ \n",
    "v_{t} &= v_{t-1}\\delta e^{-\\lambda t} + x_{t} \\\\\n",
    "\\alpha &\\sim \\text{Normal}(-3,3) \\\\\n",
    "\\beta &\\sim \\text{Normal}(0,3) \\\\\n",
    "\\delta &\\sim \\text{Beta}(2,2) \\\\\n",
    "\\lambda &\\sim \\text{HalfExponential}(1) \\\\\n",
    "\\phi &\\sim \\text{HalfExponential}(1) \\\\ \n",
    "v_{1} &= x_{1}\\\\\n",
    "x_{t} &= \\log(\\sum_{j=1}^{y_t} F_{j}+1)\n",
    "\\end{align*}\n",
    "\n",
    "This model can be found in /src/timeseries.stan. Because our model makes assumptions about how misinformation cascades spread, it is unlikely to fit everything that is considered an event. Ways in which we can identify a failed fit include parameters not converging, divergent transitions, or the posterior predictive distribution of cascade sizes not containing observed value. Here, we load the model and apply it to each segmented event. We then evaluate inclusion criteria and plot all successfully fitted events for visual inspection. Note that Stan will (and should) yell at us when events fail to fit. This is expected at this stage. \n"
   ]
  },
  {
   "cell_type": "code",
   "execution_count": 5,
   "id": "annoying-basics",
   "metadata": {},
   "outputs": [],
   "source": [
    "events = pd.read_parquet(root + '/data/events.parquet')"
   ]
  },
  {
   "cell_type": "code",
   "execution_count": 6,
   "id": "after-logistics",
   "metadata": {},
   "outputs": [
    {
     "name": "stderr",
     "output_type": "stream",
     "text": [
      "INFO:pystan:COMPILING THE C++ CODE FOR MODEL anon_model_a7033beae7425c31157a62d047eae417 NOW.\n"
     ]
    }
   ],
   "source": [
    "#Compile model, we only need to do this once. \n",
    "model = pystan.StanModel(root + '/src/timeseries.stan')\n",
    "pickle.dump(model, open(root + '/output/posteriors/model.p','wb'))"
   ]
  },
  {
   "cell_type": "code",
   "execution_count": 7,
   "id": "unlikely-drove",
   "metadata": {},
   "outputs": [],
   "source": [
    "model = pickle.load(open(root + '/output/posteriors/model.p','rb'))"
   ]
  },
  {
   "cell_type": "code",
   "execution_count": 8,
   "id": "engaging-tournament",
   "metadata": {},
   "outputs": [
    {
     "data": {
      "application/vnd.jupyter.widget-view+json": {
       "model_id": "ac9d6e42b0304593af30be1696bebfda",
       "version_major": 2,
       "version_minor": 0
      },
      "text/plain": [
       "  0%|          | 0/260 [00:00<?, ?it/s]"
      ]
     },
     "metadata": {},
     "output_type": "display_data"
    },
    {
     "name": "stderr",
     "output_type": "stream",
     "text": [
      "/home/joebak/CombinedPolicy/src/model_fit.py:29: UserWarning: Pickling fit objects is an experimental feature!\n",
      "The relevant StanModel instance must be pickled along with this fit object.\n",
      "When unpickling the StanModel must be unpickled first.\n",
      "  pickle.dump(samples,\n",
      "WARNING:pystan:Rhat above 1.1 or below 0.9 indicates that the chains very likely have not mixed\n",
      "WARNING:pystan:Rhat above 1.1 or below 0.9 indicates that the chains very likely have not mixed\n",
      "WARNING:pystan:209 of 4000 iterations ended with a divergence (5.22 %).\n",
      "WARNING:pystan:Try running with adapt_delta larger than 0.99 to remove the divergences.\n",
      "WARNING:pystan:17 of 4000 iterations saturated the maximum tree depth of 10 (0.425 %)\n",
      "WARNING:pystan:Run again with max_treedepth larger than 10 to avoid saturation\n",
      "WARNING:pystan:5 of 4000 iterations saturated the maximum tree depth of 10 (0.125 %)\n",
      "WARNING:pystan:Run again with max_treedepth larger than 10 to avoid saturation\n",
      "WARNING:pystan:65 of 4000 iterations saturated the maximum tree depth of 10 (1.62 %)\n",
      "WARNING:pystan:Run again with max_treedepth larger than 10 to avoid saturation\n",
      "WARNING:pystan:192 of 4000 iterations saturated the maximum tree depth of 10 (4.8 %)\n",
      "WARNING:pystan:Run again with max_treedepth larger than 10 to avoid saturation\n",
      "WARNING:pystan:n_eff / iter below 0.001 indicates that the effective sample size has likely been overestimated\n",
      "WARNING:pystan:Rhat above 1.1 or below 0.9 indicates that the chains very likely have not mixed\n",
      "WARNING:pystan:1280 of 4000 iterations ended with a divergence (32 %).\n",
      "WARNING:pystan:Try running with adapt_delta larger than 0.99 to remove the divergences.\n",
      "WARNING:pystan:n_eff / iter below 0.001 indicates that the effective sample size has likely been overestimated\n",
      "WARNING:pystan:Rhat above 1.1 or below 0.9 indicates that the chains very likely have not mixed\n",
      "WARNING:pystan:302 of 4000 iterations ended with a divergence (7.55 %).\n",
      "WARNING:pystan:Try running with adapt_delta larger than 0.99 to remove the divergences.\n",
      "WARNING:pystan:310 of 4000 iterations saturated the maximum tree depth of 10 (7.75 %)\n",
      "WARNING:pystan:Run again with max_treedepth larger than 10 to avoid saturation\n",
      "WARNING:pystan:Chain 4: E-BFMI = 0.175\n",
      "WARNING:pystan:E-BFMI below 0.2 indicates you may need to reparameterize your model\n",
      "WARNING:pystan:Rhat above 1.1 or below 0.9 indicates that the chains very likely have not mixed\n",
      "WARNING:pystan:5 of 4000 iterations saturated the maximum tree depth of 10 (0.125 %)\n",
      "WARNING:pystan:Run again with max_treedepth larger than 10 to avoid saturation\n",
      "WARNING:pystan:214 of 4000 iterations saturated the maximum tree depth of 10 (5.35 %)\n",
      "WARNING:pystan:Run again with max_treedepth larger than 10 to avoid saturation\n",
      "WARNING:pystan:n_eff / iter below 0.001 indicates that the effective sample size has likely been overestimated\n",
      "WARNING:pystan:Rhat above 1.1 or below 0.9 indicates that the chains very likely have not mixed\n",
      "WARNING:pystan:489 of 4000 iterations ended with a divergence (12.2 %).\n",
      "WARNING:pystan:Try running with adapt_delta larger than 0.99 to remove the divergences.\n",
      "WARNING:pystan:n_eff / iter below 0.001 indicates that the effective sample size has likely been overestimated\n",
      "WARNING:pystan:Rhat above 1.1 or below 0.9 indicates that the chains very likely have not mixed\n",
      "WARNING:pystan:677 of 4000 iterations ended with a divergence (16.9 %).\n",
      "WARNING:pystan:Try running with adapt_delta larger than 0.99 to remove the divergences.\n",
      "WARNING:pystan:n_eff / iter below 0.001 indicates that the effective sample size has likely been overestimated\n",
      "WARNING:pystan:Rhat above 1.1 or below 0.9 indicates that the chains very likely have not mixed\n",
      "WARNING:pystan:464 of 4000 iterations ended with a divergence (11.6 %).\n",
      "WARNING:pystan:Try running with adapt_delta larger than 0.99 to remove the divergences.\n",
      "WARNING:pystan:Chain 2: E-BFMI = 0.143\n",
      "WARNING:pystan:E-BFMI below 0.2 indicates you may need to reparameterize your model\n",
      "WARNING:pystan:37 of 4000 iterations saturated the maximum tree depth of 10 (0.925 %)\n",
      "WARNING:pystan:Run again with max_treedepth larger than 10 to avoid saturation\n",
      "WARNING:pystan:Rhat above 1.1 or below 0.9 indicates that the chains very likely have not mixed\n",
      "WARNING:pystan:n_eff / iter below 0.001 indicates that the effective sample size has likely been overestimated\n",
      "WARNING:pystan:Rhat above 1.1 or below 0.9 indicates that the chains very likely have not mixed\n",
      "WARNING:pystan:10 of 4000 iterations ended with a divergence (0.25 %).\n",
      "WARNING:pystan:Try running with adapt_delta larger than 0.99 to remove the divergences.\n",
      "WARNING:pystan:3 of 4000 iterations saturated the maximum tree depth of 10 (0.075 %)\n",
      "WARNING:pystan:Run again with max_treedepth larger than 10 to avoid saturation\n",
      "WARNING:pystan:Rhat above 1.1 or below 0.9 indicates that the chains very likely have not mixed\n",
      "WARNING:pystan:34 of 4000 iterations saturated the maximum tree depth of 10 (0.85 %)\n",
      "WARNING:pystan:Run again with max_treedepth larger than 10 to avoid saturation\n",
      "WARNING:pystan:1 of 4000 iterations ended with a divergence (0.025 %).\n",
      "WARNING:pystan:Try running with adapt_delta larger than 0.99 to remove the divergences.\n",
      "WARNING:pystan:157 of 4000 iterations saturated the maximum tree depth of 10 (3.92 %)\n",
      "WARNING:pystan:Run again with max_treedepth larger than 10 to avoid saturation\n",
      "WARNING:pystan:1 of 4000 iterations saturated the maximum tree depth of 10 (0.025 %)\n",
      "WARNING:pystan:Run again with max_treedepth larger than 10 to avoid saturation\n",
      "WARNING:pystan:n_eff / iter below 0.001 indicates that the effective sample size has likely been overestimated\n",
      "WARNING:pystan:Rhat above 1.1 or below 0.9 indicates that the chains very likely have not mixed\n",
      "WARNING:pystan:453 of 4000 iterations ended with a divergence (11.3 %).\n",
      "WARNING:pystan:Try running with adapt_delta larger than 0.99 to remove the divergences.\n",
      "WARNING:pystan:Chain 2: E-BFMI = 0.0817\n",
      "WARNING:pystan:E-BFMI below 0.2 indicates you may need to reparameterize your model\n",
      "WARNING:pystan:24 of 4000 iterations saturated the maximum tree depth of 10 (0.6 %)\n",
      "WARNING:pystan:Run again with max_treedepth larger than 10 to avoid saturation\n",
      "WARNING:pystan:154 of 4000 iterations saturated the maximum tree depth of 10 (3.85 %)\n",
      "WARNING:pystan:Run again with max_treedepth larger than 10 to avoid saturation\n",
      "WARNING:pystan:n_eff / iter below 0.001 indicates that the effective sample size has likely been overestimated\n",
      "WARNING:pystan:Rhat above 1.1 or below 0.9 indicates that the chains very likely have not mixed\n",
      "WARNING:pystan:339 of 4000 iterations ended with a divergence (8.47 %).\n",
      "WARNING:pystan:Try running with adapt_delta larger than 0.99 to remove the divergences.\n",
      "WARNING:pystan:513 of 4000 iterations saturated the maximum tree depth of 10 (12.8 %)\n",
      "WARNING:pystan:Run again with max_treedepth larger than 10 to avoid saturation\n",
      "WARNING:pystan:Chain 3: E-BFMI = 0.0126\n",
      "WARNING:pystan:E-BFMI below 0.2 indicates you may need to reparameterize your model\n",
      "WARNING:pystan:2 of 4000 iterations saturated the maximum tree depth of 10 (0.05 %)\n",
      "WARNING:pystan:Run again with max_treedepth larger than 10 to avoid saturation\n",
      "WARNING:pystan:16 of 4000 iterations saturated the maximum tree depth of 10 (0.4 %)\n",
      "WARNING:pystan:Run again with max_treedepth larger than 10 to avoid saturation\n",
      "WARNING:pystan:Rhat above 1.1 or below 0.9 indicates that the chains very likely have not mixed\n",
      "WARNING:pystan:47 of 4000 iterations saturated the maximum tree depth of 10 (1.18 %)\n",
      "WARNING:pystan:Run again with max_treedepth larger than 10 to avoid saturation\n",
      "WARNING:pystan:28 of 4000 iterations saturated the maximum tree depth of 10 (0.7 %)\n",
      "WARNING:pystan:Run again with max_treedepth larger than 10 to avoid saturation\n",
      "WARNING:pystan:122 of 4000 iterations saturated the maximum tree depth of 10 (3.05 %)\n",
      "WARNING:pystan:Run again with max_treedepth larger than 10 to avoid saturation\n",
      "WARNING:pystan:93 of 4000 iterations ended with a divergence (2.33 %).\n",
      "WARNING:pystan:Try running with adapt_delta larger than 0.99 to remove the divergences.\n",
      "WARNING:pystan:65 of 4000 iterations saturated the maximum tree depth of 10 (1.62 %)\n",
      "WARNING:pystan:Run again with max_treedepth larger than 10 to avoid saturation\n",
      "WARNING:pystan:n_eff / iter below 0.001 indicates that the effective sample size has likely been overestimated\n",
      "WARNING:pystan:Rhat above 1.1 or below 0.9 indicates that the chains very likely have not mixed\n",
      "WARNING:pystan:1 of 4000 iterations ended with a divergence (0.025 %).\n",
      "WARNING:pystan:Try running with adapt_delta larger than 0.99 to remove the divergences.\n",
      "WARNING:pystan:Rhat above 1.1 or below 0.9 indicates that the chains very likely have not mixed\n",
      "WARNING:pystan:59 of 4000 iterations ended with a divergence (1.48 %).\n",
      "WARNING:pystan:Try running with adapt_delta larger than 0.99 to remove the divergences.\n",
      "WARNING:pystan:n_eff / iter below 0.001 indicates that the effective sample size has likely been overestimated\n",
      "WARNING:pystan:Rhat above 1.1 or below 0.9 indicates that the chains very likely have not mixed\n",
      "WARNING:pystan:2 of 4000 iterations ended with a divergence (0.05 %).\n",
      "WARNING:pystan:Try running with adapt_delta larger than 0.99 to remove the divergences.\n",
      "WARNING:pystan:n_eff / iter below 0.001 indicates that the effective sample size has likely been overestimated\n",
      "WARNING:pystan:Rhat above 1.1 or below 0.9 indicates that the chains very likely have not mixed\n",
      "WARNING:pystan:34 of 4000 iterations saturated the maximum tree depth of 10 (0.85 %)\n",
      "WARNING:pystan:Run again with max_treedepth larger than 10 to avoid saturation\n",
      "WARNING:pystan:Chain 1: E-BFMI = 0.0703\n",
      "WARNING:pystan:E-BFMI below 0.2 indicates you may need to reparameterize your model\n",
      "WARNING:pystan:144 of 4000 iterations saturated the maximum tree depth of 10 (3.6 %)\n",
      "WARNING:pystan:Run again with max_treedepth larger than 10 to avoid saturation\n",
      "WARNING:pystan:5 of 4000 iterations saturated the maximum tree depth of 10 (0.125 %)\n",
      "WARNING:pystan:Run again with max_treedepth larger than 10 to avoid saturation\n",
      "WARNING:pystan:2 of 4000 iterations ended with a divergence (0.05 %).\n",
      "WARNING:pystan:Try running with adapt_delta larger than 0.99 to remove the divergences.\n",
      "WARNING:pystan:n_eff / iter below 0.001 indicates that the effective sample size has likely been overestimated\n",
      "WARNING:pystan:Rhat above 1.1 or below 0.9 indicates that the chains very likely have not mixed\n",
      "WARNING:pystan:99 of 4000 iterations saturated the maximum tree depth of 10 (2.48 %)\n",
      "WARNING:pystan:Run again with max_treedepth larger than 10 to avoid saturation\n",
      "WARNING:pystan:197 of 4000 iterations saturated the maximum tree depth of 10 (4.92 %)\n",
      "WARNING:pystan:Run again with max_treedepth larger than 10 to avoid saturation\n",
      "WARNING:pystan:n_eff / iter below 0.001 indicates that the effective sample size has likely been overestimated\n",
      "WARNING:pystan:Rhat above 1.1 or below 0.9 indicates that the chains very likely have not mixed\n",
      "WARNING:pystan:315 of 4000 iterations ended with a divergence (7.88 %).\n",
      "WARNING:pystan:Try running with adapt_delta larger than 0.99 to remove the divergences.\n",
      "WARNING:pystan:254 of 4000 iterations saturated the maximum tree depth of 10 (6.35 %)\n",
      "WARNING:pystan:Run again with max_treedepth larger than 10 to avoid saturation\n",
      "WARNING:pystan:Chain 1: E-BFMI = 0.041\n",
      "WARNING:pystan:E-BFMI below 0.2 indicates you may need to reparameterize your model\n",
      "WARNING:pystan:3 of 4000 iterations saturated the maximum tree depth of 10 (0.075 %)\n",
      "WARNING:pystan:Run again with max_treedepth larger than 10 to avoid saturation\n",
      "WARNING:pystan:1 of 4000 iterations saturated the maximum tree depth of 10 (0.025 %)\n",
      "WARNING:pystan:Run again with max_treedepth larger than 10 to avoid saturation\n",
      "WARNING:pystan:n_eff / iter below 0.001 indicates that the effective sample size has likely been overestimated\n",
      "WARNING:pystan:Rhat above 1.1 or below 0.9 indicates that the chains very likely have not mixed\n",
      "WARNING:pystan:51 of 4000 iterations ended with a divergence (1.27 %).\n",
      "WARNING:pystan:Try running with adapt_delta larger than 0.99 to remove the divergences.\n",
      "WARNING:pystan:22 of 4000 iterations saturated the maximum tree depth of 10 (0.55 %)\n",
      "WARNING:pystan:Run again with max_treedepth larger than 10 to avoid saturation\n",
      "WARNING:pystan:n_eff / iter below 0.001 indicates that the effective sample size has likely been overestimated\n",
      "WARNING:pystan:Rhat above 1.1 or below 0.9 indicates that the chains very likely have not mixed\n",
      "WARNING:pystan:231 of 4000 iterations ended with a divergence (5.78 %).\n",
      "WARNING:pystan:Try running with adapt_delta larger than 0.99 to remove the divergences.\n",
      "WARNING:pystan:545 of 4000 iterations saturated the maximum tree depth of 10 (13.6 %)\n",
      "WARNING:pystan:Run again with max_treedepth larger than 10 to avoid saturation\n",
      "WARNING:pystan:Chain 2: E-BFMI = 0.0464\n",
      "WARNING:pystan:Chain 3: E-BFMI = 0.0833\n",
      "WARNING:pystan:E-BFMI below 0.2 indicates you may need to reparameterize your model\n",
      "WARNING:pystan:Rhat above 1.1 or below 0.9 indicates that the chains very likely have not mixed\n",
      "WARNING:pystan:105 of 4000 iterations saturated the maximum tree depth of 10 (2.62 %)\n",
      "WARNING:pystan:Run again with max_treedepth larger than 10 to avoid saturation\n",
      "WARNING:pystan:14 of 4000 iterations saturated the maximum tree depth of 10 (0.35 %)\n",
      "WARNING:pystan:Run again with max_treedepth larger than 10 to avoid saturation\n",
      "WARNING:pystan:n_eff / iter below 0.001 indicates that the effective sample size has likely been overestimated\n",
      "WARNING:pystan:Rhat above 1.1 or below 0.9 indicates that the chains very likely have not mixed\n",
      "WARNING:pystan:181 of 4000 iterations ended with a divergence (4.53 %).\n",
      "WARNING:pystan:Try running with adapt_delta larger than 0.99 to remove the divergences.\n",
      "WARNING:pystan:67 of 4000 iterations saturated the maximum tree depth of 10 (1.68 %)\n",
      "WARNING:pystan:Run again with max_treedepth larger than 10 to avoid saturation\n",
      "WARNING:pystan:Chain 1: E-BFMI = 0.0394\n",
      "WARNING:pystan:Chain 4: E-BFMI = 0.0934\n",
      "WARNING:pystan:E-BFMI below 0.2 indicates you may need to reparameterize your model\n",
      "WARNING:pystan:Rhat above 1.1 or below 0.9 indicates that the chains very likely have not mixed\n",
      "WARNING:pystan:160 of 4000 iterations ended with a divergence (4 %).\n",
      "WARNING:pystan:Try running with adapt_delta larger than 0.99 to remove the divergences.\n",
      "WARNING:pystan:Chain 4: E-BFMI = 0.0761\n",
      "WARNING:pystan:E-BFMI below 0.2 indicates you may need to reparameterize your model\n",
      "WARNING:pystan:16 of 4000 iterations saturated the maximum tree depth of 10 (0.4 %)\n",
      "WARNING:pystan:Run again with max_treedepth larger than 10 to avoid saturation\n",
      "WARNING:pystan:n_eff / iter below 0.001 indicates that the effective sample size has likely been overestimated\n",
      "WARNING:pystan:Rhat above 1.1 or below 0.9 indicates that the chains very likely have not mixed\n",
      "WARNING:pystan:6 of 4000 iterations ended with a divergence (0.15 %).\n",
      "WARNING:pystan:Try running with adapt_delta larger than 0.99 to remove the divergences.\n",
      "WARNING:pystan:536 of 4000 iterations saturated the maximum tree depth of 10 (13.4 %)\n",
      "WARNING:pystan:Run again with max_treedepth larger than 10 to avoid saturation\n",
      "WARNING:pystan:Rhat above 1.1 or below 0.9 indicates that the chains very likely have not mixed\n",
      "WARNING:pystan:41 of 4000 iterations saturated the maximum tree depth of 10 (1.02 %)\n",
      "WARNING:pystan:Run again with max_treedepth larger than 10 to avoid saturation\n",
      "WARNING:pystan:134 of 4000 iterations saturated the maximum tree depth of 10 (3.35 %)\n",
      "WARNING:pystan:Run again with max_treedepth larger than 10 to avoid saturation\n",
      "WARNING:pystan:208 of 4000 iterations saturated the maximum tree depth of 10 (5.2 %)\n",
      "WARNING:pystan:Run again with max_treedepth larger than 10 to avoid saturation\n",
      "WARNING:pystan:n_eff / iter below 0.001 indicates that the effective sample size has likely been overestimated\n",
      "WARNING:pystan:Rhat above 1.1 or below 0.9 indicates that the chains very likely have not mixed\n",
      "WARNING:pystan:168 of 4000 iterations ended with a divergence (4.2 %).\n",
      "WARNING:pystan:Try running with adapt_delta larger than 0.99 to remove the divergences.\n",
      "WARNING:pystan:Chain 4: E-BFMI = 0.0733\n",
      "WARNING:pystan:E-BFMI below 0.2 indicates you may need to reparameterize your model\n",
      "WARNING:pystan:3 of 4000 iterations saturated the maximum tree depth of 10 (0.075 %)\n",
      "WARNING:pystan:Run again with max_treedepth larger than 10 to avoid saturation\n",
      "WARNING:pystan:1 of 4000 iterations saturated the maximum tree depth of 10 (0.025 %)\n",
      "WARNING:pystan:Run again with max_treedepth larger than 10 to avoid saturation\n",
      "WARNING:pystan:2 of 4000 iterations ended with a divergence (0.05 %).\n",
      "WARNING:pystan:Try running with adapt_delta larger than 0.99 to remove the divergences.\n",
      "WARNING:pystan:Rhat above 1.1 or below 0.9 indicates that the chains very likely have not mixed\n",
      "WARNING:pystan:139 of 4000 iterations ended with a divergence (3.48 %).\n",
      "WARNING:pystan:Try running with adapt_delta larger than 0.99 to remove the divergences.\n",
      "WARNING:pystan:3 of 4000 iterations saturated the maximum tree depth of 10 (0.075 %)\n",
      "WARNING:pystan:Run again with max_treedepth larger than 10 to avoid saturation\n",
      "WARNING:pystan:n_eff / iter below 0.001 indicates that the effective sample size has likely been overestimated\n",
      "WARNING:pystan:Rhat above 1.1 or below 0.9 indicates that the chains very likely have not mixed\n",
      "WARNING:pystan:404 of 4000 iterations saturated the maximum tree depth of 10 (10.1 %)\n",
      "WARNING:pystan:Run again with max_treedepth larger than 10 to avoid saturation\n",
      "WARNING:pystan:61 of 4000 iterations ended with a divergence (1.52 %).\n",
      "WARNING:pystan:Try running with adapt_delta larger than 0.99 to remove the divergences.\n"
     ]
    }
   ],
   "source": [
    "#Fit model to all events, save them. \n",
    "#This will take a while\n",
    "#We will get some divergent transitions,warnings\n",
    "#But we're not expecting our model to fit every time series\n",
    "#That's \n",
    "import src.model_fit as srcmf\n",
    "diagnostics = []\n",
    "for idx in tqdm(range(events.shape[0])):\n",
    "    diagnostics.append(srcmf.fit_model(events.iloc[idx],model,keep=False))"
   ]
  },
  {
   "cell_type": "code",
   "execution_count": 9,
   "id": "posted-macro",
   "metadata": {},
   "outputs": [
    {
     "data": {
      "application/vnd.jupyter.widget-view+json": {
       "model_id": "98a9d02693254e97b7e31a22f5d73dbf",
       "version_major": 2,
       "version_minor": 0
      },
      "text/plain": [
       "  0%|          | 0/260 [00:00<?, ?it/s]"
      ]
     },
     "metadata": {},
     "output_type": "display_data"
    },
    {
     "name": "stdout",
     "output_type": "stream",
     "text": [
      "--------\n",
      "voting_machines_7_event_0\n",
      "--------\n",
      "voting_machines_7_event_1\n",
      "--------\n",
      "ballot_stuffing_1_event_0\n",
      "--------\n",
      "destroyed_ballots_1_event_0\n",
      "--------\n",
      "ballot_harvesting_3_event_0\n",
      "--------\n",
      "voting_machines_2_event_0\n",
      "--------\n",
      "ballot_dumping3_event_0\n",
      "--------\n",
      "ballot_dumping3_event_1\n"
     ]
    },
    {
     "name": "stderr",
     "output_type": "stream",
     "text": [
      "WARNING:pystan:Rhat above 1.1 or below 0.9 indicates that the chains very likely have not mixed\n"
     ]
    },
    {
     "name": "stdout",
     "output_type": "stream",
     "text": [
      "--------\n",
      "ballot_dumping3_event_2\n",
      "--------\n",
      "dhs_watermarks_1_event_0\n",
      "--------\n",
      "protests_3_event_0\n",
      "--------\n",
      "partisan_counting_3_event_0\n"
     ]
    },
    {
     "name": "stderr",
     "output_type": "stream",
     "text": [
      "WARNING:pystan:Rhat above 1.1 or below 0.9 indicates that the chains very likely have not mixed\n",
      "WARNING:pystan:209 of 4000 iterations ended with a divergence (5.22 %).\n",
      "WARNING:pystan:Try running with adapt_delta larger than 0.99 to remove the divergences.\n",
      "WARNING:pystan:17 of 4000 iterations saturated the maximum tree depth of 10 (0.425 %)\n",
      "WARNING:pystan:Run again with max_treedepth larger than 10 to avoid saturation\n"
     ]
    },
    {
     "name": "stdout",
     "output_type": "stream",
     "text": [
      "--------\n",
      "rejection_rates_1_event_0\n",
      "--------\n",
      "protests1_event_0\n"
     ]
    },
    {
     "name": "stderr",
     "output_type": "stream",
     "text": [
      "WARNING:pystan:5 of 4000 iterations saturated the maximum tree depth of 10 (0.125 %)\n",
      "WARNING:pystan:Run again with max_treedepth larger than 10 to avoid saturation\n"
     ]
    },
    {
     "name": "stdout",
     "output_type": "stream",
     "text": [
      "--------\n",
      "missing_found_ballots_2_event_0\n",
      "--------\n",
      "premature_victory_6_event_0\n",
      "--------\n",
      "ballot_chasers_1_event_0\n"
     ]
    },
    {
     "name": "stderr",
     "output_type": "stream",
     "text": [
      "WARNING:pystan:65 of 4000 iterations saturated the maximum tree depth of 10 (1.62 %)\n",
      "WARNING:pystan:Run again with max_treedepth larger than 10 to avoid saturation\n"
     ]
    },
    {
     "name": "stdout",
     "output_type": "stream",
     "text": [
      "--------\n",
      "ballot_chasers_1_event_1\n",
      "--------\n",
      "ballot_counting_2_event_0\n",
      "--------\n",
      "bad_statistics_6_event_0\n"
     ]
    },
    {
     "name": "stderr",
     "output_type": "stream",
     "text": [
      "WARNING:pystan:192 of 4000 iterations saturated the maximum tree depth of 10 (4.8 %)\n",
      "WARNING:pystan:Run again with max_treedepth larger than 10 to avoid saturation\n"
     ]
    },
    {
     "name": "stdout",
     "output_type": "stream",
     "text": [
      "--------\n",
      "violence_at_polling_place_1_event_0\n",
      "--------\n",
      "fake_IDs_1_event_0\n"
     ]
    },
    {
     "name": "stderr",
     "output_type": "stream",
     "text": [
      "WARNING:pystan:n_eff / iter below 0.001 indicates that the effective sample size has likely been overestimated\n",
      "WARNING:pystan:Rhat above 1.1 or below 0.9 indicates that the chains very likely have not mixed\n",
      "WARNING:pystan:1280 of 4000 iterations ended with a divergence (32 %).\n",
      "WARNING:pystan:Try running with adapt_delta larger than 0.99 to remove the divergences.\n"
     ]
    },
    {
     "name": "stdout",
     "output_type": "stream",
     "text": [
      "--------\n",
      "fake_IDs_1_event_1\n",
      "--------\n",
      "fake_IDs_1_event_2\n"
     ]
    },
    {
     "name": "stderr",
     "output_type": "stream",
     "text": [
      "WARNING:pystan:n_eff / iter below 0.001 indicates that the effective sample size has likely been overestimated\n",
      "WARNING:pystan:Rhat above 1.1 or below 0.9 indicates that the chains very likely have not mixed\n",
      "WARNING:pystan:302 of 4000 iterations ended with a divergence (7.55 %).\n",
      "WARNING:pystan:Try running with adapt_delta larger than 0.99 to remove the divergences.\n",
      "WARNING:pystan:310 of 4000 iterations saturated the maximum tree depth of 10 (7.75 %)\n",
      "WARNING:pystan:Run again with max_treedepth larger than 10 to avoid saturation\n",
      "WARNING:pystan:Chain 4: E-BFMI = 0.175\n",
      "WARNING:pystan:E-BFMI below 0.2 indicates you may need to reparameterize your model\n"
     ]
    },
    {
     "name": "stdout",
     "output_type": "stream",
     "text": [
      "--------\n",
      "fake_IDs_1_event_3\n",
      "--------\n",
      "fake_IDs_1_event_4\n",
      "--------\n",
      "poll_watchers_4_event_0\n"
     ]
    },
    {
     "name": "stderr",
     "output_type": "stream",
     "text": [
      "WARNING:pystan:Rhat above 1.1 or below 0.9 indicates that the chains very likely have not mixed\n",
      "WARNING:pystan:5 of 4000 iterations saturated the maximum tree depth of 10 (0.125 %)\n",
      "WARNING:pystan:Run again with max_treedepth larger than 10 to avoid saturation\n"
     ]
    },
    {
     "name": "stdout",
     "output_type": "stream",
     "text": [
      "--------\n",
      "poll_watchers_2_event_0\n",
      "--------\n",
      "poll_watchers_2_event_1\n",
      "--------\n",
      "poll_watchers_2_event_2\n"
     ]
    },
    {
     "name": "stderr",
     "output_type": "stream",
     "text": [
      "WARNING:pystan:214 of 4000 iterations saturated the maximum tree depth of 10 (5.35 %)\n",
      "WARNING:pystan:Run again with max_treedepth larger than 10 to avoid saturation\n"
     ]
    },
    {
     "name": "stdout",
     "output_type": "stream",
     "text": [
      "--------\n",
      "more_votes_than_registered_1_event_0\n",
      "--------\n",
      "voting_twice3_event_0\n"
     ]
    },
    {
     "name": "stderr",
     "output_type": "stream",
     "text": [
      "WARNING:pystan:n_eff / iter below 0.001 indicates that the effective sample size has likely been overestimated\n",
      "WARNING:pystan:Rhat above 1.1 or below 0.9 indicates that the chains very likely have not mixed\n",
      "WARNING:pystan:489 of 4000 iterations ended with a divergence (12.2 %).\n",
      "WARNING:pystan:Try running with adapt_delta larger than 0.99 to remove the divergences.\n"
     ]
    },
    {
     "name": "stdout",
     "output_type": "stream",
     "text": [
      "--------\n",
      "voting_twice3_event_1\n",
      "--------\n",
      "voting_twice3_event_2\n"
     ]
    },
    {
     "name": "stderr",
     "output_type": "stream",
     "text": [
      "WARNING:pystan:n_eff / iter below 0.001 indicates that the effective sample size has likely been overestimated\n",
      "WARNING:pystan:Rhat above 1.1 or below 0.9 indicates that the chains very likely have not mixed\n",
      "WARNING:pystan:677 of 4000 iterations ended with a divergence (16.9 %).\n",
      "WARNING:pystan:Try running with adapt_delta larger than 0.99 to remove the divergences.\n"
     ]
    },
    {
     "name": "stdout",
     "output_type": "stream",
     "text": [
      "--------\n",
      "voting_twice3_event_3\n"
     ]
    },
    {
     "name": "stderr",
     "output_type": "stream",
     "text": [
      "WARNING:pystan:n_eff / iter below 0.001 indicates that the effective sample size has likely been overestimated\n",
      "WARNING:pystan:Rhat above 1.1 or below 0.9 indicates that the chains very likely have not mixed\n",
      "WARNING:pystan:464 of 4000 iterations ended with a divergence (11.6 %).\n",
      "WARNING:pystan:Try running with adapt_delta larger than 0.99 to remove the divergences.\n",
      "WARNING:pystan:Chain 2: E-BFMI = 0.143\n",
      "WARNING:pystan:E-BFMI below 0.2 indicates you may need to reparameterize your model\n"
     ]
    },
    {
     "name": "stdout",
     "output_type": "stream",
     "text": [
      "--------\n",
      "voting_twice3_event_4\n",
      "--------\n",
      "voting_twice3_event_5\n",
      "--------\n",
      "poll_watchers_10_event_0\n",
      "--------\n",
      "partisanship_at_polling_places_3_event_0\n",
      "--------\n",
      "ballot_dumping6_event_0\n",
      "--------\n",
      "ballot_dumping6_event_1\n",
      "--------\n",
      "ballot_dumping6_event_2\n"
     ]
    },
    {
     "name": "stderr",
     "output_type": "stream",
     "text": [
      "WARNING:pystan:37 of 4000 iterations saturated the maximum tree depth of 10 (0.925 %)\n",
      "WARNING:pystan:Run again with max_treedepth larger than 10 to avoid saturation\n"
     ]
    },
    {
     "name": "stdout",
     "output_type": "stream",
     "text": [
      "--------\n",
      "ballot_counting_1_event_0\n",
      "--------\n",
      "voting_twice5_event_0\n",
      "--------\n",
      "voting_twice5_event_1\n",
      "--------\n",
      "voting_twice5_event_2\n",
      "--------\n",
      "poll_watchers_8_event_0\n",
      "--------\n",
      "color_revolution_1_event_0\n",
      "--------\n",
      "color_revolution_1_event_1\n"
     ]
    },
    {
     "name": "stderr",
     "output_type": "stream",
     "text": [
      "WARNING:pystan:Rhat above 1.1 or below 0.9 indicates that the chains very likely have not mixed\n"
     ]
    },
    {
     "name": "stdout",
     "output_type": "stream",
     "text": [
      "--------\n",
      "color_revolution_1_event_2\n"
     ]
    },
    {
     "name": "stderr",
     "output_type": "stream",
     "text": [
      "WARNING:pystan:n_eff / iter below 0.001 indicates that the effective sample size has likely been overestimated\n"
     ]
    },
    {
     "name": "stdout",
     "output_type": "stream",
     "text": [
      "--------\n",
      "color_revolution_1_event_3\n",
      "--------\n",
      "color_revolution_1_event_4\n"
     ]
    },
    {
     "name": "stderr",
     "output_type": "stream",
     "text": [
      "WARNING:pystan:Rhat above 1.1 or below 0.9 indicates that the chains very likely have not mixed\n",
      "WARNING:pystan:10 of 4000 iterations ended with a divergence (0.25 %).\n",
      "WARNING:pystan:Try running with adapt_delta larger than 0.99 to remove the divergences.\n"
     ]
    },
    {
     "name": "stdout",
     "output_type": "stream",
     "text": [
      "--------\n",
      "color_revolution_1_event_5\n",
      "--------\n",
      "color_revolution_1_event_6\n",
      "--------\n",
      "color_revolution_1_event_7\n",
      "--------\n",
      "color_revolution_1_event_8\n",
      "--------\n",
      "color_revolution_1_event_9\n",
      "--------\n",
      "color_revolution_1_event_10\n",
      "--------\n",
      "color_revolution_1_event_11\n",
      "--------\n",
      "color_revolution_1_event_12\n"
     ]
    },
    {
     "name": "stderr",
     "output_type": "stream",
     "text": [
      "WARNING:pystan:3 of 4000 iterations saturated the maximum tree depth of 10 (0.075 %)\n",
      "WARNING:pystan:Run again with max_treedepth larger than 10 to avoid saturation\n"
     ]
    },
    {
     "name": "stdout",
     "output_type": "stream",
     "text": [
      "--------\n",
      "partisanship_at_polling_places_2_event_0\n",
      "--------\n",
      "premature_victory_3_event_0\n",
      "--------\n",
      "dead_voters_1_event_0\n",
      "--------\n",
      "stolen_ballots4_event_0\n"
     ]
    },
    {
     "name": "stderr",
     "output_type": "stream",
     "text": [
      "WARNING:pystan:Rhat above 1.1 or below 0.9 indicates that the chains very likely have not mixed\n"
     ]
    },
    {
     "name": "stdout",
     "output_type": "stream",
     "text": [
      "--------\n",
      "premature_victory_5_event_0\n",
      "--------\n",
      "i_did_fraud_1_event_0\n",
      "--------\n",
      "i_did_fraud_1_event_1\n",
      "--------\n",
      "vote_counting_videos_6_event_0\n",
      "--------\n",
      "partisan_counting_1_event_0\n"
     ]
    },
    {
     "name": "stderr",
     "output_type": "stream",
     "text": [
      "WARNING:pystan:34 of 4000 iterations saturated the maximum tree depth of 10 (0.85 %)\n",
      "WARNING:pystan:Run again with max_treedepth larger than 10 to avoid saturation\n"
     ]
    },
    {
     "name": "stdout",
     "output_type": "stream",
     "text": [
      "--------\n",
      "vote_counting_videos_2_event_0\n",
      "--------\n",
      "out_of_context_content_2_event_0\n"
     ]
    },
    {
     "name": "stderr",
     "output_type": "stream",
     "text": [
      "WARNING:pystan:1 of 4000 iterations ended with a divergence (0.025 %).\n",
      "WARNING:pystan:Try running with adapt_delta larger than 0.99 to remove the divergences.\n"
     ]
    },
    {
     "name": "stdout",
     "output_type": "stream",
     "text": [
      "--------\n",
      "ballot_box_issues_2_event_0\n",
      "--------\n",
      "ballot_box_issues_2_event_1\n"
     ]
    },
    {
     "name": "stderr",
     "output_type": "stream",
     "text": [
      "WARNING:pystan:157 of 4000 iterations saturated the maximum tree depth of 10 (3.92 %)\n",
      "WARNING:pystan:Run again with max_treedepth larger than 10 to avoid saturation\n"
     ]
    },
    {
     "name": "stdout",
     "output_type": "stream",
     "text": [
      "--------\n",
      "premature_victory_2_event_0\n"
     ]
    },
    {
     "name": "stderr",
     "output_type": "stream",
     "text": [
      "WARNING:pystan:1 of 4000 iterations saturated the maximum tree depth of 10 (0.025 %)\n",
      "WARNING:pystan:Run again with max_treedepth larger than 10 to avoid saturation\n"
     ]
    },
    {
     "name": "stdout",
     "output_type": "stream",
     "text": [
      "--------\n",
      "premature_victory_2_event_1\n",
      "--------\n",
      "missing_found_ballots_1_event_0\n",
      "--------\n",
      "missing_found_ballots_1_event_1\n",
      "--------\n",
      "missing_found_ballots_5_event_0\n",
      "--------\n",
      "dead_voters_3_event_0\n",
      "--------\n",
      "bad_statistics_4_event_0\n",
      "--------\n",
      "bad_statistics_4_event_1\n",
      "--------\n",
      "intimidation_8_event_0\n",
      "--------\n",
      "intimidation_8_event_1\n",
      "--------\n",
      "intimidation_8_event_2\n",
      "--------\n",
      "intimidation_8_event_3\n",
      "--------\n",
      "intimidation_8_event_4\n",
      "--------\n",
      "stolen_ballots1_event_0\n",
      "--------\n",
      "intimidation_2_event_0\n",
      "--------\n",
      "whistleblower_2_event_0\n",
      "--------\n",
      "whistleblower_2_event_1\n",
      "--------\n",
      "whistleblower_2_event_2\n",
      "--------\n",
      "whistleblower_2_event_3\n"
     ]
    },
    {
     "name": "stderr",
     "output_type": "stream",
     "text": [
      "WARNING:pystan:n_eff / iter below 0.001 indicates that the effective sample size has likely been overestimated\n",
      "WARNING:pystan:Rhat above 1.1 or below 0.9 indicates that the chains very likely have not mixed\n",
      "WARNING:pystan:453 of 4000 iterations ended with a divergence (11.3 %).\n",
      "WARNING:pystan:Try running with adapt_delta larger than 0.99 to remove the divergences.\n",
      "WARNING:pystan:Chain 2: E-BFMI = 0.0817\n",
      "WARNING:pystan:E-BFMI below 0.2 indicates you may need to reparameterize your model\n"
     ]
    },
    {
     "name": "stdout",
     "output_type": "stream",
     "text": [
      "--------\n",
      "whistleblower_2_event_4\n",
      "--------\n",
      "whistleblower_2_event_5\n",
      "--------\n",
      "late_ballots_3_event_0\n",
      "--------\n",
      "late_ballots_3_event_1\n",
      "--------\n",
      "stolen_ballots2_event_0\n",
      "--------\n",
      "stolen_ballots2_event_1\n",
      "--------\n",
      "voting_twice2_event_0\n",
      "--------\n",
      "poll_watchers_9_event_0\n",
      "--------\n",
      "mail-in_voting_1_event_0\n",
      "--------\n",
      "mail-in_voting_1_event_1\n",
      "--------\n",
      "missing_found_ballots_4_event_0\n",
      "--------\n",
      "missing_found_ballots_4_event_1\n",
      "--------\n",
      "missing_found_ballots_4_event_2\n",
      "--------\n",
      "bad_statistics_3_event_0\n"
     ]
    },
    {
     "name": "stderr",
     "output_type": "stream",
     "text": [
      "WARNING:pystan:24 of 4000 iterations saturated the maximum tree depth of 10 (0.6 %)\n",
      "WARNING:pystan:Run again with max_treedepth larger than 10 to avoid saturation\n"
     ]
    },
    {
     "name": "stdout",
     "output_type": "stream",
     "text": [
      "--------\n",
      "bad_statistics_3_event_1\n",
      "--------\n",
      "ballot_dumping4_event_0\n"
     ]
    },
    {
     "name": "stderr",
     "output_type": "stream",
     "text": [
      "WARNING:pystan:154 of 4000 iterations saturated the maximum tree depth of 10 (3.85 %)\n",
      "WARNING:pystan:Run again with max_treedepth larger than 10 to avoid saturation\n"
     ]
    },
    {
     "name": "stdout",
     "output_type": "stream",
     "text": [
      "--------\n",
      "ballot_dumping4_event_1\n",
      "--------\n",
      "Hammer_and_scorecard_1_event_0\n",
      "--------\n",
      "Hammer_and_scorecard_1_event_1\n",
      "--------\n",
      "texas_political_director_fraud1_event_0\n",
      "--------\n",
      "texas_political_director_fraud1_event_1\n",
      "--------\n",
      "texas_political_director_fraud1_event_2\n"
     ]
    },
    {
     "name": "stderr",
     "output_type": "stream",
     "text": [
      "WARNING:pystan:n_eff / iter below 0.001 indicates that the effective sample size has likely been overestimated\n",
      "WARNING:pystan:Rhat above 1.1 or below 0.9 indicates that the chains very likely have not mixed\n",
      "WARNING:pystan:339 of 4000 iterations ended with a divergence (8.47 %).\n",
      "WARNING:pystan:Try running with adapt_delta larger than 0.99 to remove the divergences.\n",
      "WARNING:pystan:513 of 4000 iterations saturated the maximum tree depth of 10 (12.8 %)\n",
      "WARNING:pystan:Run again with max_treedepth larger than 10 to avoid saturation\n",
      "WARNING:pystan:Chain 3: E-BFMI = 0.0126\n",
      "WARNING:pystan:E-BFMI below 0.2 indicates you may need to reparameterize your model\n"
     ]
    },
    {
     "name": "stdout",
     "output_type": "stream",
     "text": [
      "--------\n",
      "premature_victory_4_event_0\n"
     ]
    },
    {
     "name": "stderr",
     "output_type": "stream",
     "text": [
      "WARNING:pystan:2 of 4000 iterations saturated the maximum tree depth of 10 (0.05 %)\n",
      "WARNING:pystan:Run again with max_treedepth larger than 10 to avoid saturation\n"
     ]
    },
    {
     "name": "stdout",
     "output_type": "stream",
     "text": [
      "--------\n",
      "poll_watchers_6_event_0\n",
      "--------\n",
      "vote_count_jumps_1_event_0\n",
      "--------\n",
      "intimidation_3_event_0\n",
      "--------\n",
      "intimidation_3_event_1\n",
      "--------\n",
      "intimidation_3_event_2\n",
      "--------\n",
      "missing_found_ballots_3_event_0\n",
      "--------\n",
      "Trump_delegtimization_3_event_0\n"
     ]
    },
    {
     "name": "stderr",
     "output_type": "stream",
     "text": [
      "WARNING:pystan:16 of 4000 iterations saturated the maximum tree depth of 10 (0.4 %)\n",
      "WARNING:pystan:Run again with max_treedepth larger than 10 to avoid saturation\n"
     ]
    },
    {
     "name": "stdout",
     "output_type": "stream",
     "text": [
      "--------\n",
      "bad_statistics_1_event_0\n",
      "--------\n",
      "misprinted_ballots_3_event_0\n",
      "--------\n",
      "misprinted_ballots_3_event_1\n",
      "--------\n",
      "misprinted_ballots_3_event_2\n",
      "--------\n",
      "whistleblower_4_event_0\n",
      "--------\n",
      "whistleblower_4_event_1\n",
      "--------\n",
      "protests_2_event_0\n",
      "--------\n",
      "vague_fraud_1_event_0\n",
      "--------\n",
      "vague_fraud_1_event_1\n",
      "--------\n",
      "ballot_dumping5_event_0\n",
      "--------\n",
      "ballot_dumping5_event_1\n",
      "--------\n",
      "ballot_dumping5_event_2\n",
      "--------\n",
      "ballot_dumping5_event_3\n"
     ]
    },
    {
     "name": "stderr",
     "output_type": "stream",
     "text": [
      "WARNING:pystan:Rhat above 1.1 or below 0.9 indicates that the chains very likely have not mixed\n"
     ]
    },
    {
     "name": "stdout",
     "output_type": "stream",
     "text": [
      "--------\n",
      "ballot_dumping5_event_4\n",
      "--------\n",
      "whistleblower_1_event_0\n"
     ]
    },
    {
     "name": "stderr",
     "output_type": "stream",
     "text": [
      "WARNING:pystan:47 of 4000 iterations saturated the maximum tree depth of 10 (1.18 %)\n",
      "WARNING:pystan:Run again with max_treedepth larger than 10 to avoid saturation\n",
      "WARNING:pystan:28 of 4000 iterations saturated the maximum tree depth of 10 (0.7 %)\n",
      "WARNING:pystan:Run again with max_treedepth larger than 10 to avoid saturation\n"
     ]
    },
    {
     "name": "stdout",
     "output_type": "stream",
     "text": [
      "--------\n",
      "partisan_counting_2_event_0\n",
      "--------\n",
      "late_ballots_1_event_0\n",
      "--------\n",
      "cancelled_ballot_1_event_0\n",
      "--------\n",
      "cancelled_ballot_1_event_1\n",
      "--------\n",
      "voting_machines_4_event_0\n",
      "--------\n",
      "vote_count_jumps_2_event_0\n",
      "--------\n",
      "vote_count_jumps_2_event_1\n",
      "--------\n",
      "partisan_counting_4_event_0\n",
      "--------\n",
      "partisan_counting_4_event_1\n",
      "--------\n",
      "livestream_1_event_0\n",
      "--------\n",
      "livestream_1_event_1\n",
      "--------\n",
      "livestream_1_event_2\n",
      "--------\n",
      "livestream_1_event_3\n",
      "--------\n",
      "granny_farming_1_event_0\n",
      "--------\n",
      "granny_farming_1_event_1\n",
      "--------\n",
      "granny_farming_1_event_2\n",
      "--------\n",
      "vote_counting_videos_5_event_0\n"
     ]
    },
    {
     "name": "stderr",
     "output_type": "stream",
     "text": [
      "WARNING:pystan:122 of 4000 iterations saturated the maximum tree depth of 10 (3.05 %)\n",
      "WARNING:pystan:Run again with max_treedepth larger than 10 to avoid saturation\n"
     ]
    },
    {
     "name": "stdout",
     "output_type": "stream",
     "text": [
      "--------\n",
      "stolen_polling_materials1_event_0\n"
     ]
    },
    {
     "name": "stderr",
     "output_type": "stream",
     "text": [
      "WARNING:pystan:93 of 4000 iterations ended with a divergence (2.33 %).\n",
      "WARNING:pystan:Try running with adapt_delta larger than 0.99 to remove the divergences.\n",
      "WARNING:pystan:65 of 4000 iterations saturated the maximum tree depth of 10 (1.62 %)\n",
      "WARNING:pystan:Run again with max_treedepth larger than 10 to avoid saturation\n"
     ]
    },
    {
     "name": "stdout",
     "output_type": "stream",
     "text": [
      "--------\n",
      "stolen_polling_materials1_event_1\n",
      "--------\n",
      "bad_statistics_7_event_0\n",
      "--------\n",
      "bad_statistics_7_event_1\n",
      "--------\n",
      "late_ballots_2_event_0\n",
      "--------\n",
      "late_ballots_2_event_1\n",
      "--------\n",
      "ballot_dumping1_event_0\n",
      "--------\n",
      "misprinted_ballots_2_event_0\n",
      "--------\n",
      "misprinted_ballots_2_event_1\n",
      "--------\n",
      "misprinted_ballots_2_event_2\n",
      "--------\n",
      "ballot_harvesting2_event_0\n",
      "--------\n",
      "ballot_harvesting2_event_1\n"
     ]
    },
    {
     "name": "stderr",
     "output_type": "stream",
     "text": [
      "WARNING:pystan:n_eff / iter below 0.001 indicates that the effective sample size has likely been overestimated\n",
      "WARNING:pystan:Rhat above 1.1 or below 0.9 indicates that the chains very likely have not mixed\n",
      "WARNING:pystan:1 of 4000 iterations ended with a divergence (0.025 %).\n",
      "WARNING:pystan:Try running with adapt_delta larger than 0.99 to remove the divergences.\n"
     ]
    },
    {
     "name": "stdout",
     "output_type": "stream",
     "text": [
      "--------\n",
      "sharpiegate_1_event_0\n"
     ]
    },
    {
     "name": "stderr",
     "output_type": "stream",
     "text": [
      "WARNING:pystan:Rhat above 1.1 or below 0.9 indicates that the chains very likely have not mixed\n",
      "WARNING:pystan:59 of 4000 iterations ended with a divergence (1.48 %).\n",
      "WARNING:pystan:Try running with adapt_delta larger than 0.99 to remove the divergences.\n",
      "WARNING:pystan:n_eff / iter below 0.001 indicates that the effective sample size has likely been overestimated\n",
      "WARNING:pystan:Rhat above 1.1 or below 0.9 indicates that the chains very likely have not mixed\n"
     ]
    },
    {
     "name": "stdout",
     "output_type": "stream",
     "text": [
      "--------\n",
      "ballot_signatures_1_event_0\n",
      "--------\n",
      "ballot_signatures_1_event_1\n"
     ]
    },
    {
     "name": "stderr",
     "output_type": "stream",
     "text": [
      "WARNING:pystan:2 of 4000 iterations ended with a divergence (0.05 %).\n",
      "WARNING:pystan:Try running with adapt_delta larger than 0.99 to remove the divergences.\n"
     ]
    },
    {
     "name": "stdout",
     "output_type": "stream",
     "text": [
      "--------\n",
      "ballot_signatures_1_event_2\n",
      "--------\n",
      "urban_playbook_1_event_0\n",
      "--------\n",
      "dead_voters_4_event_0\n",
      "--------\n",
      "dead_voters_4_event_1\n",
      "--------\n",
      "dead_voters_4_event_2\n",
      "--------\n",
      "dead_voters_4_event_3\n",
      "--------\n",
      "dead_voters_4_event_4\n",
      "--------\n",
      "dead_voters_4_event_5\n",
      "--------\n",
      "usps_missing_ballots_1_event_0\n",
      "--------\n",
      "shredded_ballot_applications1_event_0\n",
      "--------\n",
      "vote_buying2_event_0\n",
      "--------\n",
      "incorrect_voting_info_1_event_0\n"
     ]
    },
    {
     "name": "stderr",
     "output_type": "stream",
     "text": [
      "WARNING:pystan:n_eff / iter below 0.001 indicates that the effective sample size has likely been overestimated\n",
      "WARNING:pystan:Rhat above 1.1 or below 0.9 indicates that the chains very likely have not mixed\n",
      "WARNING:pystan:34 of 4000 iterations saturated the maximum tree depth of 10 (0.85 %)\n",
      "WARNING:pystan:Run again with max_treedepth larger than 10 to avoid saturation\n",
      "WARNING:pystan:Chain 1: E-BFMI = 0.0703\n",
      "WARNING:pystan:E-BFMI below 0.2 indicates you may need to reparameterize your model\n",
      "WARNING:pystan:144 of 4000 iterations saturated the maximum tree depth of 10 (3.6 %)\n",
      "WARNING:pystan:Run again with max_treedepth larger than 10 to avoid saturation\n"
     ]
    },
    {
     "name": "stdout",
     "output_type": "stream",
     "text": [
      "--------\n",
      "incorrect_voting_info_1_event_1\n",
      "--------\n",
      "Biden_clip_saying_he_does_fraud_1_event_0\n"
     ]
    },
    {
     "name": "stderr",
     "output_type": "stream",
     "text": [
      "WARNING:pystan:5 of 4000 iterations saturated the maximum tree depth of 10 (0.125 %)\n",
      "WARNING:pystan:Run again with max_treedepth larger than 10 to avoid saturation\n"
     ]
    },
    {
     "name": "stdout",
     "output_type": "stream",
     "text": [
      "--------\n",
      "stopthesteal_1_event_0\n",
      "--------\n",
      "vote_counting_videos_4_event_0\n",
      "--------\n",
      "resident_fraud_2_event_0\n",
      "--------\n",
      "out_of_context_content_4_event_0\n",
      "--------\n",
      "out_of_context_content_3_event_0\n"
     ]
    },
    {
     "name": "stderr",
     "output_type": "stream",
     "text": [
      "WARNING:pystan:2 of 4000 iterations ended with a divergence (0.05 %).\n",
      "WARNING:pystan:Try running with adapt_delta larger than 0.99 to remove the divergences.\n"
     ]
    },
    {
     "name": "stdout",
     "output_type": "stream",
     "text": [
      "--------\n",
      "out_of_context_content_3_event_1\n",
      "--------\n",
      "shredded_ballot_applications_1_event_0\n",
      "--------\n",
      "voting_machines_5_event_0\n",
      "--------\n",
      "ballot_dumping_8_event_0\n",
      "--------\n",
      "ballot_dumping_8_event_1\n",
      "--------\n",
      "ballot_dumping_8_event_2\n"
     ]
    },
    {
     "name": "stderr",
     "output_type": "stream",
     "text": [
      "WARNING:pystan:n_eff / iter below 0.001 indicates that the effective sample size has likely been overestimated\n",
      "WARNING:pystan:Rhat above 1.1 or below 0.9 indicates that the chains very likely have not mixed\n",
      "WARNING:pystan:99 of 4000 iterations saturated the maximum tree depth of 10 (2.48 %)\n",
      "WARNING:pystan:Run again with max_treedepth larger than 10 to avoid saturation\n"
     ]
    },
    {
     "name": "stdout",
     "output_type": "stream",
     "text": [
      "--------\n",
      "ballot_dumping_8_event_3\n",
      "--------\n",
      "violence_at_polling_place_2_event_0\n"
     ]
    },
    {
     "name": "stderr",
     "output_type": "stream",
     "text": [
      "WARNING:pystan:197 of 4000 iterations saturated the maximum tree depth of 10 (4.92 %)\n",
      "WARNING:pystan:Run again with max_treedepth larger than 10 to avoid saturation\n",
      "WARNING:pystan:n_eff / iter below 0.001 indicates that the effective sample size has likely been overestimated\n"
     ]
    },
    {
     "name": "stdout",
     "output_type": "stream",
     "text": [
      "--------\n",
      "Trump_delegtimization_1_event_0\n",
      "--------\n",
      "vote_counting_videos_3_event_0\n"
     ]
    },
    {
     "name": "stderr",
     "output_type": "stream",
     "text": [
      "WARNING:pystan:Rhat above 1.1 or below 0.9 indicates that the chains very likely have not mixed\n",
      "WARNING:pystan:315 of 4000 iterations ended with a divergence (7.88 %).\n",
      "WARNING:pystan:Try running with adapt_delta larger than 0.99 to remove the divergences.\n",
      "WARNING:pystan:254 of 4000 iterations saturated the maximum tree depth of 10 (6.35 %)\n",
      "WARNING:pystan:Run again with max_treedepth larger than 10 to avoid saturation\n",
      "WARNING:pystan:Chain 1: E-BFMI = 0.041\n",
      "WARNING:pystan:E-BFMI below 0.2 indicates you may need to reparameterize your model\n"
     ]
    },
    {
     "name": "stdout",
     "output_type": "stream",
     "text": [
      "--------\n",
      "vote_counting_videos_3_event_1\n",
      "--------\n",
      "ballot_dumping2_event_0\n",
      "--------\n",
      "ballot_dumping2_event_1\n",
      "--------\n",
      "hacks_2_event_0\n"
     ]
    },
    {
     "name": "stderr",
     "output_type": "stream",
     "text": [
      "WARNING:pystan:3 of 4000 iterations saturated the maximum tree depth of 10 (0.075 %)\n",
      "WARNING:pystan:Run again with max_treedepth larger than 10 to avoid saturation\n"
     ]
    },
    {
     "name": "stdout",
     "output_type": "stream",
     "text": [
      "--------\n",
      "hacks_2_event_1\n",
      "--------\n",
      "hacks_2_event_2\n",
      "--------\n",
      "hacks_2_event_3\n",
      "--------\n",
      "hacks_2_event_4\n",
      "--------\n",
      "hacks_2_event_5\n",
      "--------\n",
      "hacks_2_event_6\n"
     ]
    },
    {
     "name": "stderr",
     "output_type": "stream",
     "text": [
      "WARNING:pystan:1 of 4000 iterations saturated the maximum tree depth of 10 (0.025 %)\n",
      "WARNING:pystan:Run again with max_treedepth larger than 10 to avoid saturation\n"
     ]
    },
    {
     "name": "stdout",
     "output_type": "stream",
     "text": [
      "--------\n",
      "hacks_2_event_7\n",
      "--------\n",
      "polling_stations_1_event_0\n"
     ]
    },
    {
     "name": "stderr",
     "output_type": "stream",
     "text": [
      "WARNING:pystan:n_eff / iter below 0.001 indicates that the effective sample size has likely been overestimated\n",
      "WARNING:pystan:Rhat above 1.1 or below 0.9 indicates that the chains very likely have not mixed\n",
      "WARNING:pystan:51 of 4000 iterations ended with a divergence (1.27 %).\n",
      "WARNING:pystan:Try running with adapt_delta larger than 0.99 to remove the divergences.\n",
      "WARNING:pystan:22 of 4000 iterations saturated the maximum tree depth of 10 (0.55 %)\n",
      "WARNING:pystan:Run again with max_treedepth larger than 10 to avoid saturation\n",
      "WARNING:pystan:n_eff / iter below 0.001 indicates that the effective sample size has likely been overestimated\n",
      "WARNING:pystan:Rhat above 1.1 or below 0.9 indicates that the chains very likely have not mixed\n",
      "WARNING:pystan:231 of 4000 iterations ended with a divergence (5.78 %).\n",
      "WARNING:pystan:Try running with adapt_delta larger than 0.99 to remove the divergences.\n",
      "WARNING:pystan:545 of 4000 iterations saturated the maximum tree depth of 10 (13.6 %)\n",
      "WARNING:pystan:Run again with max_treedepth larger than 10 to avoid saturation\n",
      "WARNING:pystan:Chain 2: E-BFMI = 0.0464\n",
      "WARNING:pystan:Chain 3: E-BFMI = 0.0833\n",
      "WARNING:pystan:E-BFMI below 0.2 indicates you may need to reparameterize your model\n"
     ]
    },
    {
     "name": "stdout",
     "output_type": "stream",
     "text": [
      "--------\n",
      "chinese_ballots_1_event_0\n",
      "--------\n",
      "chinese_ballots_1_event_1\n"
     ]
    },
    {
     "name": "stderr",
     "output_type": "stream",
     "text": [
      "WARNING:pystan:Rhat above 1.1 or below 0.9 indicates that the chains very likely have not mixed\n",
      "WARNING:pystan:105 of 4000 iterations saturated the maximum tree depth of 10 (2.62 %)\n",
      "WARNING:pystan:Run again with max_treedepth larger than 10 to avoid saturation\n",
      "WARNING:pystan:14 of 4000 iterations saturated the maximum tree depth of 10 (0.35 %)\n",
      "WARNING:pystan:Run again with max_treedepth larger than 10 to avoid saturation\n"
     ]
    },
    {
     "name": "stdout",
     "output_type": "stream",
     "text": [
      "--------\n",
      "ballot_signatures_2_event_0\n",
      "--------\n",
      "poll_watchers_1_event_0\n"
     ]
    },
    {
     "name": "stderr",
     "output_type": "stream",
     "text": [
      "WARNING:pystan:n_eff / iter below 0.001 indicates that the effective sample size has likely been overestimated\n",
      "WARNING:pystan:Rhat above 1.1 or below 0.9 indicates that the chains very likely have not mixed\n",
      "WARNING:pystan:181 of 4000 iterations ended with a divergence (4.53 %).\n",
      "WARNING:pystan:Try running with adapt_delta larger than 0.99 to remove the divergences.\n",
      "WARNING:pystan:67 of 4000 iterations saturated the maximum tree depth of 10 (1.68 %)\n",
      "WARNING:pystan:Run again with max_treedepth larger than 10 to avoid saturation\n",
      "WARNING:pystan:Chain 1: E-BFMI = 0.0394\n",
      "WARNING:pystan:Chain 4: E-BFMI = 0.0934\n",
      "WARNING:pystan:E-BFMI below 0.2 indicates you may need to reparameterize your model\n",
      "WARNING:pystan:Rhat above 1.1 or below 0.9 indicates that the chains very likely have not mixed\n",
      "WARNING:pystan:160 of 4000 iterations ended with a divergence (4 %).\n",
      "WARNING:pystan:Try running with adapt_delta larger than 0.99 to remove the divergences.\n",
      "WARNING:pystan:Chain 4: E-BFMI = 0.0761\n",
      "WARNING:pystan:E-BFMI below 0.2 indicates you may need to reparameterize your model\n"
     ]
    },
    {
     "name": "stdout",
     "output_type": "stream",
     "text": [
      "--------\n",
      "intimidation_1_event_0\n",
      "--------\n",
      "voting_machines_1_event_0\n",
      "--------\n",
      "voting_twice1_event_0\n"
     ]
    },
    {
     "name": "stderr",
     "output_type": "stream",
     "text": [
      "WARNING:pystan:16 of 4000 iterations saturated the maximum tree depth of 10 (0.4 %)\n",
      "WARNING:pystan:Run again with max_treedepth larger than 10 to avoid saturation\n"
     ]
    },
    {
     "name": "stdout",
     "output_type": "stream",
     "text": [
      "--------\n",
      "coup_1_event_0\n",
      "--------\n",
      "coup_1_event_1\n",
      "--------\n",
      "coup_1_event_2\n",
      "--------\n",
      "misprinted_ballots_1_event_0\n",
      "--------\n",
      "destroyed_ballots_2_event_0\n",
      "--------\n",
      "hacks_1_event_0\n",
      "--------\n",
      "voting_machines_3_event_0\n"
     ]
    },
    {
     "name": "stderr",
     "output_type": "stream",
     "text": [
      "WARNING:pystan:n_eff / iter below 0.001 indicates that the effective sample size has likely been overestimated\n",
      "WARNING:pystan:Rhat above 1.1 or below 0.9 indicates that the chains very likely have not mixed\n",
      "WARNING:pystan:6 of 4000 iterations ended with a divergence (0.15 %).\n",
      "WARNING:pystan:Try running with adapt_delta larger than 0.99 to remove the divergences.\n",
      "WARNING:pystan:536 of 4000 iterations saturated the maximum tree depth of 10 (13.4 %)\n",
      "WARNING:pystan:Run again with max_treedepth larger than 10 to avoid saturation\n"
     ]
    },
    {
     "name": "stdout",
     "output_type": "stream",
     "text": [
      "--------\n",
      "voting_machines_3_event_1\n",
      "--------\n",
      "voting_machines_3_event_2\n",
      "--------\n",
      "vote_changing1_event_0\n",
      "--------\n",
      "pre-filled_ballots_1_event_0\n",
      "--------\n",
      "poll_watchers_5_event_0\n",
      "--------\n",
      "poll_watchers_5_event_1\n",
      "--------\n",
      "poll_watchers_5_event_2\n",
      "--------\n",
      "bad_statistics_5_event_0\n"
     ]
    },
    {
     "name": "stderr",
     "output_type": "stream",
     "text": [
      "WARNING:pystan:Rhat above 1.1 or below 0.9 indicates that the chains very likely have not mixed\n"
     ]
    },
    {
     "name": "stdout",
     "output_type": "stream",
     "text": [
      "--------\n",
      "bad_statistics_5_event_1\n"
     ]
    },
    {
     "name": "stderr",
     "output_type": "stream",
     "text": [
      "WARNING:pystan:41 of 4000 iterations saturated the maximum tree depth of 10 (1.02 %)\n",
      "WARNING:pystan:Run again with max_treedepth larger than 10 to avoid saturation\n"
     ]
    },
    {
     "name": "stdout",
     "output_type": "stream",
     "text": [
      "--------\n",
      "ballot_harvesting_1_event_0\n",
      "--------\n",
      "intimidation_6_event_0\n",
      "--------\n",
      "drive-through_voting_1_event_0\n",
      "--------\n",
      "drive-through_voting_1_event_1\n",
      "--------\n",
      "drive-through_voting_1_event_2\n"
     ]
    },
    {
     "name": "stderr",
     "output_type": "stream",
     "text": [
      "WARNING:pystan:134 of 4000 iterations saturated the maximum tree depth of 10 (3.35 %)\n",
      "WARNING:pystan:Run again with max_treedepth larger than 10 to avoid saturation\n"
     ]
    },
    {
     "name": "stdout",
     "output_type": "stream",
     "text": [
      "--------\n",
      "vote_counting_videos_1_event_0\n",
      "--------\n",
      "vote_counting_videos_1_event_1\n"
     ]
    },
    {
     "name": "stderr",
     "output_type": "stream",
     "text": [
      "WARNING:pystan:208 of 4000 iterations saturated the maximum tree depth of 10 (5.2 %)\n",
      "WARNING:pystan:Run again with max_treedepth larger than 10 to avoid saturation\n"
     ]
    },
    {
     "name": "stdout",
     "output_type": "stream",
     "text": [
      "--------\n",
      "vote_buying1_event_0\n",
      "--------\n",
      "vote_buying1_event_1\n"
     ]
    },
    {
     "name": "stderr",
     "output_type": "stream",
     "text": [
      "WARNING:pystan:n_eff / iter below 0.001 indicates that the effective sample size has likely been overestimated\n",
      "WARNING:pystan:Rhat above 1.1 or below 0.9 indicates that the chains very likely have not mixed\n",
      "WARNING:pystan:168 of 4000 iterations ended with a divergence (4.2 %).\n",
      "WARNING:pystan:Try running with adapt_delta larger than 0.99 to remove the divergences.\n",
      "WARNING:pystan:Chain 4: E-BFMI = 0.0733\n",
      "WARNING:pystan:E-BFMI below 0.2 indicates you may need to reparameterize your model\n"
     ]
    },
    {
     "name": "stdout",
     "output_type": "stream",
     "text": [
      "--------\n",
      "poll_watchers_3_event_0\n",
      "--------\n",
      "dead_voters_6_event_0\n"
     ]
    },
    {
     "name": "stderr",
     "output_type": "stream",
     "text": [
      "WARNING:pystan:3 of 4000 iterations saturated the maximum tree depth of 10 (0.075 %)\n",
      "WARNING:pystan:Run again with max_treedepth larger than 10 to avoid saturation\n"
     ]
    },
    {
     "name": "stdout",
     "output_type": "stream",
     "text": [
      "--------\n",
      "intimidation_5_event_0\n",
      "--------\n",
      "whistleblower_3_event_0\n"
     ]
    },
    {
     "name": "stderr",
     "output_type": "stream",
     "text": [
      "WARNING:pystan:1 of 4000 iterations saturated the maximum tree depth of 10 (0.025 %)\n",
      "WARNING:pystan:Run again with max_treedepth larger than 10 to avoid saturation\n"
     ]
    },
    {
     "name": "stdout",
     "output_type": "stream",
     "text": [
      "--------\n",
      "ballot_dumping_7_event_0\n",
      "--------\n",
      "ballot_dumping_7_event_1\n"
     ]
    },
    {
     "name": "stderr",
     "output_type": "stream",
     "text": [
      "WARNING:pystan:2 of 4000 iterations ended with a divergence (0.05 %).\n",
      "WARNING:pystan:Try running with adapt_delta larger than 0.99 to remove the divergences.\n"
     ]
    },
    {
     "name": "stdout",
     "output_type": "stream",
     "text": [
      "--------\n",
      "partisanship_at_polling_places_1_event_0\n",
      "--------\n",
      "partisanship_at_polling_places_1_event_1\n"
     ]
    },
    {
     "name": "stderr",
     "output_type": "stream",
     "text": [
      "WARNING:pystan:Rhat above 1.1 or below 0.9 indicates that the chains very likely have not mixed\n",
      "WARNING:pystan:139 of 4000 iterations ended with a divergence (3.48 %).\n",
      "WARNING:pystan:Try running with adapt_delta larger than 0.99 to remove the divergences.\n",
      "WARNING:pystan:3 of 4000 iterations saturated the maximum tree depth of 10 (0.075 %)\n",
      "WARNING:pystan:Run again with max_treedepth larger than 10 to avoid saturation\n"
     ]
    },
    {
     "name": "stdout",
     "output_type": "stream",
     "text": [
      "--------\n",
      "rejection_rates_2_event_0\n"
     ]
    },
    {
     "name": "stderr",
     "output_type": "stream",
     "text": [
      "WARNING:pystan:n_eff / iter below 0.001 indicates that the effective sample size has likely been overestimated\n",
      "WARNING:pystan:Rhat above 1.1 or below 0.9 indicates that the chains very likely have not mixed\n",
      "WARNING:pystan:404 of 4000 iterations saturated the maximum tree depth of 10 (10.1 %)\n",
      "WARNING:pystan:Run again with max_treedepth larger than 10 to avoid saturation\n"
     ]
    },
    {
     "name": "stdout",
     "output_type": "stream",
     "text": [
      "--------\n",
      "rejection_rates_2_event_1\n",
      "--------\n",
      "rejection_rates_2_event_2\n",
      "--------\n",
      "poll_watchers_7_event_0\n",
      "--------\n",
      "resident_fraud_1_event_0\n"
     ]
    },
    {
     "name": "stderr",
     "output_type": "stream",
     "text": [
      "WARNING:pystan:61 of 4000 iterations ended with a divergence (1.52 %).\n",
      "WARNING:pystan:Try running with adapt_delta larger than 0.99 to remove the divergences.\n"
     ]
    },
    {
     "name": "stdout",
     "output_type": "stream",
     "text": [
      "--------\n",
      "voting_machines_6_event_0\n",
      "--------\n",
      "voting_machines_6_event_1\n",
      "--------\n",
      "intimidation_7_event_0\n",
      "--------\n",
      "stolen_ballots3_event_0\n",
      "--------\n",
      "stolen_ballots3_event_1\n"
     ]
    }
   ],
   "source": [
    "row = events.iloc[3]\n",
    "import src.model_fit as srcmf\n",
    "out = events.T.progress_apply(srcmf.check_fit)\n",
    "events = pd.DataFrame.from_records(out)\n"
   ]
  },
  {
   "cell_type": "markdown",
   "id": "macro-worker",
   "metadata": {},
   "source": [
    "<h3>Evaluate Inclusion</h3>"
   ]
  },
  {
   "cell_type": "code",
   "execution_count": 10,
   "id": "split-opposition",
   "metadata": {},
   "outputs": [
    {
     "name": "stdout",
     "output_type": "stream",
     "text": [
      "Included 219 events, 84.23076923076923 percent of total\n",
      "Total tweets: 8417986.0\n"
     ]
    }
   ],
   "source": [
    "events['included'] = (events['Rhat'] & events['final_predicted'] & events['divergence'] \\\n",
    "                      &(events['end']-events['start'] > 12))\n",
    "print('Included %s events, %s percent of total' % (str(events['included'].sum()), \n",
    "                                           str(100*np.mean(events['included']))))\n",
    "print('Total tweets: %s' % str(np.sum(events['observed_engagement'])))\n",
    "events.to_parquet('./data/events_fitted.parquet',compression=None)"
   ]
  },
  {
   "cell_type": "markdown",
   "id": "exclusive-vermont",
   "metadata": {},
   "source": [
    "<h3>Plot figures for review and SI</h3>"
   ]
  },
  {
   "cell_type": "code",
   "execution_count": 11,
   "id": "drawn-chase",
   "metadata": {},
   "outputs": [],
   "source": [
    "events = pd.read_parquet('./data/events_fitted.parquet')"
   ]
  },
  {
   "cell_type": "code",
   "execution_count": 12,
   "id": "incredible-dream",
   "metadata": {},
   "outputs": [
    {
     "data": {
      "application/vnd.jupyter.widget-view+json": {
       "model_id": "c9f63010b4994830876bb93ed4d40b03",
       "version_major": 2,
       "version_minor": 0
      },
      "text/plain": [
       "VBox(children=(HBox(children=(IntProgress(value=0, description='0.00%', max=18), Label(value='0 / 18'))), HBox…"
      ]
     },
     "metadata": {},
     "output_type": "display_data"
    }
   ],
   "source": [
    "from src.figures import plot_posterior_and_save\n",
    "_ =events.T.parallel_apply(plot_posterior_and_save,keep=False)"
   ]
  },
  {
   "cell_type": "code",
   "execution_count": 23,
   "id": "indoor-therapy",
   "metadata": {},
   "outputs": [],
   "source": [
    "from src.figures import SI_Posterior\n",
    "import seaborn as sns\n",
    "# gridspec inside gridspec\n",
    "sns.set_style('white')\n",
    "included = events[events['included']]\n",
    "SI_Posterior(included)\n"
   ]
  },
  {
   "cell_type": "markdown",
   "id": "direct-disco",
   "metadata": {},
   "source": [
    "<h1>Simulations and output</h1>"
   ]
  },
  {
   "cell_type": "markdown",
   "id": "simple-consumer",
   "metadata": {},
   "source": [
    "Now that we have parameter estimates for all included events, we can use these parameters to simulate engagement while varying parameters. Our simulations (code in src.simulation.py) seed the first time-step with actual data. Beginning on the second time step, we estimate the number of new users that will share the content. We then draw follower counts from the observed follower counts at that time step in the data. The log of the sum of follower counts is added to the virality which is used in the subsequent time step to predict retweets. This processes is repeated for the length of the observed event. We repeat this for all events, normalizing time on a 0-1 scale and summing the posteriori distributions to evaluate engagement. \n",
    "\n",
    "There's a wall of code ahead, but most of it is specifying the parameters for the simuations. This is accomplished with two dataframes. *included* specifies parmaters related a given event, and *sim_df* specifies the paramters for a given simulation of all events. We start by definining a baseline condition where no parameters of the model are altered and the aggregated data used includes all follower (i.e. from /data/timeseries/aggregated). We then modify this entry for various conditions either pointing the simulation to a different set of aggregated data with removed users, altering nudges, or implementing various removal and virality circuit breakers. This code should be expected to take a couple of hours with 8 cores and 500 simulations per event per condition (110000 total). \n",
    "\n",
    "The nice thing about this approach is that we can just send the rows we care about to the plotting function and get out the plots we want. Be careful when specifying which rows to be sure you're getting the right one. The nice thing is that by color coding conditions in the dataframe, it's pretty easy to see when you've snagged a wrong one. When in doubt, check *sim_df.iloc[[list_of_rows]]*. As we lack our color check when making tables, we're going to generate them along with figures just for a little safety. \n"
   ]
  },
  {
   "cell_type": "markdown",
   "id": "lovely-cooling",
   "metadata": {},
   "source": [
    "<h2>Define and run simulations</h2>"
   ]
  },
  {
   "cell_type": "code",
   "execution_count": 14,
   "id": "closing-parliament",
   "metadata": {},
   "outputs": [],
   "source": [
    "events = pd.read_parquet('./data/events_fitted.parquet')\n",
    "included = events[events['included']]\n",
    "#This gets rid of an obnoxious warning\n",
    "pd.options.mode.chained_assignment = None  # default='warn'\n",
    "\n",
    "included['start'] = included['start'].astype('int')\n",
    "included['end'] = included['end'].astype('int')"
   ]
  },
  {
   "cell_type": "code",
   "execution_count": 25,
   "id": "municipal-incentive",
   "metadata": {},
   "outputs": [
    {
     "data": {
      "text/html": [
       "<div>\n",
       "<style scoped>\n",
       "    .dataframe tbody tr th:only-of-type {\n",
       "        vertical-align: middle;\n",
       "    }\n",
       "\n",
       "    .dataframe tbody tr th {\n",
       "        vertical-align: top;\n",
       "    }\n",
       "\n",
       "    .dataframe thead th {\n",
       "        text-align: right;\n",
       "    }\n",
       "</style>\n",
       "<table border=\"1\" class=\"dataframe\">\n",
       "  <thead>\n",
       "    <tr style=\"text-align: right;\">\n",
       "      <th></th>\n",
       "      <th>n_eff</th>\n",
       "      <th>Rhat</th>\n",
       "      <th>divergence</th>\n",
       "      <th>treedepth</th>\n",
       "      <th>energy</th>\n",
       "      <th>observed_engagement</th>\n",
       "      <th>y_0</th>\n",
       "      <th>final_predicted</th>\n",
       "      <th>incident_name</th>\n",
       "      <th>start</th>\n",
       "      <th>...</th>\n",
       "      <th>included</th>\n",
       "      <th>10K_loc</th>\n",
       "      <th>50K_loc</th>\n",
       "      <th>100K_loc</th>\n",
       "      <th>500K_loc</th>\n",
       "      <th>aggregated_loc</th>\n",
       "      <th>currently_loc</th>\n",
       "      <th>verified_loc</th>\n",
       "      <th>modest_loc</th>\n",
       "      <th>aggressive_loc</th>\n",
       "    </tr>\n",
       "  </thead>\n",
       "  <tbody>\n",
       "    <tr>\n",
       "      <th>0</th>\n",
       "      <td>True</td>\n",
       "      <td>True</td>\n",
       "      <td>True</td>\n",
       "      <td>True</td>\n",
       "      <td>True</td>\n",
       "      <td>9291.0</td>\n",
       "      <td>44.0</td>\n",
       "      <td>True</td>\n",
       "      <td>voting_machines_7</td>\n",
       "      <td>375</td>\n",
       "      <td>...</td>\n",
       "      <td>True</td>\n",
       "      <td>./data/timeseries/10K/voting_machines_7_raw.pa...</td>\n",
       "      <td>./data/timeseries/50K/voting_machines_7_raw.pa...</td>\n",
       "      <td>./data/timeseries/100K/voting_machines_7_raw.p...</td>\n",
       "      <td>./data/timeseries/500K/voting_machines_7_raw.p...</td>\n",
       "      <td>./data/timeseries/aggregated/voting_machines_7...</td>\n",
       "      <td>./data/timeseries/currently/voting_machines_7_...</td>\n",
       "      <td>./data/timeseries/Verified/voting_machines_7_r...</td>\n",
       "      <td>./data/timeseries/modest/voting_machines_7_raw...</td>\n",
       "      <td>./data/timeseries/aggressive/voting_machines_7...</td>\n",
       "    </tr>\n",
       "    <tr>\n",
       "      <th>1</th>\n",
       "      <td>True</td>\n",
       "      <td>True</td>\n",
       "      <td>True</td>\n",
       "      <td>True</td>\n",
       "      <td>True</td>\n",
       "      <td>1681.0</td>\n",
       "      <td>4.0</td>\n",
       "      <td>True</td>\n",
       "      <td>voting_machines_7</td>\n",
       "      <td>532</td>\n",
       "      <td>...</td>\n",
       "      <td>True</td>\n",
       "      <td>./data/timeseries/10K/voting_machines_7_raw.pa...</td>\n",
       "      <td>./data/timeseries/50K/voting_machines_7_raw.pa...</td>\n",
       "      <td>./data/timeseries/100K/voting_machines_7_raw.p...</td>\n",
       "      <td>./data/timeseries/500K/voting_machines_7_raw.p...</td>\n",
       "      <td>./data/timeseries/aggregated/voting_machines_7...</td>\n",
       "      <td>./data/timeseries/currently/voting_machines_7_...</td>\n",
       "      <td>./data/timeseries/Verified/voting_machines_7_r...</td>\n",
       "      <td>./data/timeseries/modest/voting_machines_7_raw...</td>\n",
       "      <td>./data/timeseries/aggressive/voting_machines_7...</td>\n",
       "    </tr>\n",
       "    <tr>\n",
       "      <th>2</th>\n",
       "      <td>True</td>\n",
       "      <td>True</td>\n",
       "      <td>True</td>\n",
       "      <td>True</td>\n",
       "      <td>True</td>\n",
       "      <td>18376.0</td>\n",
       "      <td>12.0</td>\n",
       "      <td>True</td>\n",
       "      <td>ballot_stuffing_1</td>\n",
       "      <td>244</td>\n",
       "      <td>...</td>\n",
       "      <td>True</td>\n",
       "      <td>./data/timeseries/10K/ballot_stuffing_1_raw.pa...</td>\n",
       "      <td>./data/timeseries/50K/ballot_stuffing_1_raw.pa...</td>\n",
       "      <td>./data/timeseries/100K/ballot_stuffing_1_raw.p...</td>\n",
       "      <td>./data/timeseries/500K/ballot_stuffing_1_raw.p...</td>\n",
       "      <td>./data/timeseries/aggregated/ballot_stuffing_1...</td>\n",
       "      <td>./data/timeseries/currently/ballot_stuffing_1_...</td>\n",
       "      <td>./data/timeseries/Verified/ballot_stuffing_1_r...</td>\n",
       "      <td>./data/timeseries/modest/ballot_stuffing_1_raw...</td>\n",
       "      <td>./data/timeseries/aggressive/ballot_stuffing_1...</td>\n",
       "    </tr>\n",
       "    <tr>\n",
       "      <th>3</th>\n",
       "      <td>True</td>\n",
       "      <td>True</td>\n",
       "      <td>True</td>\n",
       "      <td>True</td>\n",
       "      <td>True</td>\n",
       "      <td>34136.0</td>\n",
       "      <td>20.0</td>\n",
       "      <td>True</td>\n",
       "      <td>destroyed_ballots_1</td>\n",
       "      <td>19</td>\n",
       "      <td>...</td>\n",
       "      <td>True</td>\n",
       "      <td>./data/timeseries/10K/destroyed_ballots_1_raw....</td>\n",
       "      <td>./data/timeseries/50K/destroyed_ballots_1_raw....</td>\n",
       "      <td>./data/timeseries/100K/destroyed_ballots_1_raw...</td>\n",
       "      <td>./data/timeseries/500K/destroyed_ballots_1_raw...</td>\n",
       "      <td>./data/timeseries/aggregated/destroyed_ballots...</td>\n",
       "      <td>./data/timeseries/currently/destroyed_ballots_...</td>\n",
       "      <td>./data/timeseries/Verified/destroyed_ballots_1...</td>\n",
       "      <td>./data/timeseries/modest/destroyed_ballots_1_r...</td>\n",
       "      <td>./data/timeseries/aggressive/destroyed_ballots...</td>\n",
       "    </tr>\n",
       "    <tr>\n",
       "      <th>4</th>\n",
       "      <td>True</td>\n",
       "      <td>True</td>\n",
       "      <td>True</td>\n",
       "      <td>True</td>\n",
       "      <td>True</td>\n",
       "      <td>7950.0</td>\n",
       "      <td>0.0</td>\n",
       "      <td>True</td>\n",
       "      <td>ballot_harvesting_3</td>\n",
       "      <td>592</td>\n",
       "      <td>...</td>\n",
       "      <td>True</td>\n",
       "      <td>./data/timeseries/10K/ballot_harvesting_3_raw....</td>\n",
       "      <td>./data/timeseries/50K/ballot_harvesting_3_raw....</td>\n",
       "      <td>./data/timeseries/100K/ballot_harvesting_3_raw...</td>\n",
       "      <td>./data/timeseries/500K/ballot_harvesting_3_raw...</td>\n",
       "      <td>./data/timeseries/aggregated/ballot_harvesting...</td>\n",
       "      <td>./data/timeseries/currently/ballot_harvesting_...</td>\n",
       "      <td>./data/timeseries/Verified/ballot_harvesting_3...</td>\n",
       "      <td>./data/timeseries/modest/ballot_harvesting_3_r...</td>\n",
       "      <td>./data/timeseries/aggressive/ballot_harvesting...</td>\n",
       "    </tr>\n",
       "  </tbody>\n",
       "</table>\n",
       "<p>5 rows × 27 columns</p>\n",
       "</div>"
      ],
      "text/plain": [
       "   n_eff  Rhat  divergence  treedepth  energy  observed_engagement   y_0  \\\n",
       "0   True  True        True       True    True               9291.0  44.0   \n",
       "1   True  True        True       True    True               1681.0   4.0   \n",
       "2   True  True        True       True    True              18376.0  12.0   \n",
       "3   True  True        True       True    True              34136.0  20.0   \n",
       "4   True  True        True       True    True               7950.0   0.0   \n",
       "\n",
       "   final_predicted        incident_name  start  ...  included  \\\n",
       "0             True    voting_machines_7    375  ...      True   \n",
       "1             True    voting_machines_7    532  ...      True   \n",
       "2             True    ballot_stuffing_1    244  ...      True   \n",
       "3             True  destroyed_ballots_1     19  ...      True   \n",
       "4             True  ballot_harvesting_3    592  ...      True   \n",
       "\n",
       "                                             10K_loc  \\\n",
       "0  ./data/timeseries/10K/voting_machines_7_raw.pa...   \n",
       "1  ./data/timeseries/10K/voting_machines_7_raw.pa...   \n",
       "2  ./data/timeseries/10K/ballot_stuffing_1_raw.pa...   \n",
       "3  ./data/timeseries/10K/destroyed_ballots_1_raw....   \n",
       "4  ./data/timeseries/10K/ballot_harvesting_3_raw....   \n",
       "\n",
       "                                             50K_loc  \\\n",
       "0  ./data/timeseries/50K/voting_machines_7_raw.pa...   \n",
       "1  ./data/timeseries/50K/voting_machines_7_raw.pa...   \n",
       "2  ./data/timeseries/50K/ballot_stuffing_1_raw.pa...   \n",
       "3  ./data/timeseries/50K/destroyed_ballots_1_raw....   \n",
       "4  ./data/timeseries/50K/ballot_harvesting_3_raw....   \n",
       "\n",
       "                                            100K_loc  \\\n",
       "0  ./data/timeseries/100K/voting_machines_7_raw.p...   \n",
       "1  ./data/timeseries/100K/voting_machines_7_raw.p...   \n",
       "2  ./data/timeseries/100K/ballot_stuffing_1_raw.p...   \n",
       "3  ./data/timeseries/100K/destroyed_ballots_1_raw...   \n",
       "4  ./data/timeseries/100K/ballot_harvesting_3_raw...   \n",
       "\n",
       "                                            500K_loc  \\\n",
       "0  ./data/timeseries/500K/voting_machines_7_raw.p...   \n",
       "1  ./data/timeseries/500K/voting_machines_7_raw.p...   \n",
       "2  ./data/timeseries/500K/ballot_stuffing_1_raw.p...   \n",
       "3  ./data/timeseries/500K/destroyed_ballots_1_raw...   \n",
       "4  ./data/timeseries/500K/ballot_harvesting_3_raw...   \n",
       "\n",
       "                                      aggregated_loc  \\\n",
       "0  ./data/timeseries/aggregated/voting_machines_7...   \n",
       "1  ./data/timeseries/aggregated/voting_machines_7...   \n",
       "2  ./data/timeseries/aggregated/ballot_stuffing_1...   \n",
       "3  ./data/timeseries/aggregated/destroyed_ballots...   \n",
       "4  ./data/timeseries/aggregated/ballot_harvesting...   \n",
       "\n",
       "                                       currently_loc  \\\n",
       "0  ./data/timeseries/currently/voting_machines_7_...   \n",
       "1  ./data/timeseries/currently/voting_machines_7_...   \n",
       "2  ./data/timeseries/currently/ballot_stuffing_1_...   \n",
       "3  ./data/timeseries/currently/destroyed_ballots_...   \n",
       "4  ./data/timeseries/currently/ballot_harvesting_...   \n",
       "\n",
       "                                        verified_loc  \\\n",
       "0  ./data/timeseries/Verified/voting_machines_7_r...   \n",
       "1  ./data/timeseries/Verified/voting_machines_7_r...   \n",
       "2  ./data/timeseries/Verified/ballot_stuffing_1_r...   \n",
       "3  ./data/timeseries/Verified/destroyed_ballots_1...   \n",
       "4  ./data/timeseries/Verified/ballot_harvesting_3...   \n",
       "\n",
       "                                          modest_loc  \\\n",
       "0  ./data/timeseries/modest/voting_machines_7_raw...   \n",
       "1  ./data/timeseries/modest/voting_machines_7_raw...   \n",
       "2  ./data/timeseries/modest/ballot_stuffing_1_raw...   \n",
       "3  ./data/timeseries/modest/destroyed_ballots_1_r...   \n",
       "4  ./data/timeseries/modest/ballot_harvesting_3_r...   \n",
       "\n",
       "                                      aggressive_loc  \n",
       "0  ./data/timeseries/aggressive/voting_machines_7...  \n",
       "1  ./data/timeseries/aggressive/voting_machines_7...  \n",
       "2  ./data/timeseries/aggressive/ballot_stuffing_1...  \n",
       "3  ./data/timeseries/aggressive/destroyed_ballots...  \n",
       "4  ./data/timeseries/aggressive/ballot_harvesting...  \n",
       "\n",
       "[5 rows x 27 columns]"
      ]
     },
     "execution_count": 25,
     "metadata": {},
     "output_type": "execute_result"
    }
   ],
   "source": [
    "#We need to add new columns so we can tell the simulation where to find\n",
    "#aggregated files with certain thresholds of 3-strikes repeat offenders\n",
    "#removed. \n",
    "\n",
    "#This gets rid of an obnoxious warning\n",
    "pd.options.mode.chained_assignment = None  # default='warn'\n",
    "\n",
    "included['data_loc']\n",
    "base_loc = root + '/data/timeseries'\n",
    "assign_data_location = lambda x: [x + str(item) + '_raw.parquet' for item in included['incident_name'].values]\n",
    "\n",
    "included['10K_loc'] = assign_data_location(base_loc + '/10K/')\n",
    "included['50K_loc']  = assign_data_location(base_loc + '/50K/')\n",
    "included['100K_loc']  = assign_data_location(base_loc + '/100K/')\n",
    "included['500K_loc']  = assign_data_location(base_loc + '/500K/')\n",
    "included['aggregated_loc']  = assign_data_location(base_loc + '/aggregated/')\n",
    "included['currently_loc']  = assign_data_location(base_loc + '/currently/')\n",
    "included['verified_loc']  = assign_data_location(base_loc + '/Verified/')\n",
    "included['modest_loc']  = assign_data_location(base_loc + '/modest/')\n",
    "included['aggressive_loc']  = assign_data_location(base_loc + '/aggressive/')\n",
    "\n",
    "included.head()\n"
   ]
  },
  {
   "cell_type": "markdown",
   "id": "recorded-devil",
   "metadata": {},
   "source": [
    "<h3>"
   ]
  },
  {
   "cell_type": "code",
   "execution_count": 88,
   "id": "nervous-montana",
   "metadata": {},
   "outputs": [
    {
     "data": {
      "image/png": "[encoded data removed]",
      "text/plain": [
       "<Figure size 576x72 with 1 Axes>"
      ]
     },
     "metadata": {},
     "output_type": "display_data"
    },
    {
     "data": {
      "image/png": "[encoded data removed]",
      "text/plain": [
       "<Figure size 576x72 with 1 Axes>"
      ]
     },
     "metadata": {},
     "output_type": "display_data"
    }
   ],
   "source": [
    "pal_70s = [np.array([143,91,38])/255.0, \n",
    "           np.array([193,81,42])/255.0,\n",
    "           np.array([64,115,117])/255.0,\n",
    "           np.array([0,0,0])/255.0, \n",
    "           np.array([122,138,65])/255.0,\n",
    "           np.array([239,174,84])/255.0,\n",
    "           np.array([203,178,139])/255.0,\n",
    "              np.array([0,0,0])/255.0]\n",
    "sns.palplot(pal_70s)\n",
    "pal = sns.color_palette(\"Set2\",n_colors=8)\n",
    "sns.palplot(pal)\n",
    "pal = pal_70s"
   ]
  },
  {
   "cell_type": "code",
   "execution_count": 96,
   "id": "suffering-controversy",
   "metadata": {
    "tags": []
   },
   "outputs": [
    {
     "data": {
      "application/vnd.jupyter.widget-view+json": {
       "model_id": "084b94a5d0e843789257af3a08da09d6",
       "version_major": 2,
       "version_minor": 0
      },
      "text/plain": [
       "VBox(children=(HBox(children=(IntProgress(value=0, description='0.00%', max=13), Label(value='0 / 13'))), HBox…"
      ]
     },
     "metadata": {},
     "output_type": "display_data"
    }
   ],
   "source": [
    "#This is our baseline dictionary which we modify for various conditions. \n",
    "#Doing so ensures that we do not inadvertently set a parameter off baseline. \n",
    "baseline = dict(name='baseline',\n",
    "                plot='All',\n",
    "                num_sims=500,\n",
    "                data_location = 'data_loc',\n",
    "                nudge=1, \n",
    "                color=np.array([.15,.15,.15]),\n",
    "                stop_at=np.inf, \n",
    "                decay_value=1,\n",
    "                vcb_value=1, \n",
    "                decay_start=np.inf, \n",
    "                p_decay=0,\n",
    "                p_remove = 0,\n",
    "                freq=5)\n",
    "#Add removal at various delays\n",
    "recs = [baseline]\n",
    "stops = [15,30,60,120,240]\n",
    "stop_palette = np.array(sns.dark_palette(pal[0], reverse=True, n_colors=len(stops)+1))[1:]\n",
    "for idx in range(len(stops)):\n",
    "    add_row = baseline.copy()\n",
    "    add_row['p_decay'] = 1\n",
    "    add_row['p_remove'] = 1\n",
    "    add_row['decay_start'] = stops[idx]\n",
    "    add_row['stop_at'] = stops[idx]\n",
    "    add_row['color'] = stop_palette[idx]\n",
    "    add_row['name'] = 'removal_' + str(stops[idx])\n",
    "    recs.append(add_row)\n",
    "\n",
    "#Add probababilistic removal \n",
    "for idx in range(len(stops)):\n",
    "    add_row = baseline.copy()\n",
    "    add_row['p_decay'] = 1\n",
    "    add_row['p_remove'] = .2\n",
    "    add_row['decay_start'] = stops[idx]\n",
    "    add_row['stop_at'] = stops[idx]\n",
    "    add_row['color'] = stop_palette[idx]\n",
    "    add_row['name'] = 'prob_removal_' + str(stops[idx])\n",
    "    recs.append(add_row)\n",
    "    \n",
    "#Add virality circuit breaker applied to all posts\n",
    "vcb_palette = np.array(sns.dark_palette(pal[-3], reverse=True, n_colors=len(stops)+1))[1:]\n",
    "\n",
    "for idx in range(len(stops)):\n",
    "    add_row = baseline.copy()\n",
    "    add_row['p_decay'] = 1\n",
    "    add_row['decay_start'] = stops[idx]\n",
    "    add_row['vcb_value'] = .9\n",
    "    add_row['color'] = vcb_palette[idx]\n",
    "    add_row['name'] = 'vcb_' + str(stops[idx])\n",
    "    recs.append(add_row)\n",
    "    \n",
    "#Add virality circuit breaker applied probabalistically \n",
    "vcb_palette = np.array(sns.dark_palette(pal[-3], reverse=True, n_colors=len(stops)+1))[1:]\n",
    "for idx in range(len(stops)):\n",
    "    add_row = baseline.copy()\n",
    "    add_row['p_decay'] = .2\n",
    "    add_row['decay_start'] = stops[idx]\n",
    "    add_row['vcb_value'] = .9\n",
    "    add_row['color'] = vcb_palette[idx]\n",
    "    add_row['name'] = 'prob_vcb_' + str(stops[idx])\n",
    "    recs.append(add_row)\n",
    "    \n",
    "#Add nudges\n",
    "nudges = [.95,.9,.8,.6]\n",
    "nudge_palette = sns.dark_palette(pal[2], reverse=False, n_colors=len(nudges)+1)[1:]\n",
    "for idx in range(len(nudges)):\n",
    "    add_row = baseline.copy()\n",
    "    add_row['nudge'] = nudges[idx]\n",
    "    add_row['color'] = nudge_palette[idx]\n",
    "    add_row['name'] = 'nudge_' + str(nudges[idx])\n",
    "    recs.append(add_row)\n",
    "    \n",
    "\n",
    "\n",
    "#Add bans\n",
    "bans=['10K_loc','50K_loc','100K_loc','500K_loc'][::-1]\n",
    "ban_palette = sns.dark_palette(pal[1], reverse=False, n_colors=len(nudges)+1)[1:]\n",
    "for idx in range(len(bans)):\n",
    "    add_row = baseline.copy()\n",
    "    add_row['data_location'] = bans[idx]\n",
    "    add_row['color'] = ban_palette[idx]\n",
    "    add_row['name'] = 'bans_' + str(bans[idx].split('_')[0])\n",
    "    recs.append(add_row)\n",
    "\n",
    "bans=['verified_loc','currently_loc']\n",
    "ban_palette = [np.array([29,161,242])/255.0, pal[6]]\n",
    "for idx in range(len(bans)):\n",
    "    add_row = baseline.copy()\n",
    "    add_row['data_location'] = bans[idx]\n",
    "    add_row['color'] = ban_palette[idx]\n",
    "    add_row['name'] = 'bans_' + str(bans[idx].split('_')[0])\n",
    "    recs.append(add_row)\n",
    "\n",
    "\n",
    "#Add modest combined simulation\n",
    "add_row = baseline.copy()\n",
    "add_row['p_decay'] = .05\n",
    "add_row['p_remove'] = .2\n",
    "add_row['decay_start'] = 120\n",
    "add_row['stop_at'] = 240\n",
    "add_row['vcb_value'] = .9\n",
    "add_row['nudge'] = .9\n",
    "add_row['data_location'] = 'modest_loc'\n",
    "add_row['color'] = pal[-4]\n",
    "add_row['name'] = 'modest_0'\n",
    "recs.append(add_row)\n",
    "\n",
    "      \n",
    "    \n",
    "#Add decay only version of modest policy\n",
    "add_row = baseline.copy()\n",
    "add_row['p_decay'] = .05\n",
    "add_row['p_remove'] = .2\n",
    "add_row['decay_start'] = 120\n",
    "add_row['stop_at'] = 240\n",
    "add_row['vcb_value'] = .9\n",
    "add_row['color'] = pal[-3]\n",
    "add_row['name'] = 'modest_decay_only'\n",
    "recs.append(add_row)\n",
    "\n",
    "\n",
    "#Add nudge only version of modest policy \n",
    "add_row = baseline.copy()\n",
    "add_row['nudge'] = .9\n",
    "add_row['color'] = pal[2]\n",
    "add_row['name'] = 'modest_nudge_only'\n",
    "recs.append(add_row)\n",
    "\n",
    "#Add ban only version of modest policy \n",
    "add_row = baseline.copy()\n",
    "add_row['data_location'] = 'modest_loc'\n",
    "add_row['color'] = pal[1]\n",
    "add_row['name'] = 'modest_ban_only'\n",
    "recs.append(add_row)\n",
    "\n",
    "#Add aggressive combined simulation\n",
    "add_row = baseline.copy()\n",
    "add_row['p_decay'] = .10\n",
    "add_row['p_remove'] = .2\n",
    "add_row['decay_start'] = 60\n",
    "add_row['stop_at'] = 120\n",
    "add_row['vcb_value'] = .8\n",
    "add_row['nudge'] = .8\n",
    "add_row['data_location'] = 'aggressive_loc'\n",
    "add_row['color'] = pal[-4]\n",
    "add_row['name'] = 'aggressive_0'\n",
    "recs.append(add_row)\n",
    "\n",
    "\n",
    "#Add decay only version of aggressive policy\n",
    "add_row = baseline.copy()\n",
    "add_row['p_decay'] = .10\n",
    "add_row['p_remove'] = .2\n",
    "add_row['decay_start'] = 60\n",
    "add_row['stop_at'] = 120\n",
    "add_row['vcb_value'] = .8\n",
    "add_row['color'] = pal[-3]\n",
    "add_row['name'] = 'aggressive_decay_only'\n",
    "recs.append(add_row)\n",
    "\n",
    "    \n",
    "\n",
    "\n",
    "#Add nudge only version of aggressive policy \n",
    "add_row = baseline.copy()\n",
    "add_row['nudge'] = .8\n",
    "add_row['color'] = pal[2]\n",
    "add_row['name'] = 'aggressive_nudge_only'\n",
    "recs.append(add_row)\n",
    "\n",
    "\n",
    "\n",
    "#Add ban only version of aggressive policy \n",
    "add_row = baseline.copy()\n",
    "add_row['data_location'] = 'aggressive_loc'\n",
    "add_row['color'] = pal[1]\n",
    "add_row['name'] = 'aggressive_ban_only'\n",
    "recs.append(add_row)\n",
    "\n",
    "#Add Combined policy\n",
    "\n",
    " \n",
    "#['aggregated_loc','currently_loc','verified_loc']\n",
    "   \n",
    "    \n",
    "sim_df = pd.DataFrame.from_records(recs)\n",
    "from src.simulation import sim_row\n",
    "\n",
    "#temp = sim_row(sim_df.iloc[0],included)\n",
    "sim_df.to_csv('./output/simulations/sim_df', compression=None)\n",
    "#The keep parameter tells the simulations whether to re-run old simulations (False)\n",
    "#or keep them. This is very useful if your notebook dies. Just set it to True\n",
    "#and the simulations will pick up where they left off. \n",
    "sim_included = lambda row: sim_row(row, included,verbose=True,keep=True)\n",
    "_ = sim_df.T.parallel_apply(sim_included)\n"
   ]
  },
  {
   "cell_type": "code",
   "execution_count": 97,
   "id": "average-beast",
   "metadata": {},
   "outputs": [],
   "source": [
    "import matplotlib.pyplot as plt\n",
    "import string\n",
    "%matplotlib inline"
   ]
  },
  {
   "cell_type": "markdown",
   "id": "incorrect-arkansas",
   "metadata": {},
   "source": [
    "<h2>Figures and Tables</h2>"
   ]
  },
  {
   "cell_type": "markdown",
   "id": "pleased-christianity",
   "metadata": {},
   "source": [
    "<h3>Figure 1</h3>"
   ]
  },
  {
   "cell_type": "code",
   "execution_count": 98,
   "id": "preceding-press",
   "metadata": {},
   "outputs": [
    {
     "data": {
      "image/png": "[encoded data removed]",
      "text/plain": [
       "<Figure size 576x576 with 4 Axes>"
      ]
     },
     "metadata": {},
     "output_type": "display_data"
    }
   ],
   "source": [
    "sns.set_context('paper',font_scale=1.25)\n",
    "sns.set_style('white')\n",
    "\n",
    "#A not quite random event\n",
    "#If it breaks when you try a random one it's because\n",
    "#Figure A adds rows before and after the event\n",
    "#which isn't possible for all events. \n",
    "row_loc = 93\n",
    "row = included.iloc[row_loc]\n",
    "\n",
    "from src.figures import plot_figure_1\n",
    "#The code for figure 1 is a bit messy. \n",
    "#The simulations and plotting for individual events\n",
    "#Is a little duct-tapey. \n",
    "plot_figure_1(row, included,pal,root='.')\n",
    "plt.savefig('./output/figures/MS/Fig1.png')"
   ]
  },
  {
   "cell_type": "markdown",
   "id": "living-savings",
   "metadata": {},
   "source": [
    "<h3>Figure 2</h3>"
   ]
  },
  {
   "cell_type": "code",
   "execution_count": 99,
   "id": "damaged-ladder",
   "metadata": {},
   "outputs": [
    {
     "data": {
      "image/png": "[encoded data removed]",
      "text/plain": [
       "<Figure size 576x576 with 4 Axes>"
      ]
     },
     "metadata": {},
     "output_type": "display_data"
    }
   ],
   "source": [
    "from src.figures import plot_sims\n",
    "from src.tables import get_table\n",
    "sns.set_context('paper',font_scale=1.25)\n",
    "sns.set_style('white')\n",
    "\n",
    "fig, axs = plt.subplots(2,2,figsize=(8,8))\n",
    "axs = axs.flat\n",
    "\n",
    "for n, ax in enumerate(axs):\n",
    "    ax.text(-0.1, 1.1, string.ascii_uppercase[n], transform=ax.transAxes, \n",
    "            size=20, weight='bold')\n",
    "    \n",
    "plt.sca(axs[0])\n",
    "order = [0,5,4,3,2,1]\n",
    "table = get_table(sim_df, order)\n",
    "table.to_latex('./output/tables/full_removal.tex',index=False)\n",
    "\n",
    "plot_sims(order, sim_df, 'Delay\\n(min.)', 'stop_at')\n",
    "\n",
    "plt.sca(axs[1])\n",
    "order = [0,10,9,8,7,6]\n",
    "table = get_table(sim_df, order)\n",
    "table.to_latex('./output/tables/partial_removal.tex',index=False)\n",
    "\n",
    "plot_sims(order, sim_df, 'Delay\\n(min.)', 'stop_at')\n",
    "\n",
    "plt.sca(axs[2])\n",
    "order = [0,15,14,13,12,11]\n",
    "table = get_table(sim_df, order)\n",
    "table.to_latex('./output/tables/full_vcb.tex',index=False)\n",
    "\n",
    "plot_sims(order, sim_df, 'Delay\\n(min.)', 'decay_start')\n",
    "\n",
    "plt.sca(axs[3])\n",
    "order = [0,20,19,18,17,16]\n",
    "table = get_table(sim_df, order)\n",
    "table.to_latex('./output/tables/partial_vcb.tex',index=False)\n",
    "plot_sims(order, sim_df, 'Delay\\n(min.)', 'decay_start')\n",
    "\n",
    "plt.tight_layout()\n",
    "plt.savefig('./output/figures/MS/Fig2.png',dpi=1000)"
   ]
  },
  {
   "cell_type": "code",
   "execution_count": 100,
   "id": "approximate-dance",
   "metadata": {},
   "outputs": [
    {
     "name": "stderr",
     "output_type": "stream",
     "text": [
      "/opt/conda/lib/python3.8/site-packages/seaborn/_decorators.py:36: FutureWarning: Pass the following variables as keyword args: x, y. From version 0.12, the only valid positional argument will be `data`, and passing other arguments without an explicit keyword will result in an error or misinterpretation.\n",
      "  warnings.warn(\n"
     ]
    },
    {
     "data": {
      "image/png": "[encoded data removed]",
      "text/plain": [
       "<Figure size 576x576 with 4 Axes>"
      ]
     },
     "metadata": {},
     "output_type": "display_data"
    }
   ],
   "source": [
    "from src.figures import plot_sims\n",
    "from src.tables import get_table\n",
    "sns.set_context('paper',font_scale=1.25)\n",
    "sns.set_style('white')\n",
    "fig, axs = plt.subplots(2,2,figsize=(8,8))\n",
    "axs = axs.flat\n",
    "\n",
    "for n, ax in enumerate(axs):\n",
    "    ax.text(-0.1, 1.1, string.ascii_uppercase[n], transform=ax.transAxes, \n",
    "            size=20, weight='bold')\n",
    "    \n",
    "plt.sca(axs[0])\n",
    "order = [0,21,22,23,24]\n",
    "\n",
    "table = get_table(sim_df, order)\n",
    "table.to_latex('./output/tables/nudge.tex',index=False)\n",
    "\n",
    "plot_sims(order, sim_df, 'Nudge', 'nudge')\n",
    "labels = (100-100*sim_df.iloc[order]['nudge'].values).astype('int').tolist()\n",
    "labels[0] = 'None'\n",
    "legend = plt.legend(labels=labels,title='Nudge (%)',loc=2,prop={'size': 8})\n",
    "legend.get_title().set_fontsize('10')\n",
    "\n",
    "plt.sca(axs[1])\n",
    "ban_df = pd.read_parquet(root + '/data/ban_df_counts.parquet')\n",
    "temp_pal = sns.dark_palette(pal[1], reverse=False, n_colors=len(nudges)+1)[1:]\n",
    "temp_pal.append( np.array([29,161,242])/255.0)\n",
    "temp_pal.append(np.array(pal[-4]))\n",
    "temp_pal.append(pal[-4])\n",
    "temp_pal.append(pal[6])\n",
    "\n",
    "sns.barplot(ban_df['Total removed'],\n",
    "            ban_df['Policy'], palette=temp_pal)\n",
    "plt.ylabel('')\n",
    "\n",
    "plt.sca(axs[2])\n",
    "order = [0,29,30]\n",
    "table = get_table(sim_df, order)\n",
    "table.to_latex('./output/tables/ban_current_verified.tex',index=False)\n",
    "\n",
    "plot_sims(order, sim_df, 'Threshold', 'nudge')\n",
    "labels = ['Baseline', 'Verified', 'Currently']\n",
    "labels[0] = 'None'\n",
    "legend = plt.legend(labels=labels,title='Criteria',loc=2,prop={'size': 8})\n",
    "legend.get_title().set_fontsize('10')\n",
    "\n",
    "\n",
    "plt.sca(axs[3])\n",
    "order = [0,25,26,27,28]\n",
    "table = get_table(sim_df, order)\n",
    "table.to_latex('./output/tables/ban_threshold.tex',index=False)\n",
    "\n",
    "plot_sims(order, sim_df, 'Threshold', 'nudge')\n",
    "labels = ['Base', '500K', '100K', '50K', '10K']\n",
    "labels[0] = 'None'\n",
    "legend = plt.legend(labels=labels,title='Criteria',loc=2,prop={'size': 8})\n",
    "legend.get_title().set_fontsize('10')\n",
    "\n",
    "plt.tight_layout()\n",
    "plt.savefig('./output/figures/MS/Fig3.png',dpi=1000)"
   ]
  },
  {
   "cell_type": "markdown",
   "id": "vietnamese-universe",
   "metadata": {},
   "source": [
    "<h3>Figure 3</h3>"
   ]
  },
  {
   "cell_type": "code",
   "execution_count": 101,
   "id": "continent-shore",
   "metadata": {
    "tags": []
   },
   "outputs": [
    {
     "data": {
      "image/png": "[encoded data removed]",
      "text/plain": [
       "<Figure size 576x288 with 2 Axes>"
      ]
     },
     "metadata": {},
     "output_type": "display_data"
    }
   ],
   "source": [
    "sns.set_context('paper',font_scale=1.25)\n",
    "sns.set_style('white')\n",
    "fig, axs = plt.subplots(1,2,figsize=(8,4))\n",
    "axs = axs.flat\n",
    "\n",
    "for n, ax in enumerate(axs):\n",
    "    ax.text(-0.1, 1.1, string.ascii_uppercase[n], transform=ax.transAxes, \n",
    "            size=20, weight='bold')\n",
    "    \n",
    "plt.sca(axs[0])   \n",
    "order = [0,32,33,34,31]\n",
    "table = get_table(sim_df, order)\n",
    "table.to_latex('./output/tables/modest.tex',index=False)\n",
    "\n",
    "plot_sims(order, sim_df, 'Threshold', 'nudge')\n",
    "labels = ['Base', 'Modest', 'VCB', 'Nudge', 'Ban']\n",
    "legend = plt.legend(labels=labels,title='Policy',loc=2,prop={'size': 8})\n",
    "legend.get_title().set_fontsize('10')\n",
    "\n",
    "plt.sca(axs[1])   \n",
    "order = [0,36,37,38,35]\n",
    "table = get_table(sim_df, order)\n",
    "table.to_latex('./output/tables/aggressive.tex',index=False)\n",
    "\n",
    "plot_sims(order, sim_df, 'Threshold', 'nudge')\n",
    "labels = ['None', 'Aggressive', 'VCB', 'Nudge', 'Ban']\n",
    "legend = plt.legend(labels=labels,title='Policy',loc=2,prop={'size': 8})\n",
    "legend.get_title().set_fontsize('10')\n",
    "plt.savefig('./output/figures/MS/Fig4.png',dpi=1000)"
   ]
  },
  {
   "cell_type": "code",
   "execution_count": null,
   "id": "floral-ethics",
   "metadata": {},
   "outputs": [],
   "source": []
  },
  {
   "cell_type": "code",
   "execution_count": null,
   "id": "joint-martial",
   "metadata": {},
   "outputs": [],
   "source": []
  },
  {
   "cell_type": "code",
   "execution_count": null,
   "id": "everyday-fashion",
   "metadata": {},
   "outputs": [],
   "source": []
  }
 ],
 "metadata": {
  "kernelspec": {
   "display_name": "Python 3",
   "language": "python",
   "name": "python3"
  },
  "language_info": {
   "codemirror_mode": {
    "name": "ipython",
    "version": 3
   },
   "file_extension": ".py",
   "mimetype": "text/x-python",
   "name": "python",
   "nbconvert_exporter": "python",
   "pygments_lexer": "ipython3",
   "version": "3.8.8"
  }
 },
 "nbformat": 4,
 "nbformat_minor": 5
}
