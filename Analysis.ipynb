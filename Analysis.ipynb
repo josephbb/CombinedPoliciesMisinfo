{
 "cells": [
  {
   "cell_type": "code",
   "execution_count": 1,
   "id": "244d5f40",
   "metadata": {},
   "outputs": [],
   "source": [
    "%%capture\n",
    "!pip install fastparquet\n",
    "!pip install pandarallel"
   ]
  },
  {
   "cell_type": "code",
   "execution_count": 2,
   "id": "63ef9c9d",
   "metadata": {},
   "outputs": [],
   "source": [
    "import pystan\n",
    "import numpy as np\n",
    "import pandas as pd\n",
    "import pickle\n",
    "from src.utils import create_output_directories\n",
    "import seaborn as sns\n",
    "#Set up parallel processing\n",
    "from pandarallel import pandarallel\n",
    "from tqdm.notebook import trange, tqdm\n",
    "from src.tables import get_table\n",
    "\n",
    "pandarallel.initialize(nb_workers=8,verbose=True,progress_bar=True)\n",
    "tqdm.pandas()\n",
    "\n",
    "#Make sure things reload\n",
    "%load_ext autoreload\n",
    "%autoreload 2\n",
    "\n",
    "root = '.'\n",
    "pal = sns.color_palette(\"Set2\",n_colors=8)\n",
    "\n",
    "create_output_directories()"
   ]
  },
  {
   "cell_type": "markdown",
   "id": "0c04e6de",
   "metadata": {},
   "source": [
    "<h1>Overview</h1>"
   ]
  },
  {
   "cell_type": "markdown",
   "id": "cd1cab48",
   "metadata": {},
   "source": [
    "Below is the code necessary to recreate the analysis from \"Combining interventions to reduce the spread of viral misinformation.\" This notebook assumes that there is a folder located in \"root\" (default '.') called \"data\" containing:\n",
    "<ol>\n",
    "<li>Directory: Timeseries with subdirectories:</li>\n",
    "    <ul>\n",
    "    <li>aggressive</li>\n",
    "    <li>modest</li>\n",
    "    <li>currently</li>\n",
    "    <li>Verified</li>\n",
    "    <li>500k, 100k, 50k, 10k</li>\n",
    "    <li>aggregated</li>\n",
    "    <li>raw</li>\n",
    "     </ul>\n",
    "<li>ban_df_counts.parquet</li>\n",
    "<li>events.parquet</li>\n",
    "<li>incidents.parquet</li>\n",
    "</ol>\n",
    "\n",
    "Each of the subdirectories should contain aggregated time-series data, downloaded from LINK for each of the unfiltered events. This data were generated from our raw data which is not shared for privacy concerns. However, we include the code used to generate the aggregated time-series for application to novel datasets.\n"
   ]
  },
  {
   "cell_type": "markdown",
   "id": "b45195c7",
   "metadata": {},
   "source": [
    "<h1>Segmentation and model fit</h1>"
   ]
  },
  {
   "cell_type": "markdown",
   "id": "68b50ad7",
   "metadata": {},
   "source": [
    "<h2>Segmentation</h2>"
   ]
  },
  {
   "cell_type": "markdown",
   "id": "6a8ca6c7",
   "metadata": {},
   "source": [
    "We begin by segmenting the time series of incidents into distinct events. Here, we define events as periods of heightened activity. Boundaries between events occur when the volume of tweets follows below 5% of the maximum 5-minute post volume for that event  (paramters before_min, after_min in srcseg.get_peaks). Events within an incident are included if their peak height is at least 30% of the maximum peak height across the entire incident (parameter pmin for srseg.get_peaks). "
   ]
  },
  {
   "cell_type": "code",
   "execution_count": 3,
   "id": "da8d117d",
   "metadata": {},
   "outputs": [],
   "source": [
    "incidents = pd.read_parquet('./data/incidents.parquet')"
   ]
  },
  {
   "cell_type": "code",
   "execution_count": 4,
   "id": "e687166c",
   "metadata": {
    "tags": []
   },
   "outputs": [
    {
     "data": {
      "application/vnd.jupyter.widget-view+json": {
       "model_id": "8b556ebd887b4826be992b6c76bfc126",
       "version_major": 2,
       "version_minor": 0
      },
      "text/plain": [
       "VBox(children=(HBox(children=(IntProgress(value=0, description='0.00%', max=3), Label(value='0 / 3'))), HBox(c…"
      ]
     },
     "metadata": {},
     "output_type": "display_data"
    },
    {
     "name": "stderr",
     "output_type": "stream",
     "text": [
      "INFO:numexpr.utils:Note: NumExpr detected 64 cores but \"NUMEXPR_MAX_THREADS\" not set, so enforcing safe limit of 8.\n",
      "INFO:numexpr.utils:NumExpr defaulting to 8 threads.\n"
     ]
    },
    {
     "name": "stdout",
     "output_type": "stream",
     "text": [
      "Found 266 events\n"
     ]
    },
    {
     "data": {
      "application/vnd.jupyter.widget-view+json": {
       "model_id": "d61586eea7f945a5abba1641d1509432",
       "version_major": 2,
       "version_minor": 0
      },
      "text/plain": [
       "VBox(children=(HBox(children=(IntProgress(value=0, description='0.00%', max=6), Label(value='0 / 6'))), HBox(c…"
      ]
     },
     "metadata": {},
     "output_type": "display_data"
    }
   ],
   "source": [
    "import src.segmentation as srcseg\n",
    "\n",
    "def event_df(row):\n",
    "    peaks = srcseg.get_peaks(row,root='.',start=0, freq=5,pmin=.3,\n",
    "                      after_min=.05, before_min=.05)\n",
    "    event_dictionaries = []\n",
    "    for idx, peak in enumerate(peaks):\n",
    "        one_event = {'incident_name':row['incident_name'],\n",
    "                     'start':peak[0],\n",
    "                     'end':peak[1],\n",
    "                     'event_name':row['incident_name']+'_event_'+str(idx)}\n",
    "        event_dictionaries.append(one_event)\n",
    "    return pd.DataFrame(event_dictionaries)\n",
    "\n",
    "\n",
    "events = pd.concat([pd.DataFrame(item) for item in incidents.T.parallel_apply(event_df,\n",
    "                                                                     result_type='reduce')])\n",
    "events = pd.merge(events, incidents, left_on='incident_name', right_on='incident_name')\n",
    "events = events[(events['end'] - events['start']) >=12]\n",
    "events.to_parquet(root + '/data/events.parquet',compression=None)\n",
    "print('Found %s events' % str(events.shape[0]))\n",
    "_ = events.T.parallel_apply(srcseg.plot_event)"
   ]
  },
  {
   "cell_type": "markdown",
   "id": "90957b23",
   "metadata": {},
   "source": [
    "<h2> Fit model to all events </h2>"
   ]
  },
  {
   "cell_type": "markdown",
   "id": "b82dce19",
   "metadata": {},
   "source": [
    "With events segmented, we turn to evaluating our model fit with regards to each event. Our model, in its simplest form  can be described as: \n",
    "\n",
    "\\begin{equation}\n",
    "\\label{eq1}\n",
    "\\begin{aligned}\n",
    "    y_{t} &=  \\exp(\\alpha + \\beta v_{t-1})\\\\\n",
    "    v_{t} &= v_{t-1} \\delta e^{-\\lambda t} + x[t] \\\\\n",
    "    x_{t} &= \\log(\\sum_{j=1}^{y_t} F_{j})\n",
    "\\end{aligned}\n",
    "\\end{equation}\n",
    "\n",
    "Where $y_t$ are the tweets at time $t$, $\\alpha$ is the baseline rate of discussion, and $\\beta$ is the effect of virality, $v$. Virality decays exponentially as a function of $\\delta$ and $\\lambda$. Here, $\\delta$ captures the baseline rate of decay per time step, and $\\lambda$ controls the way in which that decay changes over the lifetime of an event. This could either be due to algorithmic processes favoring new content or, for very large events, user saturation. Every time step, for each of $y_t$ accounts, the log sum ($x_t$) of their followers, $F_j$ is added to virality for the subsequent time step. We translate this into a bayesian statistical model such that: \n",
    "\n",
    "\\begin{align*}\n",
    "y_{t} &\\sim \\text{NegativeBinomial2}(\\mu_{t}, \\phi) \\text{ for }t=2...T \\\\ \n",
    "\\mu_{i} &= \\exp(\\alpha + \\beta v_{t-1})\\text{ for  }t=2...T \\\\ \n",
    "v_{t} &= v_{t-1}\\delta e^{-\\lambda t} + x_{t} \\\\\n",
    "\\alpha &\\sim \\text{Normal}(-3,3) \\\\\n",
    "\\beta &\\sim \\text{Normal}(0,3) \\\\\n",
    "\\delta &\\sim \\text{Beta}(2,2) \\\\\n",
    "\\lambda &\\sim \\text{HalfExponential}(1) \\\\\n",
    "\\phi &\\sim \\text{HalfExponential}(1) \\\\ \n",
    "v_{1} &= x_{1}\\\\\n",
    "x_{t} &= \\log(\\sum_{j=1}^{y_t} F_{j}+1)\n",
    "\\end{align*}\n",
    "\n",
    "This model can be found in /src/timeseries.stan. Because our model makes assumptions about how misinformation cascades spread, it is unlikely to fit everything that is considered an event. Ways in which we can identify a failed fit include parameters not converging, divergent transitions, or the posterior predictive distribution of cascade sizes not containing observed value. Here, we load the model and apply it to each segmented event. We then evaluate inclusion criteria and plot all successfully fitted events for visual inspection. Note that Stan will (and should) yell at us when events fail to fit. This is expected at this stage. \n"
   ]
  },
  {
   "cell_type": "code",
   "execution_count": 5,
   "id": "cff5e213",
   "metadata": {},
   "outputs": [],
   "source": [
    "events = pd.read_parquet(root + '/data/events.parquet')"
   ]
  },
  {
   "cell_type": "code",
   "execution_count": 6,
   "id": "af43a0a1",
   "metadata": {},
   "outputs": [
    {
     "name": "stderr",
     "output_type": "stream",
     "text": [
      "INFO:pystan:COMPILING THE C++ CODE FOR MODEL anon_model_a7033beae7425c31157a62d047eae417 NOW.\n"
     ]
    }
   ],
   "source": [
    "#Compile model, we only need to do this once. \n",
    "model = pystan.StanModel(root + '/src/timeseries.stan')\n",
    "pickle.dump(model, open(root + '/output/posteriors/model.p','wb'))"
   ]
  },
  {
   "cell_type": "code",
   "execution_count": 7,
   "id": "5443e8ef",
   "metadata": {},
   "outputs": [],
   "source": [
    "model = pickle.load(open(root + '/output/posteriors/model.p','rb'))"
   ]
  },
  {
   "cell_type": "code",
   "execution_count": 8,
   "id": "c0612998",
   "metadata": {},
   "outputs": [
    {
     "data": {
      "application/vnd.jupyter.widget-view+json": {
       "model_id": "2879a954925040deaf0c6a91972ca359",
       "version_major": 2,
       "version_minor": 0
      },
      "text/plain": [
       "  0%|          | 0/266 [00:00<?, ?it/s]"
      ]
     },
     "metadata": {},
     "output_type": "display_data"
    },
    {
     "name": "stderr",
     "output_type": "stream",
     "text": [
      "/home/joebak/CombinedPolicy/src/model_fit.py:30: UserWarning: Pickling fit objects is an experimental feature!\n",
      "The relevant StanModel instance must be pickled along with this fit object.\n",
      "When unpickling the StanModel must be unpickled first.\n",
      "  open(root + '/output/posteriors/' + row['event_name'] + '_raw.p', 'wb'))\n",
      "WARNING:pystan:Rhat above 1.1 or below 0.9 indicates that the chains very likely have not mixed\n",
      "WARNING:pystan:29 of 4000 iterations saturated the maximum tree depth of 10 (0.725 %)\n",
      "WARNING:pystan:Run again with max_treedepth larger than 10 to avoid saturation\n",
      "WARNING:pystan:Chain 2: E-BFMI = 0.0759\n",
      "WARNING:pystan:Chain 3: E-BFMI = 0.105\n",
      "WARNING:pystan:E-BFMI below 0.2 indicates you may need to reparameterize your model\n",
      "WARNING:pystan:n_eff / iter below 0.001 indicates that the effective sample size has likely been overestimated\n",
      "WARNING:pystan:Rhat above 1.1 or below 0.9 indicates that the chains very likely have not mixed\n",
      "WARNING:pystan:381 of 4000 iterations ended with a divergence (9.53 %).\n",
      "WARNING:pystan:Try running with adapt_delta larger than 0.99 to remove the divergences.\n",
      "WARNING:pystan:Chain 1: E-BFMI = 0.0545\n",
      "WARNING:pystan:E-BFMI below 0.2 indicates you may need to reparameterize your model\n",
      "WARNING:pystan:22 of 4000 iterations saturated the maximum tree depth of 10 (0.55 %)\n",
      "WARNING:pystan:Run again with max_treedepth larger than 10 to avoid saturation\n",
      "WARNING:pystan:n_eff / iter below 0.001 indicates that the effective sample size has likely been overestimated\n",
      "WARNING:pystan:Rhat above 1.1 or below 0.9 indicates that the chains very likely have not mixed\n",
      "WARNING:pystan:233 of 4000 iterations ended with a divergence (5.83 %).\n",
      "WARNING:pystan:Try running with adapt_delta larger than 0.99 to remove the divergences.\n",
      "WARNING:pystan:145 of 4000 iterations saturated the maximum tree depth of 10 (3.62 %)\n",
      "WARNING:pystan:Run again with max_treedepth larger than 10 to avoid saturation\n",
      "WARNING:pystan:Chain 1: E-BFMI = 0.00758\n",
      "WARNING:pystan:Chain 2: E-BFMI = 0.00663\n",
      "WARNING:pystan:E-BFMI below 0.2 indicates you may need to reparameterize your model\n",
      "WARNING:pystan:Rhat above 1.1 or below 0.9 indicates that the chains very likely have not mixed\n",
      "WARNING:pystan:222 of 4000 iterations saturated the maximum tree depth of 10 (5.55 %)\n",
      "WARNING:pystan:Run again with max_treedepth larger than 10 to avoid saturation\n",
      "WARNING:pystan:1 of 4000 iterations ended with a divergence (0.025 %).\n",
      "WARNING:pystan:Try running with adapt_delta larger than 0.99 to remove the divergences.\n",
      "WARNING:pystan:Rhat above 1.1 or below 0.9 indicates that the chains very likely have not mixed\n",
      "WARNING:pystan:28 of 4000 iterations ended with a divergence (0.7 %).\n",
      "WARNING:pystan:Try running with adapt_delta larger than 0.99 to remove the divergences.\n",
      "WARNING:pystan:6 of 4000 iterations saturated the maximum tree depth of 10 (0.15 %)\n",
      "WARNING:pystan:Run again with max_treedepth larger than 10 to avoid saturation\n",
      "WARNING:pystan:2 of 4000 iterations saturated the maximum tree depth of 10 (0.05 %)\n",
      "WARNING:pystan:Run again with max_treedepth larger than 10 to avoid saturation\n",
      "WARNING:pystan:Rhat above 1.1 or below 0.9 indicates that the chains very likely have not mixed\n",
      "WARNING:pystan:2 of 4000 iterations saturated the maximum tree depth of 10 (0.05 %)\n",
      "WARNING:pystan:Run again with max_treedepth larger than 10 to avoid saturation\n",
      "WARNING:pystan:Rhat above 1.1 or below 0.9 indicates that the chains very likely have not mixed\n",
      "WARNING:pystan:157 of 4000 iterations ended with a divergence (3.92 %).\n",
      "WARNING:pystan:Try running with adapt_delta larger than 0.99 to remove the divergences.\n",
      "WARNING:pystan:Chain 1: E-BFMI = 0.00467\n",
      "WARNING:pystan:E-BFMI below 0.2 indicates you may need to reparameterize your model\n",
      "WARNING:pystan:8 of 4000 iterations saturated the maximum tree depth of 10 (0.2 %)\n",
      "WARNING:pystan:Run again with max_treedepth larger than 10 to avoid saturation\n",
      "WARNING:pystan:n_eff / iter below 0.001 indicates that the effective sample size has likely been overestimated\n",
      "WARNING:pystan:Rhat above 1.1 or below 0.9 indicates that the chains very likely have not mixed\n",
      "WARNING:pystan:202 of 4000 iterations ended with a divergence (5.05 %).\n",
      "WARNING:pystan:Try running with adapt_delta larger than 0.99 to remove the divergences.\n",
      "WARNING:pystan:544 of 4000 iterations saturated the maximum tree depth of 10 (13.6 %)\n",
      "WARNING:pystan:Run again with max_treedepth larger than 10 to avoid saturation\n",
      "WARNING:pystan:Chain 2: E-BFMI = 0.0864\n",
      "WARNING:pystan:E-BFMI below 0.2 indicates you may need to reparameterize your model\n",
      "WARNING:pystan:4 of 4000 iterations saturated the maximum tree depth of 10 (0.1 %)\n",
      "WARNING:pystan:Run again with max_treedepth larger than 10 to avoid saturation\n",
      "WARNING:pystan:1 of 4000 iterations ended with a divergence (0.025 %).\n",
      "WARNING:pystan:Try running with adapt_delta larger than 0.99 to remove the divergences.\n",
      "WARNING:pystan:Rhat above 1.1 or below 0.9 indicates that the chains very likely have not mixed\n",
      "WARNING:pystan:35 of 4000 iterations saturated the maximum tree depth of 10 (0.875 %)\n",
      "WARNING:pystan:Run again with max_treedepth larger than 10 to avoid saturation\n",
      "WARNING:pystan:n_eff / iter below 0.001 indicates that the effective sample size has likely been overestimated\n",
      "WARNING:pystan:Rhat above 1.1 or below 0.9 indicates that the chains very likely have not mixed\n",
      "WARNING:pystan:104 of 4000 iterations ended with a divergence (2.6 %).\n",
      "WARNING:pystan:Try running with adapt_delta larger than 0.99 to remove the divergences.\n",
      "WARNING:pystan:96 of 4000 iterations saturated the maximum tree depth of 10 (2.4 %)\n",
      "WARNING:pystan:Run again with max_treedepth larger than 10 to avoid saturation\n",
      "WARNING:pystan:n_eff / iter below 0.001 indicates that the effective sample size has likely been overestimated\n",
      "WARNING:pystan:Rhat above 1.1 or below 0.9 indicates that the chains very likely have not mixed\n",
      "WARNING:pystan:229 of 4000 iterations ended with a divergence (5.72 %).\n",
      "WARNING:pystan:Try running with adapt_delta larger than 0.99 to remove the divergences.\n",
      "WARNING:pystan:597 of 4000 iterations saturated the maximum tree depth of 10 (14.9 %)\n",
      "WARNING:pystan:Run again with max_treedepth larger than 10 to avoid saturation\n",
      "WARNING:pystan:Chain 1: E-BFMI = 0.09\n",
      "WARNING:pystan:E-BFMI below 0.2 indicates you may need to reparameterize your model\n",
      "WARNING:pystan:Rhat above 1.1 or below 0.9 indicates that the chains very likely have not mixed\n",
      "WARNING:pystan:Rhat above 1.1 or below 0.9 indicates that the chains very likely have not mixed\n",
      "WARNING:pystan:36 of 4000 iterations saturated the maximum tree depth of 10 (0.9 %)\n",
      "WARNING:pystan:Run again with max_treedepth larger than 10 to avoid saturation\n",
      "WARNING:pystan:5 of 4000 iterations ended with a divergence (0.125 %).\n",
      "WARNING:pystan:Try running with adapt_delta larger than 0.99 to remove the divergences.\n",
      "WARNING:pystan:Rhat above 1.1 or below 0.9 indicates that the chains very likely have not mixed\n",
      "WARNING:pystan:7 of 4000 iterations saturated the maximum tree depth of 10 (0.175 %)\n",
      "WARNING:pystan:Run again with max_treedepth larger than 10 to avoid saturation\n",
      "WARNING:pystan:Rhat above 1.1 or below 0.9 indicates that the chains very likely have not mixed\n",
      "WARNING:pystan:n_eff / iter below 0.001 indicates that the effective sample size has likely been overestimated\n",
      "WARNING:pystan:Rhat above 1.1 or below 0.9 indicates that the chains very likely have not mixed\n",
      "WARNING:pystan:516 of 4000 iterations ended with a divergence (12.9 %).\n",
      "WARNING:pystan:Try running with adapt_delta larger than 0.99 to remove the divergences.\n",
      "WARNING:pystan:n_eff / iter below 0.001 indicates that the effective sample size has likely been overestimated\n",
      "WARNING:pystan:Rhat above 1.1 or below 0.9 indicates that the chains very likely have not mixed\n",
      "WARNING:pystan:42 of 4000 iterations saturated the maximum tree depth of 10 (1.05 %)\n",
      "WARNING:pystan:Run again with max_treedepth larger than 10 to avoid saturation\n",
      "WARNING:pystan:8 of 4000 iterations saturated the maximum tree depth of 10 (0.2 %)\n",
      "WARNING:pystan:Run again with max_treedepth larger than 10 to avoid saturation\n",
      "WARNING:pystan:11 of 4000 iterations ended with a divergence (0.275 %).\n",
      "WARNING:pystan:Try running with adapt_delta larger than 0.99 to remove the divergences.\n",
      "WARNING:pystan:66 of 4000 iterations saturated the maximum tree depth of 10 (1.65 %)\n",
      "WARNING:pystan:Run again with max_treedepth larger than 10 to avoid saturation\n",
      "WARNING:pystan:49 of 4000 iterations saturated the maximum tree depth of 10 (1.23 %)\n",
      "WARNING:pystan:Run again with max_treedepth larger than 10 to avoid saturation\n",
      "WARNING:pystan:n_eff / iter below 0.001 indicates that the effective sample size has likely been overestimated\n",
      "WARNING:pystan:Rhat above 1.1 or below 0.9 indicates that the chains very likely have not mixed\n",
      "WARNING:pystan:405 of 4000 iterations ended with a divergence (10.1 %).\n",
      "WARNING:pystan:Try running with adapt_delta larger than 0.99 to remove the divergences.\n",
      "WARNING:pystan:274 of 4000 iterations saturated the maximum tree depth of 10 (6.85 %)\n",
      "WARNING:pystan:Run again with max_treedepth larger than 10 to avoid saturation\n",
      "WARNING:pystan:Chain 1: E-BFMI = 0.015\n",
      "WARNING:pystan:E-BFMI below 0.2 indicates you may need to reparameterize your model\n",
      "WARNING:pystan:1 of 4000 iterations ended with a divergence (0.025 %).\n",
      "WARNING:pystan:Try running with adapt_delta larger than 0.99 to remove the divergences.\n",
      "WARNING:pystan:4 of 4000 iterations saturated the maximum tree depth of 10 (0.1 %)\n",
      "WARNING:pystan:Run again with max_treedepth larger than 10 to avoid saturation\n",
      "WARNING:pystan:274 of 4000 iterations saturated the maximum tree depth of 10 (6.85 %)\n",
      "WARNING:pystan:Run again with max_treedepth larger than 10 to avoid saturation\n",
      "WARNING:pystan:n_eff / iter below 0.001 indicates that the effective sample size has likely been overestimated\n",
      "WARNING:pystan:Rhat above 1.1 or below 0.9 indicates that the chains very likely have not mixed\n",
      "WARNING:pystan:251 of 4000 iterations ended with a divergence (6.28 %).\n",
      "WARNING:pystan:Try running with adapt_delta larger than 0.99 to remove the divergences.\n",
      "WARNING:pystan:n_eff / iter below 0.001 indicates that the effective sample size has likely been overestimated\n",
      "WARNING:pystan:Rhat above 1.1 or below 0.9 indicates that the chains very likely have not mixed\n",
      "WARNING:pystan:361 of 4000 iterations ended with a divergence (9.03 %).\n",
      "WARNING:pystan:Try running with adapt_delta larger than 0.99 to remove the divergences.\n",
      "WARNING:pystan:Chain 2: E-BFMI = 0.0135\n",
      "WARNING:pystan:E-BFMI below 0.2 indicates you may need to reparameterize your model\n",
      "WARNING:pystan:1 of 4000 iterations ended with a divergence (0.025 %).\n",
      "WARNING:pystan:Try running with adapt_delta larger than 0.99 to remove the divergences.\n",
      "WARNING:pystan:Rhat above 1.1 or below 0.9 indicates that the chains very likely have not mixed\n",
      "WARNING:pystan:59 of 4000 iterations saturated the maximum tree depth of 10 (1.48 %)\n",
      "WARNING:pystan:Run again with max_treedepth larger than 10 to avoid saturation\n",
      "WARNING:pystan:n_eff / iter below 0.001 indicates that the effective sample size has likely been overestimated\n",
      "WARNING:pystan:Rhat above 1.1 or below 0.9 indicates that the chains very likely have not mixed\n",
      "WARNING:pystan:336 of 4000 iterations ended with a divergence (8.4 %).\n",
      "WARNING:pystan:Try running with adapt_delta larger than 0.99 to remove the divergences.\n",
      "WARNING:pystan:Chain 4: E-BFMI = 0.0699\n",
      "WARNING:pystan:E-BFMI below 0.2 indicates you may need to reparameterize your model\n",
      "WARNING:pystan:8 of 4000 iterations saturated the maximum tree depth of 10 (0.2 %)\n",
      "WARNING:pystan:Run again with max_treedepth larger than 10 to avoid saturation\n",
      "WARNING:pystan:Rhat above 1.1 or below 0.9 indicates that the chains very likely have not mixed\n",
      "WARNING:pystan:320 of 4000 iterations ended with a divergence (8 %).\n",
      "WARNING:pystan:Try running with adapt_delta larger than 0.99 to remove the divergences.\n",
      "WARNING:pystan:Chain 3: E-BFMI = 0.102\n",
      "WARNING:pystan:E-BFMI below 0.2 indicates you may need to reparameterize your model\n",
      "WARNING:pystan:160 of 4000 iterations ended with a divergence (4 %).\n",
      "WARNING:pystan:Try running with adapt_delta larger than 0.99 to remove the divergences.\n",
      "WARNING:pystan:32 of 4000 iterations saturated the maximum tree depth of 10 (0.8 %)\n",
      "WARNING:pystan:Run again with max_treedepth larger than 10 to avoid saturation\n",
      "WARNING:pystan:544 of 4000 iterations saturated the maximum tree depth of 10 (13.6 %)\n",
      "WARNING:pystan:Run again with max_treedepth larger than 10 to avoid saturation\n",
      "WARNING:pystan:n_eff / iter below 0.001 indicates that the effective sample size has likely been overestimated\n",
      "WARNING:pystan:Rhat above 1.1 or below 0.9 indicates that the chains very likely have not mixed\n",
      "WARNING:pystan:234 of 4000 iterations ended with a divergence (5.85 %).\n",
      "WARNING:pystan:Try running with adapt_delta larger than 0.99 to remove the divergences.\n",
      "WARNING:pystan:276 of 4000 iterations saturated the maximum tree depth of 10 (6.9 %)\n",
      "WARNING:pystan:Run again with max_treedepth larger than 10 to avoid saturation\n",
      "WARNING:pystan:Chain 1: E-BFMI = 0.00731\n",
      "WARNING:pystan:E-BFMI below 0.2 indicates you may need to reparameterize your model\n",
      "WARNING:pystan:4 of 4000 iterations ended with a divergence (0.1 %).\n",
      "WARNING:pystan:Try running with adapt_delta larger than 0.99 to remove the divergences.\n",
      "WARNING:pystan:n_eff / iter below 0.001 indicates that the effective sample size has likely been overestimated\n",
      "WARNING:pystan:Rhat above 1.1 or below 0.9 indicates that the chains very likely have not mixed\n",
      "WARNING:pystan:280 of 4000 iterations ended with a divergence (7 %).\n",
      "WARNING:pystan:Try running with adapt_delta larger than 0.99 to remove the divergences.\n",
      "WARNING:pystan:Rhat above 1.1 or below 0.9 indicates that the chains very likely have not mixed\n",
      "WARNING:pystan:n_eff / iter below 0.001 indicates that the effective sample size has likely been overestimated\n",
      "WARNING:pystan:Rhat above 1.1 or below 0.9 indicates that the chains very likely have not mixed\n",
      "WARNING:pystan:87 of 4000 iterations ended with a divergence (2.17 %).\n",
      "WARNING:pystan:Try running with adapt_delta larger than 0.99 to remove the divergences.\n",
      "WARNING:pystan:120 of 4000 iterations saturated the maximum tree depth of 10 (3 %)\n",
      "WARNING:pystan:Run again with max_treedepth larger than 10 to avoid saturation\n",
      "WARNING:pystan:Chain 3: E-BFMI = 0.0188\n",
      "WARNING:pystan:E-BFMI below 0.2 indicates you may need to reparameterize your model\n",
      "WARNING:pystan:4 of 4000 iterations ended with a divergence (0.1 %).\n",
      "WARNING:pystan:Try running with adapt_delta larger than 0.99 to remove the divergences.\n",
      "WARNING:pystan:24 of 4000 iterations saturated the maximum tree depth of 10 (0.6 %)\n",
      "WARNING:pystan:Run again with max_treedepth larger than 10 to avoid saturation\n",
      "WARNING:pystan:1 of 4000 iterations saturated the maximum tree depth of 10 (0.025 %)\n",
      "WARNING:pystan:Run again with max_treedepth larger than 10 to avoid saturation\n",
      "WARNING:pystan:192 of 4000 iterations saturated the maximum tree depth of 10 (4.8 %)\n",
      "WARNING:pystan:Run again with max_treedepth larger than 10 to avoid saturation\n",
      "WARNING:pystan:124 of 4000 iterations saturated the maximum tree depth of 10 (3.1 %)\n",
      "WARNING:pystan:Run again with max_treedepth larger than 10 to avoid saturation\n",
      "WARNING:pystan:13 of 4000 iterations saturated the maximum tree depth of 10 (0.325 %)\n",
      "WARNING:pystan:Run again with max_treedepth larger than 10 to avoid saturation\n",
      "WARNING:pystan:1 of 4000 iterations saturated the maximum tree depth of 10 (0.025 %)\n",
      "WARNING:pystan:Run again with max_treedepth larger than 10 to avoid saturation\n",
      "WARNING:pystan:n_eff / iter below 0.001 indicates that the effective sample size has likely been overestimated\n",
      "WARNING:pystan:Rhat above 1.1 or below 0.9 indicates that the chains very likely have not mixed\n",
      "WARNING:pystan:335 of 4000 iterations saturated the maximum tree depth of 10 (8.38 %)\n",
      "WARNING:pystan:Run again with max_treedepth larger than 10 to avoid saturation\n",
      "WARNING:pystan:n_eff / iter below 0.001 indicates that the effective sample size has likely been overestimated\n",
      "WARNING:pystan:Rhat above 1.1 or below 0.9 indicates that the chains very likely have not mixed\n",
      "WARNING:pystan:352 of 4000 iterations saturated the maximum tree depth of 10 (8.8 %)\n",
      "WARNING:pystan:Run again with max_treedepth larger than 10 to avoid saturation\n",
      "WARNING:pystan:n_eff / iter below 0.001 indicates that the effective sample size has likely been overestimated\n",
      "WARNING:pystan:Rhat above 1.1 or below 0.9 indicates that the chains very likely have not mixed\n",
      "WARNING:pystan:427 of 4000 iterations ended with a divergence (10.7 %).\n",
      "WARNING:pystan:Try running with adapt_delta larger than 0.99 to remove the divergences.\n",
      "WARNING:pystan:146 of 4000 iterations saturated the maximum tree depth of 10 (3.65 %)\n",
      "WARNING:pystan:Run again with max_treedepth larger than 10 to avoid saturation\n",
      "WARNING:pystan:Chain 2: E-BFMI = 0.181\n",
      "WARNING:pystan:E-BFMI below 0.2 indicates you may need to reparameterize your model\n",
      "WARNING:pystan:1 of 4000 iterations saturated the maximum tree depth of 10 (0.025 %)\n",
      "WARNING:pystan:Run again with max_treedepth larger than 10 to avoid saturation\n",
      "WARNING:pystan:n_eff / iter below 0.001 indicates that the effective sample size has likely been overestimated\n",
      "WARNING:pystan:Rhat above 1.1 or below 0.9 indicates that the chains very likely have not mixed\n",
      "WARNING:pystan:1044 of 4000 iterations ended with a divergence (26.1 %).\n",
      "WARNING:pystan:Try running with adapt_delta larger than 0.99 to remove the divergences.\n",
      "WARNING:pystan:Chain 2: E-BFMI = 0.119\n",
      "WARNING:pystan:Chain 3: E-BFMI = 0.106\n",
      "WARNING:pystan:Chain 4: E-BFMI = 0.0484\n",
      "WARNING:pystan:E-BFMI below 0.2 indicates you may need to reparameterize your model\n",
      "WARNING:pystan:n_eff / iter below 0.001 indicates that the effective sample size has likely been overestimated\n",
      "WARNING:pystan:Rhat above 1.1 or below 0.9 indicates that the chains very likely have not mixed\n",
      "WARNING:pystan:159 of 4000 iterations ended with a divergence (3.98 %).\n",
      "WARNING:pystan:Try running with adapt_delta larger than 0.99 to remove the divergences.\n",
      "WARNING:pystan:Chain 2: E-BFMI = 0.15\n",
      "WARNING:pystan:E-BFMI below 0.2 indicates you may need to reparameterize your model\n",
      "WARNING:pystan:Rhat above 1.1 or below 0.9 indicates that the chains very likely have not mixed\n",
      "WARNING:pystan:38 of 4000 iterations saturated the maximum tree depth of 10 (0.95 %)\n",
      "WARNING:pystan:Run again with max_treedepth larger than 10 to avoid saturation\n",
      "WARNING:pystan:n_eff / iter below 0.001 indicates that the effective sample size has likely been overestimated\n",
      "WARNING:pystan:Rhat above 1.1 or below 0.9 indicates that the chains very likely have not mixed\n",
      "WARNING:pystan:867 of 4000 iterations ended with a divergence (21.7 %).\n",
      "WARNING:pystan:Try running with adapt_delta larger than 0.99 to remove the divergences.\n",
      "WARNING:pystan:Chain 1: E-BFMI = 0.136\n",
      "WARNING:pystan:Chain 3: E-BFMI = 0.0894\n",
      "WARNING:pystan:E-BFMI below 0.2 indicates you may need to reparameterize your model\n",
      "WARNING:pystan:18 of 4000 iterations saturated the maximum tree depth of 10 (0.45 %)\n",
      "WARNING:pystan:Run again with max_treedepth larger than 10 to avoid saturation\n"
     ]
    }
   ],
   "source": [
    "#Fit model to all events, save them. \n",
    "#This will take a while\n",
    "#We will get some divergent transitions,warnings\n",
    "#But we're not expecting our model to fit every time series\n",
    "#That's \n",
    "import src.model_fit as srcmf\n",
    "diagnostics = []\n",
    "for idx in tqdm(range(events.shape[0])):\n",
    "    diagnostics.append(srcmf.fit_model(events.iloc[idx],model,keep=False))"
   ]
  },
  {
   "cell_type": "code",
   "execution_count": 9,
   "id": "19911e75",
   "metadata": {},
   "outputs": [
    {
     "data": {
      "application/vnd.jupyter.widget-view+json": {
       "model_id": "b9950b86851c45bf94c60707efd32a2a",
       "version_major": 2,
       "version_minor": 0
      },
      "text/plain": [
       "  0%|          | 0/266 [00:00<?, ?it/s]"
      ]
     },
     "metadata": {},
     "output_type": "display_data"
    },
    {
     "name": "stderr",
     "output_type": "stream",
     "text": [
      "WARNING:pystan:Rhat above 1.1 or below 0.9 indicates that the chains very likely have not mixed\n",
      "WARNING:pystan:29 of 4000 iterations saturated the maximum tree depth of 10 (0.725 %)\n",
      "WARNING:pystan:Run again with max_treedepth larger than 10 to avoid saturation\n",
      "WARNING:pystan:Chain 2: E-BFMI = 0.0759\n",
      "WARNING:pystan:Chain 3: E-BFMI = 0.105\n",
      "WARNING:pystan:E-BFMI below 0.2 indicates you may need to reparameterize your model\n"
     ]
    },
    {
     "name": "stdout",
     "output_type": "stream",
     "text": [
      "--------\n",
      "bad_statistics_1_event_0\n",
      "--------\n",
      "bad_statistics_3_event_0\n",
      "--------\n",
      "bad_statistics_3_event_1\n"
     ]
    },
    {
     "name": "stderr",
     "output_type": "stream",
     "text": [
      "WARNING:pystan:n_eff / iter below 0.001 indicates that the effective sample size has likely been overestimated\n",
      "WARNING:pystan:Rhat above 1.1 or below 0.9 indicates that the chains very likely have not mixed\n",
      "WARNING:pystan:381 of 4000 iterations ended with a divergence (9.53 %).\n",
      "WARNING:pystan:Try running with adapt_delta larger than 0.99 to remove the divergences.\n",
      "WARNING:pystan:Chain 1: E-BFMI = 0.0545\n",
      "WARNING:pystan:E-BFMI below 0.2 indicates you may need to reparameterize your model\n"
     ]
    },
    {
     "name": "stdout",
     "output_type": "stream",
     "text": [
      "--------\n",
      "bad_statistics_4_event_0\n",
      "--------\n",
      "bad_statistics_4_event_1\n",
      "--------\n",
      "bad_statistics_5_event_0\n",
      "--------\n",
      "bad_statistics_5_event_1\n"
     ]
    },
    {
     "name": "stderr",
     "output_type": "stream",
     "text": [
      "WARNING:pystan:22 of 4000 iterations saturated the maximum tree depth of 10 (0.55 %)\n",
      "WARNING:pystan:Run again with max_treedepth larger than 10 to avoid saturation\n"
     ]
    },
    {
     "name": "stdout",
     "output_type": "stream",
     "text": [
      "--------\n",
      "bad_statistics_6_event_0\n",
      "--------\n",
      "bad_statistics_7_event_0\n"
     ]
    },
    {
     "name": "stderr",
     "output_type": "stream",
     "text": [
      "WARNING:pystan:n_eff / iter below 0.001 indicates that the effective sample size has likely been overestimated\n",
      "WARNING:pystan:Rhat above 1.1 or below 0.9 indicates that the chains very likely have not mixed\n",
      "WARNING:pystan:233 of 4000 iterations ended with a divergence (5.83 %).\n",
      "WARNING:pystan:Try running with adapt_delta larger than 0.99 to remove the divergences.\n",
      "WARNING:pystan:145 of 4000 iterations saturated the maximum tree depth of 10 (3.62 %)\n",
      "WARNING:pystan:Run again with max_treedepth larger than 10 to avoid saturation\n",
      "WARNING:pystan:Chain 1: E-BFMI = 0.00758\n"
     ]
    },
    {
     "name": "stdout",
     "output_type": "stream",
     "text": [
      "--------\n",
      "bad_statistics_7_event_1\n",
      "--------\n",
      "ballot_box_issues_2_event_0\n"
     ]
    },
    {
     "name": "stderr",
     "output_type": "stream",
     "text": [
      "WARNING:pystan:Chain 2: E-BFMI = 0.00663\n",
      "WARNING:pystan:E-BFMI below 0.2 indicates you may need to reparameterize your model\n"
     ]
    },
    {
     "name": "stdout",
     "output_type": "stream",
     "text": [
      "--------\n",
      "ballot_box_issues_2_event_1\n",
      "--------\n",
      "ballot_box_issues_2_event_2\n",
      "--------\n",
      "ballot_chasers_1_event_0\n"
     ]
    },
    {
     "name": "stderr",
     "output_type": "stream",
     "text": [
      "WARNING:pystan:Rhat above 1.1 or below 0.9 indicates that the chains very likely have not mixed\n",
      "WARNING:pystan:222 of 4000 iterations saturated the maximum tree depth of 10 (5.55 %)\n",
      "WARNING:pystan:Run again with max_treedepth larger than 10 to avoid saturation\n"
     ]
    },
    {
     "name": "stdout",
     "output_type": "stream",
     "text": [
      "--------\n",
      "ballot_chasers_1_event_1\n",
      "--------\n",
      "ballot_counting_1_event_0\n",
      "--------\n",
      "ballot_counting_2_event_0\n",
      "--------\n",
      "ballot_dumping1_event_0\n",
      "--------\n",
      "ballot_dumping2_event_0\n",
      "--------\n",
      "ballot_dumping2_event_1\n"
     ]
    },
    {
     "name": "stderr",
     "output_type": "stream",
     "text": [
      "WARNING:pystan:1 of 4000 iterations ended with a divergence (0.025 %).\n",
      "WARNING:pystan:Try running with adapt_delta larger than 0.99 to remove the divergences.\n",
      "WARNING:pystan:Rhat above 1.1 or below 0.9 indicates that the chains very likely have not mixed\n",
      "WARNING:pystan:28 of 4000 iterations ended with a divergence (0.7 %).\n",
      "WARNING:pystan:Try running with adapt_delta larger than 0.99 to remove the divergences.\n"
     ]
    },
    {
     "name": "stdout",
     "output_type": "stream",
     "text": [
      "--------\n",
      "ballot_dumping3_event_0\n",
      "--------\n",
      "ballot_dumping3_event_1\n",
      "--------\n",
      "ballot_dumping3_event_2\n",
      "--------\n",
      "ballot_dumping4_event_0\n"
     ]
    },
    {
     "name": "stderr",
     "output_type": "stream",
     "text": [
      "WARNING:pystan:6 of 4000 iterations saturated the maximum tree depth of 10 (0.15 %)\n",
      "WARNING:pystan:Run again with max_treedepth larger than 10 to avoid saturation\n",
      "WARNING:pystan:2 of 4000 iterations saturated the maximum tree depth of 10 (0.05 %)\n",
      "WARNING:pystan:Run again with max_treedepth larger than 10 to avoid saturation\n"
     ]
    },
    {
     "name": "stdout",
     "output_type": "stream",
     "text": [
      "--------\n",
      "ballot_dumping4_event_1\n",
      "--------\n",
      "ballot_dumping5_event_0\n",
      "--------\n",
      "ballot_dumping5_event_1\n"
     ]
    },
    {
     "name": "stderr",
     "output_type": "stream",
     "text": [
      "WARNING:pystan:Rhat above 1.1 or below 0.9 indicates that the chains very likely have not mixed\n"
     ]
    },
    {
     "name": "stdout",
     "output_type": "stream",
     "text": [
      "--------\n",
      "ballot_dumping5_event_2\n",
      "--------\n",
      "ballot_dumping5_event_3\n",
      "--------\n",
      "ballot_dumping5_event_4\n"
     ]
    },
    {
     "name": "stderr",
     "output_type": "stream",
     "text": [
      "WARNING:pystan:2 of 4000 iterations saturated the maximum tree depth of 10 (0.05 %)\n",
      "WARNING:pystan:Run again with max_treedepth larger than 10 to avoid saturation\n"
     ]
    },
    {
     "name": "stdout",
     "output_type": "stream",
     "text": [
      "--------\n",
      "ballot_dumping6_event_0\n",
      "--------\n",
      "ballot_dumping6_event_1\n"
     ]
    },
    {
     "name": "stderr",
     "output_type": "stream",
     "text": [
      "WARNING:pystan:Rhat above 1.1 or below 0.9 indicates that the chains very likely have not mixed\n",
      "WARNING:pystan:157 of 4000 iterations ended with a divergence (3.92 %).\n",
      "WARNING:pystan:Try running with adapt_delta larger than 0.99 to remove the divergences.\n",
      "WARNING:pystan:Chain 1: E-BFMI = 0.00467\n",
      "WARNING:pystan:E-BFMI below 0.2 indicates you may need to reparameterize your model\n",
      "WARNING:pystan:8 of 4000 iterations saturated the maximum tree depth of 10 (0.2 %)\n",
      "WARNING:pystan:Run again with max_treedepth larger than 10 to avoid saturation\n"
     ]
    },
    {
     "name": "stdout",
     "output_type": "stream",
     "text": [
      "--------\n",
      "ballot_dumping6_event_2\n",
      "--------\n",
      "ballot_dumping_7_event_0\n",
      "--------\n",
      "ballot_dumping_7_event_1\n",
      "--------\n",
      "ballot_dumping_8_event_0\n",
      "--------\n",
      "ballot_dumping_8_event_1\n",
      "--------\n",
      "ballot_dumping_8_event_2\n",
      "--------\n",
      "ballot_dumping_8_event_3\n",
      "--------\n",
      "ballot_dumping_8_event_4\n",
      "--------\n",
      "ballot_dumping_8_event_5\n",
      "--------\n",
      "ballot_harvesting_1_event_0\n",
      "--------\n",
      "ballot_harvesting2_event_0\n",
      "--------\n",
      "ballot_harvesting2_event_1\n"
     ]
    },
    {
     "name": "stderr",
     "output_type": "stream",
     "text": [
      "WARNING:pystan:n_eff / iter below 0.001 indicates that the effective sample size has likely been overestimated\n",
      "WARNING:pystan:Rhat above 1.1 or below 0.9 indicates that the chains very likely have not mixed\n",
      "WARNING:pystan:202 of 4000 iterations ended with a divergence (5.05 %).\n",
      "WARNING:pystan:Try running with adapt_delta larger than 0.99 to remove the divergences.\n",
      "WARNING:pystan:544 of 4000 iterations saturated the maximum tree depth of 10 (13.6 %)\n",
      "WARNING:pystan:Run again with max_treedepth larger than 10 to avoid saturation\n",
      "WARNING:pystan:Chain 2: E-BFMI = 0.0864\n",
      "WARNING:pystan:E-BFMI below 0.2 indicates you may need to reparameterize your model\n"
     ]
    },
    {
     "name": "stdout",
     "output_type": "stream",
     "text": [
      "--------\n",
      "ballot_harvesting_3_event_0\n",
      "--------\n",
      "ballot_signatures_1_event_0\n"
     ]
    },
    {
     "name": "stderr",
     "output_type": "stream",
     "text": [
      "WARNING:pystan:4 of 4000 iterations saturated the maximum tree depth of 10 (0.1 %)\n",
      "WARNING:pystan:Run again with max_treedepth larger than 10 to avoid saturation\n",
      "WARNING:pystan:1 of 4000 iterations ended with a divergence (0.025 %).\n",
      "WARNING:pystan:Try running with adapt_delta larger than 0.99 to remove the divergences.\n",
      "WARNING:pystan:Rhat above 1.1 or below 0.9 indicates that the chains very likely have not mixed\n",
      "WARNING:pystan:35 of 4000 iterations saturated the maximum tree depth of 10 (0.875 %)\n",
      "WARNING:pystan:Run again with max_treedepth larger than 10 to avoid saturation\n"
     ]
    },
    {
     "name": "stdout",
     "output_type": "stream",
     "text": [
      "--------\n",
      "ballot_signatures_1_event_1\n",
      "--------\n",
      "ballot_signatures_1_event_2\n",
      "--------\n",
      "ballot_signatures_2_event_0\n",
      "--------\n",
      "ballot_stuffing_1_event_0\n",
      "--------\n",
      "Biden_clip_saying_he_does_fraud_1_event_0\n"
     ]
    },
    {
     "name": "stderr",
     "output_type": "stream",
     "text": [
      "WARNING:pystan:n_eff / iter below 0.001 indicates that the effective sample size has likely been overestimated\n"
     ]
    },
    {
     "name": "stdout",
     "output_type": "stream",
     "text": [
      "--------\n",
      "cancelled_ballot_1_event_0\n",
      "--------\n",
      "cancelled_ballot_1_event_1\n",
      "--------\n",
      "chinese_ballots_1_event_0\n"
     ]
    },
    {
     "name": "stderr",
     "output_type": "stream",
     "text": [
      "WARNING:pystan:Rhat above 1.1 or below 0.9 indicates that the chains very likely have not mixed\n",
      "WARNING:pystan:104 of 4000 iterations ended with a divergence (2.6 %).\n",
      "WARNING:pystan:Try running with adapt_delta larger than 0.99 to remove the divergences.\n",
      "WARNING:pystan:96 of 4000 iterations saturated the maximum tree depth of 10 (2.4 %)\n",
      "WARNING:pystan:Run again with max_treedepth larger than 10 to avoid saturation\n",
      "WARNING:pystan:n_eff / iter below 0.001 indicates that the effective sample size has likely been overestimated\n",
      "WARNING:pystan:Rhat above 1.1 or below 0.9 indicates that the chains very likely have not mixed\n",
      "WARNING:pystan:229 of 4000 iterations ended with a divergence (5.72 %).\n",
      "WARNING:pystan:Try running with adapt_delta larger than 0.99 to remove the divergences.\n",
      "WARNING:pystan:597 of 4000 iterations saturated the maximum tree depth of 10 (14.9 %)\n",
      "WARNING:pystan:Run again with max_treedepth larger than 10 to avoid saturation\n",
      "WARNING:pystan:Chain 1: E-BFMI = 0.09\n",
      "WARNING:pystan:E-BFMI below 0.2 indicates you may need to reparameterize your model\n"
     ]
    },
    {
     "name": "stdout",
     "output_type": "stream",
     "text": [
      "--------\n",
      "chinese_ballots_1_event_1\n",
      "--------\n",
      "color_revolution_1_event_0\n",
      "--------\n",
      "color_revolution_1_event_1\n",
      "--------\n",
      "color_revolution_1_event_2\n"
     ]
    },
    {
     "name": "stderr",
     "output_type": "stream",
     "text": [
      "WARNING:pystan:Rhat above 1.1 or below 0.9 indicates that the chains very likely have not mixed\n"
     ]
    },
    {
     "name": "stdout",
     "output_type": "stream",
     "text": [
      "--------\n",
      "color_revolution_1_event_3\n",
      "--------\n",
      "color_revolution_1_event_4\n",
      "--------\n",
      "color_revolution_1_event_5\n",
      "--------\n",
      "color_revolution_1_event_6\n",
      "--------\n",
      "color_revolution_1_event_7\n",
      "--------\n",
      "color_revolution_1_event_8\n",
      "--------\n",
      "color_revolution_1_event_9\n",
      "--------\n",
      "color_revolution_1_event_10\n",
      "--------\n",
      "color_revolution_1_event_11\n",
      "--------\n",
      "color_revolution_1_event_12\n",
      "--------\n",
      "coup_1_event_0\n",
      "--------\n",
      "coup_1_event_1\n",
      "--------\n",
      "coup_1_event_2\n"
     ]
    },
    {
     "name": "stderr",
     "output_type": "stream",
     "text": [
      "WARNING:pystan:Rhat above 1.1 or below 0.9 indicates that the chains very likely have not mixed\n",
      "WARNING:pystan:36 of 4000 iterations saturated the maximum tree depth of 10 (0.9 %)\n",
      "WARNING:pystan:Run again with max_treedepth larger than 10 to avoid saturation\n"
     ]
    },
    {
     "name": "stdout",
     "output_type": "stream",
     "text": [
      "--------\n",
      "dead_voters_1_event_0\n",
      "--------\n",
      "dead_voters_3_event_0\n"
     ]
    },
    {
     "name": "stderr",
     "output_type": "stream",
     "text": [
      "WARNING:pystan:5 of 4000 iterations ended with a divergence (0.125 %).\n",
      "WARNING:pystan:Try running with adapt_delta larger than 0.99 to remove the divergences.\n"
     ]
    },
    {
     "name": "stdout",
     "output_type": "stream",
     "text": [
      "--------\n",
      "dead_voters_4_event_0\n",
      "--------\n",
      "dead_voters_4_event_1\n",
      "--------\n",
      "dead_voters_4_event_2\n"
     ]
    },
    {
     "name": "stderr",
     "output_type": "stream",
     "text": [
      "WARNING:pystan:Rhat above 1.1 or below 0.9 indicates that the chains very likely have not mixed\n",
      "WARNING:pystan:7 of 4000 iterations saturated the maximum tree depth of 10 (0.175 %)\n",
      "WARNING:pystan:Run again with max_treedepth larger than 10 to avoid saturation\n"
     ]
    },
    {
     "name": "stdout",
     "output_type": "stream",
     "text": [
      "--------\n",
      "dead_voters_4_event_3\n",
      "--------\n",
      "dead_voters_4_event_4\n",
      "--------\n",
      "dead_voters_4_event_5\n",
      "--------\n",
      "dead_voters_6_event_0\n",
      "--------\n",
      "destroyed_ballots_1_event_0\n",
      "--------\n",
      "destroyed_ballots_2_event_0\n",
      "--------\n",
      "dhs_watermarks_1_event_0\n",
      "--------\n",
      "drive-through_voting_1_event_0\n"
     ]
    },
    {
     "name": "stderr",
     "output_type": "stream",
     "text": [
      "WARNING:pystan:Rhat above 1.1 or below 0.9 indicates that the chains very likely have not mixed\n"
     ]
    },
    {
     "name": "stdout",
     "output_type": "stream",
     "text": [
      "--------\n",
      "drive-through_voting_1_event_1\n",
      "--------\n",
      "fake_IDs_1_event_0\n"
     ]
    },
    {
     "name": "stderr",
     "output_type": "stream",
     "text": [
      "WARNING:pystan:n_eff / iter below 0.001 indicates that the effective sample size has likely been overestimated\n",
      "WARNING:pystan:Rhat above 1.1 or below 0.9 indicates that the chains very likely have not mixed\n",
      "WARNING:pystan:516 of 4000 iterations ended with a divergence (12.9 %).\n",
      "WARNING:pystan:Try running with adapt_delta larger than 0.99 to remove the divergences.\n"
     ]
    },
    {
     "name": "stdout",
     "output_type": "stream",
     "text": [
      "--------\n",
      "fake_IDs_1_event_1\n",
      "--------\n",
      "fake_IDs_1_event_2\n"
     ]
    },
    {
     "name": "stderr",
     "output_type": "stream",
     "text": [
      "WARNING:pystan:n_eff / iter below 0.001 indicates that the effective sample size has likely been overestimated\n",
      "WARNING:pystan:Rhat above 1.1 or below 0.9 indicates that the chains very likely have not mixed\n",
      "WARNING:pystan:42 of 4000 iterations saturated the maximum tree depth of 10 (1.05 %)\n",
      "WARNING:pystan:Run again with max_treedepth larger than 10 to avoid saturation\n"
     ]
    },
    {
     "name": "stdout",
     "output_type": "stream",
     "text": [
      "--------\n",
      "fake_IDs_1_event_3\n",
      "--------\n",
      "fake_IDs_1_event_4\n"
     ]
    },
    {
     "name": "stderr",
     "output_type": "stream",
     "text": [
      "WARNING:pystan:8 of 4000 iterations saturated the maximum tree depth of 10 (0.2 %)\n",
      "WARNING:pystan:Run again with max_treedepth larger than 10 to avoid saturation\n"
     ]
    },
    {
     "name": "stdout",
     "output_type": "stream",
     "text": [
      "--------\n",
      "granny_farming_1_event_0\n",
      "--------\n",
      "granny_farming_1_event_1\n",
      "--------\n",
      "granny_farming_1_event_2\n",
      "--------\n",
      "hacks_1_event_0\n",
      "--------\n",
      "hacks_2_event_0\n"
     ]
    },
    {
     "name": "stderr",
     "output_type": "stream",
     "text": [
      "WARNING:pystan:11 of 4000 iterations ended with a divergence (0.275 %).\n",
      "WARNING:pystan:Try running with adapt_delta larger than 0.99 to remove the divergences.\n",
      "WARNING:pystan:66 of 4000 iterations saturated the maximum tree depth of 10 (1.65 %)\n",
      "WARNING:pystan:Run again with max_treedepth larger than 10 to avoid saturation\n"
     ]
    },
    {
     "name": "stdout",
     "output_type": "stream",
     "text": [
      "--------\n",
      "hacks_2_event_1\n",
      "--------\n",
      "hacks_2_event_2\n"
     ]
    },
    {
     "name": "stderr",
     "output_type": "stream",
     "text": [
      "WARNING:pystan:49 of 4000 iterations saturated the maximum tree depth of 10 (1.23 %)\n",
      "WARNING:pystan:Run again with max_treedepth larger than 10 to avoid saturation\n"
     ]
    },
    {
     "name": "stdout",
     "output_type": "stream",
     "text": [
      "--------\n",
      "hacks_2_event_3\n",
      "--------\n",
      "hacks_2_event_4\n",
      "--------\n",
      "hacks_2_event_5\n",
      "--------\n",
      "hacks_2_event_6\n",
      "--------\n",
      "hacks_2_event_7\n",
      "--------\n",
      "Hammer_and_scorecard_1_event_0\n",
      "--------\n",
      "Hammer_and_scorecard_1_event_1\n",
      "--------\n",
      "i_did_fraud_1_event_0\n",
      "--------\n",
      "i_did_fraud_1_event_1\n",
      "--------\n",
      "incorrect_voting_info_1_event_0\n"
     ]
    },
    {
     "name": "stderr",
     "output_type": "stream",
     "text": [
      "WARNING:pystan:n_eff / iter below 0.001 indicates that the effective sample size has likely been overestimated\n",
      "WARNING:pystan:Rhat above 1.1 or below 0.9 indicates that the chains very likely have not mixed\n",
      "WARNING:pystan:405 of 4000 iterations ended with a divergence (10.1 %).\n",
      "WARNING:pystan:Try running with adapt_delta larger than 0.99 to remove the divergences.\n",
      "WARNING:pystan:274 of 4000 iterations saturated the maximum tree depth of 10 (6.85 %)\n",
      "WARNING:pystan:Run again with max_treedepth larger than 10 to avoid saturation\n",
      "WARNING:pystan:Chain 1: E-BFMI = 0.015\n",
      "WARNING:pystan:E-BFMI below 0.2 indicates you may need to reparameterize your model\n"
     ]
    },
    {
     "name": "stdout",
     "output_type": "stream",
     "text": [
      "--------\n",
      "incorrect_voting_info_1_event_1\n",
      "--------\n",
      "intimidation_1_event_0\n",
      "--------\n",
      "intimidation_2_event_0\n",
      "--------\n",
      "intimidation_3_event_0\n"
     ]
    },
    {
     "name": "stderr",
     "output_type": "stream",
     "text": [
      "WARNING:pystan:1 of 4000 iterations ended with a divergence (0.025 %).\n",
      "WARNING:pystan:Try running with adapt_delta larger than 0.99 to remove the divergences.\n"
     ]
    },
    {
     "name": "stdout",
     "output_type": "stream",
     "text": [
      "--------\n",
      "intimidation_3_event_1\n",
      "--------\n",
      "intimidation_5_event_0\n",
      "--------\n",
      "intimidation_6_event_0\n",
      "--------\n",
      "intimidation_6_event_1\n",
      "--------\n",
      "intimidation_7_event_0\n",
      "--------\n",
      "intimidation_8_event_0\n"
     ]
    },
    {
     "name": "stderr",
     "output_type": "stream",
     "text": [
      "WARNING:pystan:4 of 4000 iterations saturated the maximum tree depth of 10 (0.1 %)\n",
      "WARNING:pystan:Run again with max_treedepth larger than 10 to avoid saturation\n"
     ]
    },
    {
     "name": "stdout",
     "output_type": "stream",
     "text": [
      "--------\n",
      "intimidation_8_event_1\n",
      "--------\n",
      "intimidation_8_event_2\n",
      "--------\n",
      "intimidation_8_event_3\n",
      "--------\n",
      "intimidation_8_event_4\n"
     ]
    },
    {
     "name": "stderr",
     "output_type": "stream",
     "text": [
      "WARNING:pystan:274 of 4000 iterations saturated the maximum tree depth of 10 (6.85 %)\n",
      "WARNING:pystan:Run again with max_treedepth larger than 10 to avoid saturation\n"
     ]
    },
    {
     "name": "stdout",
     "output_type": "stream",
     "text": [
      "--------\n",
      "late_ballots_1_event_0\n",
      "--------\n",
      "late_ballots_2_event_0\n",
      "--------\n",
      "late_ballots_2_event_1\n",
      "--------\n",
      "late_ballots_3_event_0\n",
      "--------\n",
      "late_ballots_3_event_1\n",
      "--------\n",
      "livestream_1_event_0\n",
      "--------\n",
      "livestream_1_event_1\n",
      "--------\n",
      "livestream_1_event_2\n",
      "--------\n",
      "livestream_1_event_3\n",
      "--------\n",
      "mail-in_voting_1_event_0\n",
      "--------\n",
      "mail-in_voting_1_event_1\n",
      "--------\n",
      "misprinted_ballots_1_event_0\n",
      "--------\n",
      "misprinted_ballots_2_event_0\n",
      "--------\n",
      "misprinted_ballots_2_event_1\n",
      "--------\n",
      "misprinted_ballots_2_event_2\n"
     ]
    },
    {
     "name": "stderr",
     "output_type": "stream",
     "text": [
      "WARNING:pystan:n_eff / iter below 0.001 indicates that the effective sample size has likely been overestimated\n",
      "WARNING:pystan:Rhat above 1.1 or below 0.9 indicates that the chains very likely have not mixed\n",
      "WARNING:pystan:251 of 4000 iterations ended with a divergence (6.28 %).\n",
      "WARNING:pystan:Try running with adapt_delta larger than 0.99 to remove the divergences.\n"
     ]
    },
    {
     "name": "stdout",
     "output_type": "stream",
     "text": [
      "--------\n",
      "misprinted_ballots_3_event_0\n",
      "--------\n",
      "misprinted_ballots_3_event_1\n",
      "--------\n",
      "misprinted_ballots_3_event_2\n",
      "--------\n",
      "missing_found_ballots_1_event_0\n",
      "--------\n",
      "missing_found_ballots_1_event_1\n",
      "--------\n",
      "missing_found_ballots_2_event_0\n",
      "--------\n",
      "missing_found_ballots_3_event_0\n",
      "--------\n",
      "missing_found_ballots_4_event_0\n",
      "--------\n",
      "missing_found_ballots_4_event_1\n",
      "--------\n",
      "missing_found_ballots_4_event_2\n",
      "--------\n",
      "missing_found_ballots_4_event_3\n",
      "--------\n",
      "missing_found_ballots_5_event_0\n",
      "--------\n",
      "missing_found_ballots_5_event_1\n",
      "--------\n",
      "more_votes_than_registered_1_event_0\n",
      "--------\n",
      "out_of_context_content_2_event_0\n",
      "--------\n",
      "out_of_context_content_3_event_0\n",
      "--------\n",
      "out_of_context_content_3_event_1\n",
      "--------\n",
      "out_of_context_content_4_event_0\n",
      "--------\n",
      "partisan_counting_1_event_0\n"
     ]
    },
    {
     "name": "stderr",
     "output_type": "stream",
     "text": [
      "WARNING:pystan:n_eff / iter below 0.001 indicates that the effective sample size has likely been overestimated\n",
      "WARNING:pystan:Rhat above 1.1 or below 0.9 indicates that the chains very likely have not mixed\n",
      "WARNING:pystan:361 of 4000 iterations ended with a divergence (9.03 %).\n",
      "WARNING:pystan:Try running with adapt_delta larger than 0.99 to remove the divergences.\n"
     ]
    },
    {
     "name": "stdout",
     "output_type": "stream",
     "text": [
      "--------\n",
      "partisan_counting_2_event_0\n",
      "--------\n",
      "partisan_counting_3_event_0\n"
     ]
    },
    {
     "name": "stderr",
     "output_type": "stream",
     "text": [
      "WARNING:pystan:Chain 2: E-BFMI = 0.0135\n",
      "WARNING:pystan:E-BFMI below 0.2 indicates you may need to reparameterize your model\n"
     ]
    },
    {
     "name": "stdout",
     "output_type": "stream",
     "text": [
      "--------\n",
      "partisan_counting_4_event_0\n",
      "--------\n",
      "partisan_counting_4_event_1\n",
      "--------\n",
      "partisanship_at_polling_places_1_event_0\n",
      "--------\n",
      "partisanship_at_polling_places_1_event_1\n",
      "--------\n",
      "partisanship_at_polling_places_2_event_0\n"
     ]
    },
    {
     "name": "stderr",
     "output_type": "stream",
     "text": [
      "WARNING:pystan:1 of 4000 iterations ended with a divergence (0.025 %).\n",
      "WARNING:pystan:Try running with adapt_delta larger than 0.99 to remove the divergences.\n"
     ]
    },
    {
     "name": "stdout",
     "output_type": "stream",
     "text": [
      "--------\n",
      "partisanship_at_polling_places_3_event_0\n",
      "--------\n",
      "polling_stations_1_event_0\n",
      "--------\n",
      "polling_stations_1_event_1\n",
      "--------\n",
      "poll_watchers_1_event_0\n",
      "--------\n",
      "poll_watchers_10_event_0\n"
     ]
    },
    {
     "name": "stderr",
     "output_type": "stream",
     "text": [
      "WARNING:pystan:Rhat above 1.1 or below 0.9 indicates that the chains very likely have not mixed\n",
      "WARNING:pystan:59 of 4000 iterations saturated the maximum tree depth of 10 (1.48 %)\n",
      "WARNING:pystan:Run again with max_treedepth larger than 10 to avoid saturation\n"
     ]
    },
    {
     "name": "stdout",
     "output_type": "stream",
     "text": [
      "--------\n",
      "poll_watchers_2_event_0\n",
      "--------\n",
      "poll_watchers_2_event_1\n"
     ]
    },
    {
     "name": "stderr",
     "output_type": "stream",
     "text": [
      "WARNING:pystan:n_eff / iter below 0.001 indicates that the effective sample size has likely been overestimated\n",
      "WARNING:pystan:Rhat above 1.1 or below 0.9 indicates that the chains very likely have not mixed\n",
      "WARNING:pystan:336 of 4000 iterations ended with a divergence (8.4 %).\n",
      "WARNING:pystan:Try running with adapt_delta larger than 0.99 to remove the divergences.\n",
      "WARNING:pystan:Chain 4: E-BFMI = 0.0699\n",
      "WARNING:pystan:E-BFMI below 0.2 indicates you may need to reparameterize your model\n"
     ]
    },
    {
     "name": "stdout",
     "output_type": "stream",
     "text": [
      "--------\n",
      "poll_watchers_2_event_2\n",
      "--------\n",
      "poll_watchers_3_event_0\n",
      "--------\n",
      "poll_watchers_4_event_0\n"
     ]
    },
    {
     "name": "stderr",
     "output_type": "stream",
     "text": [
      "WARNING:pystan:8 of 4000 iterations saturated the maximum tree depth of 10 (0.2 %)\n",
      "WARNING:pystan:Run again with max_treedepth larger than 10 to avoid saturation\n"
     ]
    },
    {
     "name": "stdout",
     "output_type": "stream",
     "text": [
      "--------\n",
      "poll_watchers_5_event_0\n",
      "--------\n",
      "poll_watchers_5_event_1\n"
     ]
    },
    {
     "name": "stderr",
     "output_type": "stream",
     "text": [
      "WARNING:pystan:Rhat above 1.1 or below 0.9 indicates that the chains very likely have not mixed\n",
      "WARNING:pystan:320 of 4000 iterations ended with a divergence (8 %).\n",
      "WARNING:pystan:Try running with adapt_delta larger than 0.99 to remove the divergences.\n"
     ]
    },
    {
     "name": "stdout",
     "output_type": "stream",
     "text": [
      "--------\n",
      "poll_watchers_5_event_2\n",
      "--------\n",
      "poll_watchers_6_event_0\n"
     ]
    },
    {
     "name": "stderr",
     "output_type": "stream",
     "text": [
      "WARNING:pystan:Chain 3: E-BFMI = 0.102\n",
      "WARNING:pystan:E-BFMI below 0.2 indicates you may need to reparameterize your model\n",
      "WARNING:pystan:160 of 4000 iterations ended with a divergence (4 %).\n",
      "WARNING:pystan:Try running with adapt_delta larger than 0.99 to remove the divergences.\n",
      "WARNING:pystan:32 of 4000 iterations saturated the maximum tree depth of 10 (0.8 %)\n",
      "WARNING:pystan:Run again with max_treedepth larger than 10 to avoid saturation\n"
     ]
    },
    {
     "name": "stdout",
     "output_type": "stream",
     "text": [
      "--------\n",
      "poll_watchers_7_event_0\n",
      "--------\n",
      "poll_watchers_8_event_0\n",
      "--------\n",
      "poll_watchers_9_event_0\n",
      "--------\n",
      "pre-filled_ballots_1_event_0\n"
     ]
    },
    {
     "name": "stderr",
     "output_type": "stream",
     "text": [
      "WARNING:pystan:544 of 4000 iterations saturated the maximum tree depth of 10 (13.6 %)\n",
      "WARNING:pystan:Run again with max_treedepth larger than 10 to avoid saturation\n"
     ]
    },
    {
     "name": "stdout",
     "output_type": "stream",
     "text": [
      "--------\n",
      "premature_victory_2_event_0\n",
      "--------\n",
      "premature_victory_2_event_1\n",
      "--------\n",
      "premature_victory_3_event_0\n",
      "--------\n",
      "premature_victory_4_event_0\n"
     ]
    },
    {
     "name": "stderr",
     "output_type": "stream",
     "text": [
      "WARNING:pystan:n_eff / iter below 0.001 indicates that the effective sample size has likely been overestimated\n",
      "WARNING:pystan:Rhat above 1.1 or below 0.9 indicates that the chains very likely have not mixed\n",
      "WARNING:pystan:234 of 4000 iterations ended with a divergence (5.85 %).\n",
      "WARNING:pystan:Try running with adapt_delta larger than 0.99 to remove the divergences.\n",
      "WARNING:pystan:276 of 4000 iterations saturated the maximum tree depth of 10 (6.9 %)\n",
      "WARNING:pystan:Run again with max_treedepth larger than 10 to avoid saturation\n",
      "WARNING:pystan:Chain 1: E-BFMI = 0.00731\n",
      "WARNING:pystan:E-BFMI below 0.2 indicates you may need to reparameterize your model\n"
     ]
    },
    {
     "name": "stdout",
     "output_type": "stream",
     "text": [
      "--------\n",
      "premature_victory_5_event_0\n",
      "--------\n",
      "premature_victory_6_event_0\n",
      "--------\n",
      "protests1_event_0\n",
      "--------\n",
      "protests_2_event_0\n",
      "--------\n",
      "protests_3_event_0\n"
     ]
    },
    {
     "name": "stderr",
     "output_type": "stream",
     "text": [
      "WARNING:pystan:4 of 4000 iterations ended with a divergence (0.1 %).\n",
      "WARNING:pystan:Try running with adapt_delta larger than 0.99 to remove the divergences.\n"
     ]
    },
    {
     "name": "stdout",
     "output_type": "stream",
     "text": [
      "--------\n",
      "rejection_rates_1_event_0\n",
      "--------\n",
      "rejection_rates_2_event_0\n"
     ]
    },
    {
     "name": "stderr",
     "output_type": "stream",
     "text": [
      "WARNING:pystan:n_eff / iter below 0.001 indicates that the effective sample size has likely been overestimated\n",
      "WARNING:pystan:Rhat above 1.1 or below 0.9 indicates that the chains very likely have not mixed\n",
      "WARNING:pystan:280 of 4000 iterations ended with a divergence (7 %).\n",
      "WARNING:pystan:Try running with adapt_delta larger than 0.99 to remove the divergences.\n"
     ]
    },
    {
     "name": "stdout",
     "output_type": "stream",
     "text": [
      "--------\n",
      "rejection_rates_2_event_1\n",
      "--------\n",
      "rejection_rates_2_event_2\n"
     ]
    },
    {
     "name": "stderr",
     "output_type": "stream",
     "text": [
      "WARNING:pystan:Rhat above 1.1 or below 0.9 indicates that the chains very likely have not mixed\n"
     ]
    },
    {
     "name": "stdout",
     "output_type": "stream",
     "text": [
      "--------\n",
      "rejection_rates_2_event_3\n",
      "--------\n",
      "resident_fraud_1_event_0\n",
      "--------\n",
      "resident_fraud_2_event_0\n"
     ]
    },
    {
     "name": "stderr",
     "output_type": "stream",
     "text": [
      "WARNING:pystan:n_eff / iter below 0.001 indicates that the effective sample size has likely been overestimated\n",
      "WARNING:pystan:Rhat above 1.1 or below 0.9 indicates that the chains very likely have not mixed\n",
      "WARNING:pystan:87 of 4000 iterations ended with a divergence (2.17 %).\n",
      "WARNING:pystan:Try running with adapt_delta larger than 0.99 to remove the divergences.\n",
      "WARNING:pystan:120 of 4000 iterations saturated the maximum tree depth of 10 (3 %)\n",
      "WARNING:pystan:Run again with max_treedepth larger than 10 to avoid saturation\n",
      "WARNING:pystan:Chain 3: E-BFMI = 0.0188\n",
      "WARNING:pystan:E-BFMI below 0.2 indicates you may need to reparameterize your model\n"
     ]
    },
    {
     "name": "stdout",
     "output_type": "stream",
     "text": [
      "--------\n",
      "sharpiegate_1_event_0\n"
     ]
    },
    {
     "name": "stderr",
     "output_type": "stream",
     "text": [
      "WARNING:pystan:4 of 4000 iterations ended with a divergence (0.1 %).\n",
      "WARNING:pystan:Try running with adapt_delta larger than 0.99 to remove the divergences.\n"
     ]
    },
    {
     "name": "stdout",
     "output_type": "stream",
     "text": [
      "--------\n",
      "shredded_ballot_applications_1_event_0\n",
      "--------\n",
      "shredded_ballot_applications1_event_0\n"
     ]
    },
    {
     "name": "stderr",
     "output_type": "stream",
     "text": [
      "WARNING:pystan:24 of 4000 iterations saturated the maximum tree depth of 10 (0.6 %)\n",
      "WARNING:pystan:Run again with max_treedepth larger than 10 to avoid saturation\n"
     ]
    },
    {
     "name": "stdout",
     "output_type": "stream",
     "text": [
      "--------\n",
      "stolen_ballots1_event_0\n",
      "--------\n",
      "stolen_ballots2_event_0\n",
      "--------\n",
      "stolen_ballots2_event_1\n",
      "--------\n",
      "stolen_ballots3_event_0\n",
      "--------\n",
      "stolen_ballots3_event_1\n",
      "--------\n",
      "stolen_ballots4_event_0\n",
      "--------\n",
      "stolen_polling_materials1_event_0\n",
      "--------\n",
      "stolen_polling_materials1_event_1\n",
      "--------\n",
      "stopthesteal_1_event_0\n"
     ]
    },
    {
     "name": "stderr",
     "output_type": "stream",
     "text": [
      "WARNING:pystan:1 of 4000 iterations saturated the maximum tree depth of 10 (0.025 %)\n",
      "WARNING:pystan:Run again with max_treedepth larger than 10 to avoid saturation\n"
     ]
    },
    {
     "name": "stdout",
     "output_type": "stream",
     "text": [
      "--------\n",
      "texas_political_director_fraud1_event_0\n",
      "--------\n",
      "texas_political_director_fraud1_event_1\n",
      "--------\n",
      "texas_political_director_fraud1_event_2\n"
     ]
    },
    {
     "name": "stderr",
     "output_type": "stream",
     "text": [
      "WARNING:pystan:192 of 4000 iterations saturated the maximum tree depth of 10 (4.8 %)\n",
      "WARNING:pystan:Run again with max_treedepth larger than 10 to avoid saturation\n"
     ]
    },
    {
     "name": "stdout",
     "output_type": "stream",
     "text": [
      "--------\n",
      "Trump_delegtimization_1_event_0\n",
      "--------\n",
      "Trump_delegtimization_3_event_0\n",
      "--------\n",
      "urban_playbook_1_event_0\n",
      "--------\n",
      "usps_missing_ballots_1_event_0\n",
      "--------\n",
      "vague_fraud_1_event_0\n",
      "--------\n",
      "vague_fraud_1_event_1\n"
     ]
    },
    {
     "name": "stderr",
     "output_type": "stream",
     "text": [
      "WARNING:pystan:124 of 4000 iterations saturated the maximum tree depth of 10 (3.1 %)\n",
      "WARNING:pystan:Run again with max_treedepth larger than 10 to avoid saturation\n",
      "WARNING:pystan:13 of 4000 iterations saturated the maximum tree depth of 10 (0.325 %)\n",
      "WARNING:pystan:Run again with max_treedepth larger than 10 to avoid saturation\n"
     ]
    },
    {
     "name": "stdout",
     "output_type": "stream",
     "text": [
      "--------\n",
      "violence_at_polling_place_1_event_0\n",
      "--------\n",
      "violence_at_polling_place_2_event_0\n",
      "--------\n",
      "vote_buying1_event_0\n",
      "--------\n",
      "vote_buying1_event_1\n",
      "--------\n",
      "vote_buying2_event_0\n"
     ]
    },
    {
     "name": "stderr",
     "output_type": "stream",
     "text": [
      "WARNING:pystan:1 of 4000 iterations saturated the maximum tree depth of 10 (0.025 %)\n",
      "WARNING:pystan:Run again with max_treedepth larger than 10 to avoid saturation\n"
     ]
    },
    {
     "name": "stdout",
     "output_type": "stream",
     "text": [
      "--------\n",
      "vote_changing1_event_0\n",
      "--------\n",
      "vote_counting_videos_1_event_0\n"
     ]
    },
    {
     "name": "stderr",
     "output_type": "stream",
     "text": [
      "WARNING:pystan:n_eff / iter below 0.001 indicates that the effective sample size has likely been overestimated\n",
      "WARNING:pystan:Rhat above 1.1 or below 0.9 indicates that the chains very likely have not mixed\n",
      "WARNING:pystan:335 of 4000 iterations saturated the maximum tree depth of 10 (8.38 %)\n",
      "WARNING:pystan:Run again with max_treedepth larger than 10 to avoid saturation\n"
     ]
    },
    {
     "name": "stdout",
     "output_type": "stream",
     "text": [
      "--------\n",
      "vote_counting_videos_1_event_1\n",
      "--------\n",
      "vote_counting_videos_2_event_0\n",
      "--------\n",
      "vote_counting_videos_3_event_0\n",
      "--------\n",
      "vote_counting_videos_3_event_1\n",
      "--------\n",
      "vote_counting_videos_4_event_0\n",
      "--------\n",
      "vote_counting_videos_5_event_0\n",
      "--------\n",
      "vote_counting_videos_6_event_0\n",
      "--------\n",
      "vote_count_jumps_1_event_0\n"
     ]
    },
    {
     "name": "stderr",
     "output_type": "stream",
     "text": [
      "WARNING:pystan:n_eff / iter below 0.001 indicates that the effective sample size has likely been overestimated\n",
      "WARNING:pystan:Rhat above 1.1 or below 0.9 indicates that the chains very likely have not mixed\n",
      "WARNING:pystan:352 of 4000 iterations saturated the maximum tree depth of 10 (8.8 %)\n",
      "WARNING:pystan:Run again with max_treedepth larger than 10 to avoid saturation\n"
     ]
    },
    {
     "name": "stdout",
     "output_type": "stream",
     "text": [
      "--------\n",
      "vote_count_jumps_2_event_0\n",
      "--------\n",
      "vote_count_jumps_2_event_1\n",
      "--------\n",
      "voting_machines_1_event_0\n",
      "--------\n",
      "voting_machines_2_event_0\n",
      "--------\n",
      "voting_machines_3_event_0\n"
     ]
    },
    {
     "name": "stderr",
     "output_type": "stream",
     "text": [
      "WARNING:pystan:n_eff / iter below 0.001 indicates that the effective sample size has likely been overestimated\n",
      "WARNING:pystan:Rhat above 1.1 or below 0.9 indicates that the chains very likely have not mixed\n",
      "WARNING:pystan:427 of 4000 iterations ended with a divergence (10.7 %).\n",
      "WARNING:pystan:Try running with adapt_delta larger than 0.99 to remove the divergences.\n",
      "WARNING:pystan:146 of 4000 iterations saturated the maximum tree depth of 10 (3.65 %)\n",
      "WARNING:pystan:Run again with max_treedepth larger than 10 to avoid saturation\n",
      "WARNING:pystan:Chain 2: E-BFMI = 0.181\n",
      "WARNING:pystan:E-BFMI below 0.2 indicates you may need to reparameterize your model\n"
     ]
    },
    {
     "name": "stdout",
     "output_type": "stream",
     "text": [
      "--------\n",
      "voting_machines_3_event_1\n",
      "--------\n",
      "voting_machines_3_event_2\n",
      "--------\n",
      "voting_machines_4_event_0\n",
      "--------\n",
      "voting_machines_5_event_0\n",
      "--------\n",
      "voting_machines_6_event_0\n"
     ]
    },
    {
     "name": "stderr",
     "output_type": "stream",
     "text": [
      "WARNING:pystan:1 of 4000 iterations saturated the maximum tree depth of 10 (0.025 %)\n",
      "WARNING:pystan:Run again with max_treedepth larger than 10 to avoid saturation\n"
     ]
    },
    {
     "name": "stdout",
     "output_type": "stream",
     "text": [
      "--------\n",
      "voting_machines_6_event_1\n",
      "--------\n",
      "voting_machines_7_event_0\n",
      "--------\n",
      "voting_machines_7_event_1\n",
      "--------\n",
      "voting_twice1_event_0\n",
      "--------\n",
      "voting_twice2_event_0\n",
      "--------\n",
      "voting_twice3_event_0\n",
      "--------\n",
      "voting_twice3_event_1\n",
      "--------\n",
      "voting_twice3_event_2\n"
     ]
    },
    {
     "name": "stderr",
     "output_type": "stream",
     "text": [
      "WARNING:pystan:n_eff / iter below 0.001 indicates that the effective sample size has likely been overestimated\n",
      "WARNING:pystan:Rhat above 1.1 or below 0.9 indicates that the chains very likely have not mixed\n",
      "WARNING:pystan:1044 of 4000 iterations ended with a divergence (26.1 %).\n",
      "WARNING:pystan:Try running with adapt_delta larger than 0.99 to remove the divergences.\n",
      "WARNING:pystan:Chain 2: E-BFMI = 0.119\n",
      "WARNING:pystan:Chain 3: E-BFMI = 0.106\n",
      "WARNING:pystan:Chain 4: E-BFMI = 0.0484\n",
      "WARNING:pystan:E-BFMI below 0.2 indicates you may need to reparameterize your model\n",
      "WARNING:pystan:n_eff / iter below 0.001 indicates that the effective sample size has likely been overestimated\n",
      "WARNING:pystan:Rhat above 1.1 or below 0.9 indicates that the chains very likely have not mixed\n",
      "WARNING:pystan:159 of 4000 iterations ended with a divergence (3.98 %).\n",
      "WARNING:pystan:Try running with adapt_delta larger than 0.99 to remove the divergences.\n",
      "WARNING:pystan:Chain 2: E-BFMI = 0.15\n",
      "WARNING:pystan:E-BFMI below 0.2 indicates you may need to reparameterize your model\n"
     ]
    },
    {
     "name": "stdout",
     "output_type": "stream",
     "text": [
      "--------\n",
      "voting_twice3_event_3\n",
      "--------\n",
      "voting_twice3_event_4\n",
      "--------\n",
      "voting_twice3_event_5\n",
      "--------\n",
      "voting_twice5_event_0\n",
      "--------\n",
      "voting_twice5_event_1\n"
     ]
    },
    {
     "name": "stderr",
     "output_type": "stream",
     "text": [
      "WARNING:pystan:Rhat above 1.1 or below 0.9 indicates that the chains very likely have not mixed\n",
      "WARNING:pystan:38 of 4000 iterations saturated the maximum tree depth of 10 (0.95 %)\n",
      "WARNING:pystan:Run again with max_treedepth larger than 10 to avoid saturation\n"
     ]
    },
    {
     "name": "stdout",
     "output_type": "stream",
     "text": [
      "--------\n",
      "voting_twice5_event_2\n",
      "--------\n",
      "whistleblower_1_event_0\n",
      "--------\n",
      "whistleblower_2_event_0\n",
      "--------\n",
      "whistleblower_2_event_1\n",
      "--------\n",
      "whistleblower_2_event_2\n",
      "--------\n",
      "whistleblower_2_event_3\n"
     ]
    },
    {
     "name": "stderr",
     "output_type": "stream",
     "text": [
      "WARNING:pystan:n_eff / iter below 0.001 indicates that the effective sample size has likely been overestimated\n",
      "WARNING:pystan:Rhat above 1.1 or below 0.9 indicates that the chains very likely have not mixed\n",
      "WARNING:pystan:867 of 4000 iterations ended with a divergence (21.7 %).\n",
      "WARNING:pystan:Try running with adapt_delta larger than 0.99 to remove the divergences.\n",
      "WARNING:pystan:Chain 1: E-BFMI = 0.136\n",
      "WARNING:pystan:Chain 3: E-BFMI = 0.0894\n",
      "WARNING:pystan:E-BFMI below 0.2 indicates you may need to reparameterize your model\n"
     ]
    },
    {
     "name": "stdout",
     "output_type": "stream",
     "text": [
      "--------\n",
      "whistleblower_2_event_4\n",
      "--------\n",
      "whistleblower_2_event_5\n"
     ]
    },
    {
     "name": "stderr",
     "output_type": "stream",
     "text": [
      "WARNING:pystan:18 of 4000 iterations saturated the maximum tree depth of 10 (0.45 %)\n",
      "WARNING:pystan:Run again with max_treedepth larger than 10 to avoid saturation\n"
     ]
    },
    {
     "name": "stdout",
     "output_type": "stream",
     "text": [
      "--------\n",
      "whistleblower_3_event_0\n",
      "--------\n",
      "whistleblower_4_event_0\n",
      "--------\n",
      "whistleblower_4_event_1\n"
     ]
    }
   ],
   "source": [
    "row = events.iloc[3]\n",
    "import src.model_fit as srcmf\n",
    "out = events.T.progress_apply(srcmf.check_fit)\n",
    "events = pd.DataFrame.from_records(out)\n"
   ]
  },
  {
   "cell_type": "markdown",
   "id": "cc7b0c7a",
   "metadata": {},
   "source": [
    "<h3>Evaluate Inclusion</h3>"
   ]
  },
  {
   "cell_type": "code",
   "execution_count": 52,
   "id": "16c15740",
   "metadata": {},
   "outputs": [
    {
     "name": "stdout",
     "output_type": "stream",
     "text": [
      "Included 216 events, 81.203007518797 percent of total\n",
      "Total tweets: 5951953.0\n",
      "Total tweets: 9022062.0\n"
     ]
    }
   ],
   "source": [
    "events['included'] = (events['Rhat'] & events['final_predicted'] & events['divergence'] \\\n",
    "                      &(events['end']-events['start'] > 12))\n",
    "print('Included %s events, %s percent of total' % (str(events['included'].sum()), \n",
    "                                           str(100*np.mean(events['included']))))\n",
    "print('Total tweets: %s' % str(np.sum(events[events['included']]['observed_engagement'])))\n",
    "print('Total tweets: %s' % str(np.sum(events['observed_engagement'])))\n",
    "events.to_parquet('./data/events_fitted.parquet',compression=None)"
   ]
  },
  {
   "cell_type": "markdown",
   "id": "294451ae",
   "metadata": {},
   "source": [
    "<h3>Plot figures for review and SI</h3>"
   ]
  },
  {
   "cell_type": "code",
   "execution_count": 11,
   "id": "7b8280b8",
   "metadata": {},
   "outputs": [],
   "source": [
    "events = pd.read_parquet('./data/events_fitted.parquet')"
   ]
  },
  {
   "cell_type": "code",
   "execution_count": 12,
   "id": "a131f8d0",
   "metadata": {},
   "outputs": [
    {
     "data": {
      "application/vnd.jupyter.widget-view+json": {
       "model_id": "9f1da45eb1ab475cba44aeb6376ed068",
       "version_major": 2,
       "version_minor": 0
      },
      "text/plain": [
       "VBox(children=(HBox(children=(IntProgress(value=0, description='0.00%', max=19), Label(value='0 / 19'))), HBox…"
      ]
     },
     "metadata": {},
     "output_type": "display_data"
    }
   ],
   "source": [
    "from src.figures import plot_posterior_and_save\n",
    "_ =events.T.parallel_apply(plot_posterior_and_save,keep=False)"
   ]
  },
  {
   "cell_type": "code",
   "execution_count": 13,
   "id": "a133b02f",
   "metadata": {},
   "outputs": [],
   "source": [
    "from src.figures import SI_Posterior\n",
    "import seaborn as sns\n",
    "# gridspec inside gridspec\n",
    "sns.set_style('white')\n",
    "included = events[events['included']]\n",
    "SI_Posterior(included)\n"
   ]
  },
  {
   "cell_type": "markdown",
   "id": "b5051f61",
   "metadata": {},
   "source": [
    "<h1>Simulations and output</h1>"
   ]
  },
  {
   "cell_type": "markdown",
   "id": "b9cc67a9",
   "metadata": {},
   "source": [
    "Now that we have parameter estimates for all included events, we can use these parameters to simulate engagement while varying parameters. Our simulations (code in src.simulation.py) seed the first time-step with actual data. Beginning on the second time step, we estimate the number of new users that will share the content. We then draw follower counts from the observed follower counts at that time step in the data. The log of the sum of follower counts is added to the virality which is used in the subsequent time step to predict posts. This processes is repeated for the length of the observed event. We repeat this for all events, normalizing time on a 0-1 scale and summing the posteriori distributions to evaluate engagement. \n",
    "\n",
    "There's a wall of code ahead, but most of it is specifying the parameters for the simuations. This is accomplished with two dataframes. *included* specifies parmaters related a given event, and *sim_df* specifies the paramters for a given simulation of all events. We start by definining a baseline condition where no parameters of the model are altered and the aggregated data used includes all follower (i.e. from /data/timeseries/aggregated). We then modify this entry for various conditions either pointing the simulation to a different set of aggregated data with removed users, altering nudges, or implementing various removal and virality circuit breakers. This code should be expected to take a couple of hours with 8 cores and 500 simulations per event per condition (110000 total). \n",
    "\n",
    "The nice thing about this approach is that we can just send the rows we care about to the plotting function and get out the plots we want. Be careful when specifying which rows to be sure you're getting the right one. The nice thing is that by color coding conditions in the dataframe, it's pretty easy to see when you've snagged a wrong one. When in doubt, check *sim_df.iloc[[list_of_rows]]*. As we lack our color check when making tables, we're going to generate them along with figures just for a little safety. \n"
   ]
  },
  {
   "cell_type": "markdown",
   "id": "a0dfc57f",
   "metadata": {},
   "source": [
    "<h2>Define and run simulations</h2>"
   ]
  },
  {
   "cell_type": "code",
   "execution_count": 12,
   "id": "2b525de0",
   "metadata": {},
   "outputs": [],
   "source": [
    "events = pd.read_parquet('./data/events_fitted.parquet')\n",
    "included = events[events['included']]\n",
    "#This gets rid of an obnoxious warning\n",
    "pd.options.mode.chained_assignment = None  # default='warn'\n",
    "\n",
    "included['start'] = included['start'].astype('int')\n",
    "included['end'] = included['end'].astype('int')"
   ]
  },
  {
   "cell_type": "code",
   "execution_count": 21,
   "id": "6b99b176",
   "metadata": {},
   "outputs": [
    {
     "data": {
      "text/html": [
       "<div>\n",
       "<style scoped>\n",
       "    .dataframe tbody tr th:only-of-type {\n",
       "        vertical-align: middle;\n",
       "    }\n",
       "\n",
       "    .dataframe tbody tr th {\n",
       "        vertical-align: top;\n",
       "    }\n",
       "\n",
       "    .dataframe thead th {\n",
       "        text-align: right;\n",
       "    }\n",
       "</style>\n",
       "<table border=\"1\" class=\"dataframe\">\n",
       "  <thead>\n",
       "    <tr style=\"text-align: right;\">\n",
       "      <th></th>\n",
       "      <th>n_eff</th>\n",
       "      <th>Rhat</th>\n",
       "      <th>divergence</th>\n",
       "      <th>treedepth</th>\n",
       "      <th>energy</th>\n",
       "      <th>observed_engagement</th>\n",
       "      <th>y_0</th>\n",
       "      <th>final_predicted</th>\n",
       "      <th>incident_name</th>\n",
       "      <th>start</th>\n",
       "      <th>...</th>\n",
       "      <th>included</th>\n",
       "      <th>10K_loc</th>\n",
       "      <th>50K_loc</th>\n",
       "      <th>100K_loc</th>\n",
       "      <th>500K_loc</th>\n",
       "      <th>aggregated_loc</th>\n",
       "      <th>currently_loc</th>\n",
       "      <th>verified_loc</th>\n",
       "      <th>modest_loc</th>\n",
       "      <th>aggressive_loc</th>\n",
       "    </tr>\n",
       "  </thead>\n",
       "  <tbody>\n",
       "    <tr>\n",
       "      <th>1</th>\n",
       "      <td>True</td>\n",
       "      <td>True</td>\n",
       "      <td>True</td>\n",
       "      <td>True</td>\n",
       "      <td>True</td>\n",
       "      <td>40649.0</td>\n",
       "      <td>0.0</td>\n",
       "      <td>True</td>\n",
       "      <td>bad_statistics_3</td>\n",
       "      <td>836</td>\n",
       "      <td>...</td>\n",
       "      <td>True</td>\n",
       "      <td>./data/timeseries/10K/bad_statistics_3_raw.par...</td>\n",
       "      <td>./data/timeseries/50K/bad_statistics_3_raw.par...</td>\n",
       "      <td>./data/timeseries/100K/bad_statistics_3_raw.pa...</td>\n",
       "      <td>./data/timeseries/500K/bad_statistics_3_raw.pa...</td>\n",
       "      <td>./data/timeseries/aggregated/bad_statistics_3_...</td>\n",
       "      <td>./data/timeseries/currently/bad_statistics_3_r...</td>\n",
       "      <td>./data/timeseries/Verified/bad_statistics_3_ra...</td>\n",
       "      <td>./data/timeseries/modest/bad_statistics_3_raw....</td>\n",
       "      <td>./data/timeseries/aggressive/bad_statistics_3_...</td>\n",
       "    </tr>\n",
       "    <tr>\n",
       "      <th>2</th>\n",
       "      <td>True</td>\n",
       "      <td>True</td>\n",
       "      <td>True</td>\n",
       "      <td>True</td>\n",
       "      <td>True</td>\n",
       "      <td>7284.0</td>\n",
       "      <td>18.0</td>\n",
       "      <td>True</td>\n",
       "      <td>bad_statistics_3</td>\n",
       "      <td>987</td>\n",
       "      <td>...</td>\n",
       "      <td>True</td>\n",
       "      <td>./data/timeseries/10K/bad_statistics_3_raw.par...</td>\n",
       "      <td>./data/timeseries/50K/bad_statistics_3_raw.par...</td>\n",
       "      <td>./data/timeseries/100K/bad_statistics_3_raw.pa...</td>\n",
       "      <td>./data/timeseries/500K/bad_statistics_3_raw.pa...</td>\n",
       "      <td>./data/timeseries/aggregated/bad_statistics_3_...</td>\n",
       "      <td>./data/timeseries/currently/bad_statistics_3_r...</td>\n",
       "      <td>./data/timeseries/Verified/bad_statistics_3_ra...</td>\n",
       "      <td>./data/timeseries/modest/bad_statistics_3_raw....</td>\n",
       "      <td>./data/timeseries/aggressive/bad_statistics_3_...</td>\n",
       "    </tr>\n",
       "    <tr>\n",
       "      <th>3</th>\n",
       "      <td>True</td>\n",
       "      <td>True</td>\n",
       "      <td>True</td>\n",
       "      <td>True</td>\n",
       "      <td>True</td>\n",
       "      <td>21557.0</td>\n",
       "      <td>66.0</td>\n",
       "      <td>True</td>\n",
       "      <td>bad_statistics_4</td>\n",
       "      <td>308</td>\n",
       "      <td>...</td>\n",
       "      <td>True</td>\n",
       "      <td>./data/timeseries/10K/bad_statistics_4_raw.par...</td>\n",
       "      <td>./data/timeseries/50K/bad_statistics_4_raw.par...</td>\n",
       "      <td>./data/timeseries/100K/bad_statistics_4_raw.pa...</td>\n",
       "      <td>./data/timeseries/500K/bad_statistics_4_raw.pa...</td>\n",
       "      <td>./data/timeseries/aggregated/bad_statistics_4_...</td>\n",
       "      <td>./data/timeseries/currently/bad_statistics_4_r...</td>\n",
       "      <td>./data/timeseries/Verified/bad_statistics_4_ra...</td>\n",
       "      <td>./data/timeseries/modest/bad_statistics_4_raw....</td>\n",
       "      <td>./data/timeseries/aggressive/bad_statistics_4_...</td>\n",
       "    </tr>\n",
       "    <tr>\n",
       "      <th>5</th>\n",
       "      <td>True</td>\n",
       "      <td>True</td>\n",
       "      <td>True</td>\n",
       "      <td>True</td>\n",
       "      <td>True</td>\n",
       "      <td>38174.0</td>\n",
       "      <td>12.0</td>\n",
       "      <td>True</td>\n",
       "      <td>bad_statistics_5</td>\n",
       "      <td>707</td>\n",
       "      <td>...</td>\n",
       "      <td>True</td>\n",
       "      <td>./data/timeseries/10K/bad_statistics_5_raw.par...</td>\n",
       "      <td>./data/timeseries/50K/bad_statistics_5_raw.par...</td>\n",
       "      <td>./data/timeseries/100K/bad_statistics_5_raw.pa...</td>\n",
       "      <td>./data/timeseries/500K/bad_statistics_5_raw.pa...</td>\n",
       "      <td>./data/timeseries/aggregated/bad_statistics_5_...</td>\n",
       "      <td>./data/timeseries/currently/bad_statistics_5_r...</td>\n",
       "      <td>./data/timeseries/Verified/bad_statistics_5_ra...</td>\n",
       "      <td>./data/timeseries/modest/bad_statistics_5_raw....</td>\n",
       "      <td>./data/timeseries/aggressive/bad_statistics_5_...</td>\n",
       "    </tr>\n",
       "    <tr>\n",
       "      <th>6</th>\n",
       "      <td>True</td>\n",
       "      <td>True</td>\n",
       "      <td>True</td>\n",
       "      <td>True</td>\n",
       "      <td>True</td>\n",
       "      <td>23846.0</td>\n",
       "      <td>30.0</td>\n",
       "      <td>True</td>\n",
       "      <td>bad_statistics_5</td>\n",
       "      <td>1256</td>\n",
       "      <td>...</td>\n",
       "      <td>True</td>\n",
       "      <td>./data/timeseries/10K/bad_statistics_5_raw.par...</td>\n",
       "      <td>./data/timeseries/50K/bad_statistics_5_raw.par...</td>\n",
       "      <td>./data/timeseries/100K/bad_statistics_5_raw.pa...</td>\n",
       "      <td>./data/timeseries/500K/bad_statistics_5_raw.pa...</td>\n",
       "      <td>./data/timeseries/aggregated/bad_statistics_5_...</td>\n",
       "      <td>./data/timeseries/currently/bad_statistics_5_r...</td>\n",
       "      <td>./data/timeseries/Verified/bad_statistics_5_ra...</td>\n",
       "      <td>./data/timeseries/modest/bad_statistics_5_raw....</td>\n",
       "      <td>./data/timeseries/aggressive/bad_statistics_5_...</td>\n",
       "    </tr>\n",
       "  </tbody>\n",
       "</table>\n",
       "<p>5 rows × 28 columns</p>\n",
       "</div>"
      ],
      "text/plain": [
       "   n_eff  Rhat  divergence  treedepth  energy  observed_engagement   y_0  \\\n",
       "1   True  True        True       True    True              40649.0   0.0   \n",
       "2   True  True        True       True    True               7284.0  18.0   \n",
       "3   True  True        True       True    True              21557.0  66.0   \n",
       "5   True  True        True       True    True              38174.0  12.0   \n",
       "6   True  True        True       True    True              23846.0  30.0   \n",
       "\n",
       "   final_predicted     incident_name  start  ...  included  \\\n",
       "1             True  bad_statistics_3    836  ...      True   \n",
       "2             True  bad_statistics_3    987  ...      True   \n",
       "3             True  bad_statistics_4    308  ...      True   \n",
       "5             True  bad_statistics_5    707  ...      True   \n",
       "6             True  bad_statistics_5   1256  ...      True   \n",
       "\n",
       "                                             10K_loc  \\\n",
       "1  ./data/timeseries/10K/bad_statistics_3_raw.par...   \n",
       "2  ./data/timeseries/10K/bad_statistics_3_raw.par...   \n",
       "3  ./data/timeseries/10K/bad_statistics_4_raw.par...   \n",
       "5  ./data/timeseries/10K/bad_statistics_5_raw.par...   \n",
       "6  ./data/timeseries/10K/bad_statistics_5_raw.par...   \n",
       "\n",
       "                                             50K_loc  \\\n",
       "1  ./data/timeseries/50K/bad_statistics_3_raw.par...   \n",
       "2  ./data/timeseries/50K/bad_statistics_3_raw.par...   \n",
       "3  ./data/timeseries/50K/bad_statistics_4_raw.par...   \n",
       "5  ./data/timeseries/50K/bad_statistics_5_raw.par...   \n",
       "6  ./data/timeseries/50K/bad_statistics_5_raw.par...   \n",
       "\n",
       "                                            100K_loc  \\\n",
       "1  ./data/timeseries/100K/bad_statistics_3_raw.pa...   \n",
       "2  ./data/timeseries/100K/bad_statistics_3_raw.pa...   \n",
       "3  ./data/timeseries/100K/bad_statistics_4_raw.pa...   \n",
       "5  ./data/timeseries/100K/bad_statistics_5_raw.pa...   \n",
       "6  ./data/timeseries/100K/bad_statistics_5_raw.pa...   \n",
       "\n",
       "                                            500K_loc  \\\n",
       "1  ./data/timeseries/500K/bad_statistics_3_raw.pa...   \n",
       "2  ./data/timeseries/500K/bad_statistics_3_raw.pa...   \n",
       "3  ./data/timeseries/500K/bad_statistics_4_raw.pa...   \n",
       "5  ./data/timeseries/500K/bad_statistics_5_raw.pa...   \n",
       "6  ./data/timeseries/500K/bad_statistics_5_raw.pa...   \n",
       "\n",
       "                                      aggregated_loc  \\\n",
       "1  ./data/timeseries/aggregated/bad_statistics_3_...   \n",
       "2  ./data/timeseries/aggregated/bad_statistics_3_...   \n",
       "3  ./data/timeseries/aggregated/bad_statistics_4_...   \n",
       "5  ./data/timeseries/aggregated/bad_statistics_5_...   \n",
       "6  ./data/timeseries/aggregated/bad_statistics_5_...   \n",
       "\n",
       "                                       currently_loc  \\\n",
       "1  ./data/timeseries/currently/bad_statistics_3_r...   \n",
       "2  ./data/timeseries/currently/bad_statistics_3_r...   \n",
       "3  ./data/timeseries/currently/bad_statistics_4_r...   \n",
       "5  ./data/timeseries/currently/bad_statistics_5_r...   \n",
       "6  ./data/timeseries/currently/bad_statistics_5_r...   \n",
       "\n",
       "                                        verified_loc  \\\n",
       "1  ./data/timeseries/Verified/bad_statistics_3_ra...   \n",
       "2  ./data/timeseries/Verified/bad_statistics_3_ra...   \n",
       "3  ./data/timeseries/Verified/bad_statistics_4_ra...   \n",
       "5  ./data/timeseries/Verified/bad_statistics_5_ra...   \n",
       "6  ./data/timeseries/Verified/bad_statistics_5_ra...   \n",
       "\n",
       "                                          modest_loc  \\\n",
       "1  ./data/timeseries/modest/bad_statistics_3_raw....   \n",
       "2  ./data/timeseries/modest/bad_statistics_3_raw....   \n",
       "3  ./data/timeseries/modest/bad_statistics_4_raw....   \n",
       "5  ./data/timeseries/modest/bad_statistics_5_raw....   \n",
       "6  ./data/timeseries/modest/bad_statistics_5_raw....   \n",
       "\n",
       "                                      aggressive_loc  \n",
       "1  ./data/timeseries/aggressive/bad_statistics_3_...  \n",
       "2  ./data/timeseries/aggressive/bad_statistics_3_...  \n",
       "3  ./data/timeseries/aggressive/bad_statistics_4_...  \n",
       "5  ./data/timeseries/aggressive/bad_statistics_5_...  \n",
       "6  ./data/timeseries/aggressive/bad_statistics_5_...  \n",
       "\n",
       "[5 rows x 28 columns]"
      ]
     },
     "execution_count": 21,
     "metadata": {},
     "output_type": "execute_result"
    }
   ],
   "source": [
    "#We need to add new columns so we can tell the simulation where to find\n",
    "#aggregated files with certain thresholds of 3-strikes repeat offenders\n",
    "#removed. \n",
    "\n",
    "#This gets rid of an obnoxious warning\n",
    "pd.options.mode.chained_assignment = None  # default='warn'\n",
    "\n",
    "included['data_loc']\n",
    "base_loc = root + '/data/timeseries'\n",
    "assign_data_location = lambda x: [x + str(item) + '_raw.parquet' for item in included['incident_name'].values]\n",
    "\n",
    "included['10K_loc'] = assign_data_location(base_loc + '/10K/')\n",
    "included['50K_loc']  = assign_data_location(base_loc + '/50K/')\n",
    "included['100K_loc']  = assign_data_location(base_loc + '/100K/')\n",
    "included['500K_loc']  = assign_data_location(base_loc + '/500K/')\n",
    "included['aggregated_loc']  = assign_data_location(base_loc + '/aggregated/')\n",
    "included['currently_loc']  = assign_data_location(base_loc + '/currently/')\n",
    "included['verified_loc']  = assign_data_location(base_loc + '/Verified/')\n",
    "included['modest_loc']  = assign_data_location(base_loc + '/modest/')\n",
    "included['aggressive_loc']  = assign_data_location(base_loc + '/aggressive/')\n",
    "\n",
    "included.head()\n"
   ]
  },
  {
   "cell_type": "markdown",
   "id": "71e2000e",
   "metadata": {},
   "source": [
    "<h3>"
   ]
  },
  {
   "cell_type": "code",
   "execution_count": 16,
   "id": "7b7eea15",
   "metadata": {},
   "outputs": [
    {
     "data": {
      "image/png": "[encoded data removed]",
      "text/plain": [
       "<Figure size 576x72 with 1 Axes>"
      ]
     },
     "metadata": {},
     "output_type": "display_data"
    },
    {
     "data": {
      "image/png": "[encoded data removed]",
      "text/plain": [
       "<Figure size 576x72 with 1 Axes>"
      ]
     },
     "metadata": {},
     "output_type": "display_data"
    }
   ],
   "source": [
    "pal_70s = [np.array([143,91,38])/255.0, \n",
    "           np.array([193,81,42])/255.0,\n",
    "           np.array([64,115,117])/255.0,\n",
    "           np.array([0,0,0])/255.0, \n",
    "           np.array([122,138,65])/255.0,\n",
    "           np.array([239,174,84])/255.0,\n",
    "           np.array([203,178,139])/255.0,\n",
    "              np.array([0,0,0])/255.0]\n",
    "sns.palplot(pal_70s)\n",
    "pal = sns.color_palette(\"Set2\",n_colors=8)\n",
    "sns.palplot(pal)\n",
    "pal = pal_70s"
   ]
  },
  {
   "cell_type": "code",
   "execution_count": null,
   "id": "8b7acbba",
   "metadata": {
    "tags": []
   },
   "outputs": [
    {
     "data": {
      "application/vnd.jupyter.widget-view+json": {
       "model_id": "a486723cff264fe8a69d4a1c266de9d1",
       "version_major": 2,
       "version_minor": 0
      },
      "text/plain": [
       "VBox(children=(HBox(children=(IntProgress(value=0, description='0.00%', max=13), Label(value='0 / 13'))), HBox…"
      ]
     },
     "metadata": {},
     "output_type": "display_data"
    }
   ],
   "source": [
    "#This is our baseline dictionary which we modify for various conditions. \n",
    "#Doing so ensures that we do not inadvertently set a parameter off baseline. \n",
    "baseline = dict(name='baseline',\n",
    "                plot='All',\n",
    "                num_sims=500,\n",
    "                data_location = 'data_loc',\n",
    "                nudge=1, \n",
    "                color=np.array([.15,.15,.15]),\n",
    "                stop_at=np.inf, \n",
    "                decay_value=1,\n",
    "                vcb_value=1, \n",
    "                decay_start=np.inf, \n",
    "                p_decay=0,\n",
    "                p_remove = 0,\n",
    "                freq=5)\n",
    "#Add removal at various delays\n",
    "recs = [baseline]\n",
    "stops = [15,30,60,120,240]\n",
    "stop_palette = np.array(sns.dark_palette(pal[0], reverse=True, n_colors=len(stops)+1))[1:]\n",
    "for idx in range(len(stops)):\n",
    "    add_row = baseline.copy()\n",
    "    add_row['p_decay'] = 1\n",
    "    add_row['p_remove'] = 1\n",
    "    add_row['decay_start'] = stops[idx]\n",
    "    add_row['stop_at'] = stops[idx]\n",
    "    add_row['color'] = stop_palette[idx]\n",
    "    add_row['name'] = 'removal_' + str(stops[idx])\n",
    "    recs.append(add_row)\n",
    "\n",
    "#Add probababilistic removal \n",
    "for idx in range(len(stops)):\n",
    "    add_row = baseline.copy()\n",
    "    add_row['p_decay'] = 1\n",
    "    add_row['p_remove'] = .2\n",
    "    add_row['decay_start'] = stops[idx]\n",
    "    add_row['stop_at'] = stops[idx]\n",
    "    add_row['color'] = stop_palette[idx]\n",
    "    add_row['name'] = 'prob_removal_' + str(stops[idx])\n",
    "    recs.append(add_row)\n",
    "    \n",
    "#Add virality circuit breaker applied to all posts\n",
    "vcb_palette = np.array(sns.dark_palette(pal[-3], reverse=True, n_colors=len(stops)+1))[1:]\n",
    "\n",
    "for idx in range(len(stops)):\n",
    "    add_row = baseline.copy()\n",
    "    add_row['p_decay'] = 1\n",
    "    add_row['decay_start'] = stops[idx]\n",
    "    add_row['vcb_value'] = .9\n",
    "    add_row['color'] = vcb_palette[idx]\n",
    "    add_row['name'] = 'vcb_' + str(stops[idx])\n",
    "    recs.append(add_row)\n",
    "    \n",
    "#Add virality circuit breaker applied probabalistically \n",
    "vcb_palette = np.array(sns.dark_palette(pal[-3], reverse=True, n_colors=len(stops)+1))[1:]\n",
    "for idx in range(len(stops)):\n",
    "    add_row = baseline.copy()\n",
    "    add_row['p_decay'] = .2\n",
    "    add_row['decay_start'] = stops[idx]\n",
    "    add_row['vcb_value'] = .9\n",
    "    add_row['color'] = vcb_palette[idx]\n",
    "    add_row['name'] = 'prob_vcb_' + str(stops[idx])\n",
    "    recs.append(add_row)\n",
    "    \n",
    "#Add nudges\n",
    "nudges = [.95,.9,.8,.6]\n",
    "nudge_palette = sns.dark_palette(pal[2], reverse=False, n_colors=len(nudges)+1)[1:]\n",
    "for idx in range(len(nudges)):\n",
    "    add_row = baseline.copy()\n",
    "    add_row['nudge'] = nudges[idx]\n",
    "    add_row['color'] = nudge_palette[idx]\n",
    "    add_row['name'] = 'nudge_' + str(nudges[idx])\n",
    "    recs.append(add_row)\n",
    "    \n",
    "\n",
    "\n",
    "#Add bans\n",
    "bans=['10K_loc','50K_loc','100K_loc','500K_loc'][::-1]\n",
    "ban_palette = sns.dark_palette(pal[1], reverse=False, n_colors=len(nudges)+1)[1:]\n",
    "for idx in range(len(bans)):\n",
    "    add_row = baseline.copy()\n",
    "    add_row['data_location'] = bans[idx]\n",
    "    add_row['color'] = ban_palette[idx]\n",
    "    add_row['name'] = 'bans_' + str(bans[idx].split('_')[0])\n",
    "    recs.append(add_row)\n",
    "\n",
    "bans=['verified_loc','currently_loc']\n",
    "ban_palette = [np.array([29,161,242])/255.0, pal[6]]\n",
    "for idx in range(len(bans)):\n",
    "    add_row = baseline.copy()\n",
    "    add_row['data_location'] = bans[idx]\n",
    "    add_row['color'] = ban_palette[idx]\n",
    "    add_row['name'] = 'bans_' + str(bans[idx].split('_')[0])\n",
    "    recs.append(add_row)\n",
    "\n",
    "\n",
    "#Add modest combined simulation\n",
    "add_row = baseline.copy()\n",
    "add_row['p_decay'] = .05\n",
    "add_row['p_remove'] = .2\n",
    "add_row['decay_start'] = 120\n",
    "add_row['stop_at'] = 240\n",
    "add_row['vcb_value'] = .9\n",
    "add_row['nudge'] = .9\n",
    "add_row['data_location'] = 'modest_loc'\n",
    "add_row['color'] = pal[-4]\n",
    "add_row['name'] = 'modest_0'\n",
    "recs.append(add_row)\n",
    "\n",
    "      \n",
    "    \n",
    "#Add decay only version of modest policy\n",
    "add_row = baseline.copy()\n",
    "add_row['p_decay'] = .05\n",
    "add_row['p_remove'] = .2\n",
    "add_row['decay_start'] = 120\n",
    "add_row['stop_at'] = 240\n",
    "add_row['vcb_value'] = .9\n",
    "add_row['color'] = pal[-3]\n",
    "add_row['name'] = 'modest_decay_only'\n",
    "recs.append(add_row)\n",
    "\n",
    "\n",
    "#Add nudge only version of modest policy \n",
    "add_row = baseline.copy()\n",
    "add_row['nudge'] = .9\n",
    "add_row['color'] = pal[2]\n",
    "add_row['name'] = 'modest_nudge_only'\n",
    "recs.append(add_row)\n",
    "\n",
    "#Add ban only version of modest policy \n",
    "add_row = baseline.copy()\n",
    "add_row['data_location'] = 'modest_loc'\n",
    "add_row['color'] = pal[1]\n",
    "add_row['name'] = 'modest_ban_only'\n",
    "recs.append(add_row)\n",
    "\n",
    "#Add aggressive combined simulation\n",
    "add_row = baseline.copy()\n",
    "add_row['p_decay'] = .10\n",
    "add_row['p_remove'] = .2\n",
    "add_row['decay_start'] = 60\n",
    "add_row['stop_at'] = 120\n",
    "add_row['vcb_value'] = .8\n",
    "add_row['nudge'] = .8\n",
    "add_row['data_location'] = 'aggressive_loc'\n",
    "add_row['color'] = pal[-4]\n",
    "add_row['name'] = 'aggressive_0'\n",
    "recs.append(add_row)\n",
    "\n",
    "\n",
    "#Add decay only version of aggressive policy\n",
    "add_row = baseline.copy()\n",
    "add_row['p_decay'] = .10\n",
    "add_row['p_remove'] = .2\n",
    "add_row['decay_start'] = 60\n",
    "add_row['stop_at'] = 120\n",
    "add_row['vcb_value'] = .8\n",
    "add_row['color'] = pal[-3]\n",
    "add_row['name'] = 'aggressive_decay_only'\n",
    "recs.append(add_row)\n",
    "\n",
    "    \n",
    "\n",
    "\n",
    "#Add nudge only version of aggressive policy \n",
    "add_row = baseline.copy()\n",
    "add_row['nudge'] = .8\n",
    "add_row['color'] = pal[2]\n",
    "add_row['name'] = 'aggressive_nudge_only'\n",
    "recs.append(add_row)\n",
    "\n",
    "\n",
    "\n",
    "#Add ban only version of aggressive policy \n",
    "add_row = baseline.copy()\n",
    "add_row['data_location'] = 'aggressive_loc'\n",
    "add_row['color'] = pal[1]\n",
    "add_row['name'] = 'aggressive_ban_only'\n",
    "recs.append(add_row)\n",
    "\n",
    "#Add Combined policy\n",
    "\n",
    " \n",
    "#['aggregated_loc','currently_loc','verified_loc']\n",
    "   \n",
    "    \n",
    "sim_df = pd.DataFrame.from_records(recs)\n",
    "from src.simulation import sim_row\n",
    "\n",
    "#temp = sim_row(sim_df.iloc[0],included)\n",
    "sim_df.to_csv('./output/simulations/sim_df', compression=None)\n",
    "#The keep parameter tells the simulations whether to re-run old simulations (False)\n",
    "#or keep them. This is very useful if your notebook dies. Just set it to True\n",
    "#and the simulations will pick up where they left off. \n",
    "sim_included = lambda row: sim_row(row, included,verbose=True,keep=False)\n",
    "_ = sim_df.T.parallel_apply(sim_included)\n"
   ]
  },
  {
   "cell_type": "code",
   "execution_count": 5,
   "id": "76e2cea6",
   "metadata": {},
   "outputs": [],
   "source": [
    "import matplotlib.pyplot as plt\n",
    "import string\n",
    "%matplotlib inline"
   ]
  },
  {
   "cell_type": "code",
   "execution_count": 6,
   "id": "c5404cb2-53f4-4aba-86dd-c5bb99232c8f",
   "metadata": {},
   "outputs": [],
   "source": [
    "sim_df = pd.read_csv('./output/simulations/sim_df')"
   ]
  },
  {
   "cell_type": "code",
   "execution_count": 9,
   "id": "5877c076-ca0d-4a95-9664-73f1f535df19",
   "metadata": {},
   "outputs": [],
   "source": [
    "baseline = pickle.load(open('./output/simulations/baseline.p','rb'))"
   ]
  },
  {
   "cell_type": "code",
   "execution_count": 10,
   "id": "dfc32122-ff1f-4d7a-b7ab-1fe2109c1fd6",
   "metadata": {},
   "outputs": [],
   "source": [
    "import matplotlib.pyplot as plt\n",
    "%matplotlib inline"
   ]
  },
  {
   "cell_type": "code",
   "execution_count": 13,
   "id": "a2e77073-9789-4f0d-b9e4-a8fdae36dde7",
   "metadata": {},
   "outputs": [
    {
     "data": {
      "text/plain": [
       "365.57"
      ]
     },
     "execution_count": 13,
     "metadata": {},
     "output_type": "execute_result"
    }
   ],
   "source": [
    "np.mean(np.sum(baseline[included.iloc[20]['event_name']],axis=1))"
   ]
  },
  {
   "cell_type": "code",
   "execution_count": 54,
   "id": "612d93fc-b7dc-4113-b9dd-73eab219c2a6",
   "metadata": {},
   "outputs": [
    {
     "data": {
      "image/png": "[encoded data removed]",
      "text/plain": [
       "<Figure size 432x288 with 1 Axes>"
      ]
     },
     "metadata": {
      "needs_background": "light"
     },
     "output_type": "display_data"
    }
   ],
   "source": [
    "\n",
    "xs = np.zeros(included.shape[0])\n",
    "ys = np.zeros(included.shape[0])\n",
    "for idx in range(included.shape[0]):\n",
    "    x=np.median(np.sum(baseline[included.iloc[idx]['event_name']],axis=1))\n",
    "    ci=np.percentile(np.sum(baseline[included.iloc[idx]['event_name']],axis=1), \n",
    "                     q=[5.5,50, 94.5])\n",
    "    x= ci[1]\n",
    "    ci= [ci[0], ci[2]]\n",
    "\n",
    "    y=included.iloc[idx]['observed_engagement']\n",
    "    plt.scatter(x,y,color='k',alpha=.3)\n",
    "    plt.plot([x,x], [ci[0], ci[1]],alpha=.2,color='k')\n",
    "    xs[idx] =x \n",
    "    ys[idx] = y\n",
    "plt.plot([0, 400000],[0, 400000],ls='--',color='k',alpha=.5)\n",
    "\n",
    "plt.ylabel('Observed Posts')\n",
    "plt.xlabel('Simulated Posts')\n",
    "ax = plt.gca()\n",
    "ax.set_yscale('log')\n",
    "ax.set_xscale('log')\n",
    "plt.tight_layout()\n",
    "plt.savefig('./output/figures/SI/SimulationValidation.png',dpi=500,transparent=False)"
   ]
  },
  {
   "cell_type": "markdown",
   "id": "5ff92340",
   "metadata": {},
   "source": [
    "<h2>Figures and Tables</h2>"
   ]
  },
  {
   "cell_type": "markdown",
   "id": "cc7e5e79",
   "metadata": {},
   "source": [
    "<h3>Figure 1</h3>"
   ]
  },
  {
   "cell_type": "code",
   "execution_count": 34,
   "id": "216847b9",
   "metadata": {},
   "outputs": [
    {
     "data": {
      "text/plain": [
       "n_eff                                                               True\n",
       "Rhat                                                                True\n",
       "divergence                                                          True\n",
       "treedepth                                                           True\n",
       "energy                                                              True\n",
       "observed_engagement                                               2013.0\n",
       "y_0                                                                  2.0\n",
       "final_predicted                                                     True\n",
       "incident_name                                             intimidation_8\n",
       "start                                                              16916\n",
       "end                                                                16955\n",
       "event_name                                        intimidation_8_event_4\n",
       "incident                                                  intimidation 8\n",
       "count                                                              47077\n",
       "sample_loc              ./output/posteriors/intimidation_8_event_4_raw.p\n",
       "data_loc               ./data/timeseries/aggregated/intimidation_8_ra...\n",
       "lower_predicted                                                   1610.0\n",
       "upper_predicted                                                  2487.11\n",
       "included                                                            True\n",
       "10K_loc                 ./data/timeseries/10K/intimidation_8_raw.parquet\n",
       "50K_loc                 ./data/timeseries/50K/intimidation_8_raw.parquet\n",
       "100K_loc               ./data/timeseries/100K/intimidation_8_raw.parquet\n",
       "500K_loc               ./data/timeseries/500K/intimidation_8_raw.parquet\n",
       "aggregated_loc         ./data/timeseries/aggregated/intimidation_8_ra...\n",
       "currently_loc          ./data/timeseries/currently/intimidation_8_raw...\n",
       "verified_loc           ./data/timeseries/Verified/intimidation_8_raw....\n",
       "modest_loc             ./data/timeseries/modest/intimidation_8_raw.pa...\n",
       "aggressive_loc         ./data/timeseries/aggressive/intimidation_8_ra...\n",
       "Name: 120, dtype: object"
      ]
     },
     "execution_count": 34,
     "metadata": {},
     "output_type": "execute_result"
    }
   ],
   "source": [
    "included.iloc[93]"
   ]
  },
  {
   "cell_type": "code",
   "execution_count": 51,
   "id": "3071c3e4-426e-4e0c-a318-cdfb64a0e7b1",
   "metadata": {},
   "outputs": [
    {
     "name": "stdout",
     "output_type": "stream",
     "text": [
      "n_eff                                                               True\n",
      "Rhat                                                                True\n",
      "divergence                                                          True\n",
      "treedepth                                                           True\n",
      "energy                                                              True\n",
      "observed_engagement                                             103947.0\n",
      "y_0                                                                 37.0\n",
      "final_predicted                                                     True\n",
      "incident_name                                            whistleblower_2\n",
      "start                                                               2677\n",
      "end                                                                 2882\n",
      "event_name                                       whistleblower_2_event_3\n",
      "incident                                                 whistleblower 2\n",
      "count                                                             591838\n",
      "sample_loc             ./output/posteriors/whistleblower_2_event_3_raw.p\n",
      "data_loc               ./data/timeseries/aggregated/whistleblower_2_r...\n",
      "lower_predicted                                                 97462.12\n",
      "upper_predicted                                               108796.495\n",
      "included                                                            True\n",
      "10K_loc                ./data/timeseries/10K/whistleblower_2_raw.parquet\n",
      "50K_loc                ./data/timeseries/50K/whistleblower_2_raw.parquet\n",
      "100K_loc               ./data/timeseries/100K/whistleblower_2_raw.par...\n",
      "500K_loc               ./data/timeseries/500K/whistleblower_2_raw.par...\n",
      "aggregated_loc         ./data/timeseries/aggregated/whistleblower_2_r...\n",
      "currently_loc          ./data/timeseries/currently/whistleblower_2_ra...\n",
      "verified_loc           ./data/timeseries/Verified/whistleblower_2_raw...\n",
      "modest_loc             ./data/timeseries/modest/whistleblower_2_raw.p...\n",
      "aggressive_loc         ./data/timeseries/aggressive/whistleblower_2_r...\n",
      "Name: 260, dtype: object\n"
     ]
    }
   ],
   "source": [
    "print(included.iloc[211])"
   ]
  },
  {
   "cell_type": "code",
   "execution_count": 35,
   "id": "d6f66d63",
   "metadata": {},
   "outputs": [
    {
     "data": {
      "image/png": "[encoded data removed]",
      "text/plain": [
       "<Figure size 576x576 with 4 Axes>"
      ]
     },
     "metadata": {},
     "output_type": "display_data"
    }
   ],
   "source": [
    "sns.set_context('paper',font_scale=1.25)\n",
    "sns.set_style('white')\n",
    "\n",
    "#A not quite random event\n",
    "#If it breaks when you try a random one it's because\n",
    "#Figure A adds rows before and after the event\n",
    "#which isn't possible for all events. \n",
    "row_loc = 211\n",
    "row = included.iloc[row_loc]\n",
    "\n",
    "from src.figures import plot_figure_1\n",
    "#The code for figure 1 is a bit messy. \n",
    "#The simulations and plotting for individual events\n",
    "#Is a little duct-tapey. \n",
    "plot_figure_1(row, included,pal,root='.')\n",
    "plt.savefig('./output/figures/MS/Fig1.png')"
   ]
  },
  {
   "cell_type": "markdown",
   "id": "19025f93",
   "metadata": {},
   "source": [
    "<h3>Figure 2</h3>"
   ]
  },
  {
   "cell_type": "code",
   "execution_count": 39,
   "id": "5a1cb784",
   "metadata": {},
   "outputs": [
    {
     "data": {
      "image/png": "[encoded data removed]",
      "text/plain": [
       "<Figure size 576x576 with 4 Axes>"
      ]
     },
     "metadata": {},
     "output_type": "display_data"
    }
   ],
   "source": [
    "from src.figures import plot_sims\n",
    "from src.tables import get_table\n",
    "sns.set_context('paper',font_scale=1.25)\n",
    "sns.set_style('white')\n",
    "\n",
    "fig, axs = plt.subplots(2,2,figsize=(8,8))\n",
    "axs = axs.flat\n",
    "\n",
    "for n, ax in enumerate(axs):\n",
    "    ax.text(-0.1, 1.1, string.ascii_uppercase[n], transform=ax.transAxes, \n",
    "            size=20, weight='bold')\n",
    "    \n",
    "plt.sca(axs[0])\n",
    "order = [0,5,4,3,2,1]\n",
    "table = get_table(sim_df, order)\n",
    "table.to_latex('./output/tables/full_removal.tex',index=False)\n",
    "\n",
    "plot_sims(order, sim_df, 'Delay\\n(min.)', 'stop_at')\n",
    "\n",
    "plt.sca(axs[1])\n",
    "order = [0,10,9,8,7,6]\n",
    "table = get_table(sim_df, order)\n",
    "table.to_latex('./output/tables/partial_removal.tex',index=False)\n",
    "\n",
    "plot_sims(order, sim_df, 'Delay\\n(min.)', 'stop_at')\n",
    "\n",
    "plt.sca(axs[2])\n",
    "order = [0,15,14,13,12,11]\n",
    "table = get_table(sim_df, order)\n",
    "table.to_latex('./output/tables/full_vcb.tex',index=False)\n",
    "\n",
    "plot_sims(order, sim_df, 'Delay\\n(min.)', 'decay_start')\n",
    "\n",
    "plt.sca(axs[3])\n",
    "order = [0,20,19,18,17,16]\n",
    "table = get_table(sim_df, order)\n",
    "table.to_latex('./output/tables/partial_vcb.tex',index=False)\n",
    "plot_sims(order, sim_df, 'Delay\\n(min.)', 'decay_start')\n",
    "\n",
    "plt.tight_layout()\n",
    "plt.savefig('./output/figures/MS/Fig2.png',dpi=1000)"
   ]
  },
  {
   "cell_type": "markdown",
   "id": "9dca6758",
   "metadata": {},
   "source": [
    "<h3>Figure 3</h3>\n"
   ]
  },
  {
   "cell_type": "code",
   "execution_count": 40,
   "id": "5a7c9d40",
   "metadata": {},
   "outputs": [
    {
     "name": "stderr",
     "output_type": "stream",
     "text": [
      "/opt/conda/lib/python3.7/site-packages/seaborn/_decorators.py:43: FutureWarning: Pass the following variables as keyword args: x, y. From version 0.12, the only valid positional argument will be `data`, and passing other arguments without an explicit keyword will result in an error or misinterpretation.\n",
      "  FutureWarning\n"
     ]
    },
    {
     "data": {
      "image/png": "[encoded data removed]",
      "text/plain": [
       "<Figure size 576x576 with 4 Axes>"
      ]
     },
     "metadata": {},
     "output_type": "display_data"
    }
   ],
   "source": [
    "from src.figures import plot_sims\n",
    "from src.tables import get_table\n",
    "sns.set_context('paper',font_scale=1.25)\n",
    "sns.set_style('white')\n",
    "fig, axs = plt.subplots(2,2,figsize=(8,8))\n",
    "axs = axs.flat\n",
    "\n",
    "for n, ax in enumerate(axs):\n",
    "    ax.text(-0.1, 1.1, string.ascii_uppercase[n], transform=ax.transAxes, \n",
    "            size=20, weight='bold')\n",
    "    \n",
    "plt.sca(axs[0])\n",
    "order = [0,21,22,23,24]\n",
    "\n",
    "table = get_table(sim_df, order)\n",
    "table.to_latex('./output/tables/nudge.tex',index=False)\n",
    "\n",
    "plot_sims(order, sim_df, 'Nudge', 'nudge')\n",
    "labels = (100-100*sim_df.iloc[order]['nudge'].values).astype('int').tolist()\n",
    "labels[0] = 'None'\n",
    "legend = plt.legend(labels=labels,title='Nudge (%)',loc=2,prop={'size': 8})\n",
    "legend.get_title().set_fontsize('10')\n",
    "\n",
    "plt.sca(axs[1])\n",
    "ban_df = pd.read_parquet(root + '/data/ban_df_counts.parquet')\n",
    "temp_pal = sns.dark_palette(pal[1], reverse=False, n_colors=len(nudges)+1)[1:]\n",
    "temp_pal.append( np.array([29,161,242])/255.0)\n",
    "temp_pal.append(np.array(pal[-4]))\n",
    "temp_pal.append(pal[-4])\n",
    "temp_pal.append(pal[6])\n",
    "\n",
    "sns.barplot(ban_df['Total removed'],\n",
    "            ban_df['Policy'], palette=temp_pal)\n",
    "plt.ylabel('')\n",
    "\n",
    "plt.sca(axs[2])\n",
    "order = [0,29,30]\n",
    "table = get_table(sim_df, order)\n",
    "table.to_latex('./output/tables/ban_current_verified.tex',index=False)\n",
    "\n",
    "plot_sims(order, sim_df, 'Threshold', 'nudge')\n",
    "labels = ['Baseline', 'Verified', 'Currently']\n",
    "labels[0] = 'None'\n",
    "legend = plt.legend(labels=labels,title='Criteria',loc=2,prop={'size': 8})\n",
    "legend.get_title().set_fontsize('10')\n",
    "\n",
    "\n",
    "plt.sca(axs[3])\n",
    "order = [0,25,26,27,28]\n",
    "table = get_table(sim_df, order)\n",
    "table.to_latex('./output/tables/ban_threshold.tex',index=False)\n",
    "\n",
    "plot_sims(order, sim_df, 'Threshold', 'nudge')\n",
    "labels = ['Base', '500K', '100K', '50K', '10K']\n",
    "labels[0] = 'None'\n",
    "legend = plt.legend(labels=labels,title='Criteria',loc=2,prop={'size': 8})\n",
    "legend.get_title().set_fontsize('10')\n",
    "\n",
    "plt.tight_layout()\n",
    "plt.savefig('./output/figures/MS/Fig3.png',dpi=1000)"
   ]
  },
  {
   "cell_type": "markdown",
   "id": "2d1bf562",
   "metadata": {},
   "source": [
    "<h2> Total reduction in engagment </h2>"
   ]
  },
  {
   "cell_type": "code",
   "execution_count": 41,
   "id": "54e757fa",
   "metadata": {},
   "outputs": [],
   "source": [
    "incidents = pd.read_parquet('./data/incidents.parquet')\n",
    "events = pd.read_parquet('./data/events_fitted.parquet')"
   ]
  },
  {
   "cell_type": "code",
   "execution_count": 42,
   "id": "e8e4e2d4",
   "metadata": {},
   "outputs": [
    {
     "name": "stdout",
     "output_type": "stream",
     "text": [
      "Total engagement\n",
      "12915376.0\n",
      "Before Engagement Total, Percent\n",
      "1547731.0\n",
      "11.98\n",
      "During Engagement Total, Percent\n",
      "5150993.0\n",
      "39.88\n",
      "After Engagement Total, Percent\n",
      "6216652.0\n",
      "48.13\n"
     ]
    }
   ],
   "source": [
    "import src.adjustment as srcadj\n",
    "max_events_incidents = srcadj.get_adjusted_df(events,incidents)\n",
    "srcadj.print_engagment(max_events_incidents)"
   ]
  },
  {
   "cell_type": "code",
   "execution_count": 43,
   "id": "a4f313f5",
   "metadata": {},
   "outputs": [
    {
     "name": "stderr",
     "output_type": "stream",
     "text": [
      "INFO:pystan:COMPILING THE C++ CODE FOR MODEL anon_model_bcb3372f83e3dafe0adb2f026e6c7f1d NOW.\n"
     ]
    }
   ],
   "source": [
    "neg_binom_glm = pystan.StanModel(file='./src/neg_binom.stan')"
   ]
  },
  {
   "cell_type": "code",
   "execution_count": 44,
   "id": "3b1c626c",
   "metadata": {},
   "outputs": [
    {
     "name": "stdout",
     "output_type": "stream",
     "text": [
      "Inference for Stan model: anon_model_bcb3372f83e3dafe0adb2f026e6c7f1d.\n",
      "4 chains, each with iter=2000; warmup=1000; thin=1; \n",
      "post-warmup draws per chain=1000, total post-warmup draws=4000.\n",
      "\n",
      "        mean se_mean     sd   2.5%    25%    50%    75%  97.5%  n_eff   Rhat\n",
      "beta    0.94  2.2e-4   0.01   0.92   0.94   0.94   0.95   0.97   3407    1.0\n",
      "sigma   1.43  1.6e-3   0.09   1.26   1.37   1.43   1.49   1.62   3093    1.0\n",
      "\n",
      "Samples were drawn using NUTS at Fri Apr 23 16:56:44 2021.\n",
      "For each parameter, n_eff is a crude measure of effective sample size,\n",
      "and Rhat is the potential scale reduction factor on split chains (at \n",
      "convergence, Rhat=1).\n"
     ]
    }
   ],
   "source": [
    "neg_binom_samples,x_sim = srcadj.sample_neg_binom(neg_binom_glm, max_events_incidents)\n",
    "print(pystan.stansummary(neg_binom_samples,pars=['beta','sigma']))"
   ]
  },
  {
   "cell_type": "code",
   "execution_count": 45,
   "id": "7d7c2bab",
   "metadata": {},
   "outputs": [
    {
     "name": "stdout",
     "output_type": "stream",
     "text": [
      "[0.92451207 0.94463994 0.96554961]\n",
      "[1.2974198  1.42652956 1.58119325]\n"
     ]
    },
    {
     "data": {
      "text/html": [
       "<div>\n",
       "<style scoped>\n",
       "    .dataframe tbody tr th:only-of-type {\n",
       "        vertical-align: middle;\n",
       "    }\n",
       "\n",
       "    .dataframe tbody tr th {\n",
       "        vertical-align: top;\n",
       "    }\n",
       "\n",
       "    .dataframe thead th {\n",
       "        text-align: right;\n",
       "    }\n",
       "</style>\n",
       "<table border=\"1\" class=\"dataframe\">\n",
       "  <thead>\n",
       "    <tr style=\"text-align: right;\">\n",
       "      <th></th>\n",
       "      <th>name</th>\n",
       "      <th>$\\mu (\\% change)$</th>\n",
       "      <th>5.5\\%</th>\n",
       "      <th>94.5\\%</th>\n",
       "    </tr>\n",
       "  </thead>\n",
       "  <tbody>\n",
       "    <tr>\n",
       "      <th>0</th>\n",
       "      <td>beta</td>\n",
       "      <td>0.94464</td>\n",
       "      <td>0.92</td>\n",
       "      <td>0.97</td>\n",
       "    </tr>\n",
       "    <tr>\n",
       "      <th>1</th>\n",
       "      <td>sigma</td>\n",
       "      <td>1.42653</td>\n",
       "      <td>1.3</td>\n",
       "      <td>1.58</td>\n",
       "    </tr>\n",
       "  </tbody>\n",
       "</table>\n",
       "</div>"
      ],
      "text/plain": [
       "    name  $\\mu (\\% change)$ 5.5\\% 94.5\\%\n",
       "0   beta            0.94464  0.92   0.97\n",
       "1  sigma            1.42653   1.3   1.58"
      ]
     },
     "execution_count": 45,
     "metadata": {},
     "output_type": "execute_result"
    }
   ],
   "source": [
    "ci_beta = np.percentile(neg_binom_samples['beta'], q=[5.5,50,94.5])\n",
    "ci_sigma = np.percentile(neg_binom_samples['beta'], q=[5.5,50,94.5])\n",
    "outrows = []\n",
    "\n",
    "for name in ['beta','sigma']:\n",
    "    ci = np.percentile(neg_binom_samples[name], q=[5.5,50,94.5])\n",
    "    print(ci)\n",
    "    outrows.append({'name':name,\n",
    "     '$\\mu (\\% change)$':ci[1], \n",
    "     '5.5\\%':str(np.round(ci[0],2)),\n",
    "     '94.5\\%':str(np.round(ci[2],2))})\n",
    "pd.DataFrame(outrows).to_latex('./output/tables/LogNormalRegression.tex',index=False)"
   ]
  },
  {
   "cell_type": "code",
   "execution_count": 46,
   "id": "d872f6a4",
   "metadata": {},
   "outputs": [],
   "source": [
    "import src.adjustment as srcadj\n",
    "order = [0,36,37,38,35]\n",
    "\n",
    "plot_dfs,colors = srcadj.get_plot_df(order,max_events_incidents, sim_df, neg_binom_samples)"
   ]
  },
  {
   "cell_type": "code",
   "execution_count": 48,
   "id": "973a0710",
   "metadata": {},
   "outputs": [
    {
     "data": {
      "image/png": "[encoded data removed]",
      "text/plain": [
       "<Figure size 576x576 with 4 Axes>"
      ]
     },
     "metadata": {},
     "output_type": "display_data"
    }
   ],
   "source": [
    "import seaborn as sns\n",
    "from src.figures import plot4c\n",
    "\n",
    "fig, axs = plt.subplots(2,2,figsize=(8,8))\n",
    "axs = axs.flat\n",
    "\n",
    "for n, ax in enumerate(axs):\n",
    "    ax.text(-0.1, 1.1, string.ascii_uppercase[n], transform=ax.transAxes, \n",
    "            size=20, weight='bold')\n",
    "    \n",
    "plt.sca(axs[0])   \n",
    "order = [0,32,33,34,31]\n",
    "table = get_table(sim_df, order)\n",
    "table.to_latex('./output/tables/modest.tex',index=False)\n",
    "\n",
    "plot_sims(order, sim_df, 'Threshold', 'nudge')\n",
    "labels = ['Base','Decay', 'Nudge', 'Ban', 'Modest' ] #Double check label ordering\n",
    "legend = plt.legend(labels=labels,title='Policy',loc=2,prop={'size': 8})\n",
    "legend.get_title().set_fontsize('10')\n",
    "\n",
    "plt.sca(axs[1])   \n",
    "order = [0,36,37,38,35]\n",
    "table = get_table(sim_df, order)\n",
    "table.to_latex('./output/tables/aggressive.tex',index=False)\n",
    "\n",
    "plot_sims(order, sim_df, 'Threshold', 'nudge')\n",
    "labels = ['Base','Decay', 'Nudge', 'Ban', 'Aggressive' ]\n",
    "legend = plt.legend(labels=labels,title='Policy',loc=2,prop={'size': 8})\n",
    "legend.get_title().set_fontsize('10')\n",
    "\n",
    "#Define some values to simulate in generated quantities block\n",
    "x_sim = np.logspace(np.log(np.min(max_events_incidents['observed_engagement'])-10),\n",
    "                np.log(np.max(max_events_incidents['observed_engagement'])+20),20,base=np.e)\n",
    "plt.sca(axs[2])\n",
    "plot4c(neg_binom_samples, max_events_incidents,x_sim)\n",
    "\n",
    "plt.sca(axs[3])\n",
    "sns.violinplot(y='name', x='total_adjusted',data=plot_dfs,palette=colors)\n",
    "plt.xlabel('Post-event engagement\\n(millions of tweets)')\n",
    "plt.ylabel(None)\n",
    "plt.xlim(0,)\n",
    "plt.tight_layout()\n",
    "plt.savefig('./output/figures/MS/Fig4.png',dpi=1000)"
   ]
  },
  {
   "cell_type": "code",
   "execution_count": 49,
   "id": "6de5041c",
   "metadata": {},
   "outputs": [],
   "source": [
    "order = [0,32,33,34,31]\n",
    "table = get_table(sim_df, order)\n",
    "plot_dfs_modest,colors_modest = srcadj.get_plot_df(order,max_events_incidents, sim_df, neg_binom_samples)"
   ]
  },
  {
   "cell_type": "code",
   "execution_count": 50,
   "id": "427809b8",
   "metadata": {},
   "outputs": [
    {
     "data": {
      "image/png": "[encoded data removed]",
      "text/plain": [
       "<Figure size 288x288 with 1 Axes>"
      ]
     },
     "metadata": {},
     "output_type": "display_data"
    }
   ],
   "source": [
    "sns.set_style('white')\n",
    "sns.set_context('paper',font_scale=1.5)\n",
    "plt.figure(figsize=(4,4))\n",
    "sns.violinplot(y='name', x='total_adjusted',data=plot_dfs_modest,palette=colors)\n",
    "plt.xlabel('Post-event engagement\\n(millions of tweets)')\n",
    "plt.ylabel(None)\n",
    "plt.xlim(0,)\n",
    "plt.tight_layout()\n",
    "plt.savefig('./output/figures/SI/SIModest.png',dpi=1000)"
   ]
  }
 ],
 "metadata": {
  "kernelspec": {
   "display_name": "Python 3",
   "language": "python",
   "name": "python3"
  },
  "language_info": {
   "codemirror_mode": {
    "name": "ipython",
    "version": 3
   },
   "file_extension": ".py",
   "mimetype": "text/x-python",
   "name": "python",
   "nbconvert_exporter": "python",
   "pygments_lexer": "ipython3",
   "version": "3.7.10"
  }
 },
 "nbformat": 4,
 "nbformat_minor": 5
}
